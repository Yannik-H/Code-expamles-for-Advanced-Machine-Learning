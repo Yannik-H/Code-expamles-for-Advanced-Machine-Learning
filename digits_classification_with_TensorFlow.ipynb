{
  "nbformat": 4,
  "nbformat_minor": 0,
  "metadata": {
    "kernelspec": {
      "display_name": "Python 3",
      "language": "python",
      "name": "python3"
    },
    "language_info": {
      "codemirror_mode": {
        "name": "ipython",
        "version": 3
      },
      "file_extension": ".py",
      "mimetype": "text/x-python",
      "name": "python",
      "nbconvert_exporter": "python",
      "pygments_lexer": "ipython3",
      "version": "3.6.5"
    },
    "colab": {
      "name": "“digits_classification.ipynb”的副本",
      "provenance": [],
      "include_colab_link": true
    }
  },
  "cells": [
    {
      "cell_type": "markdown",
      "metadata": {
        "id": "view-in-github",
        "colab_type": "text"
      },
      "source": [
        "<a href=\"https://colab.research.google.com/github/Yannik-H/Code-expamles-for-Advanced-Machine-Learning/blob/master/digits_classification_with_TensorFlow.ipynb\" target=\"_parent\"><img src=\"https://colab.research.google.com/assets/colab-badge.svg\" alt=\"Open In Colab\"/></a>"
      ]
    },
    {
      "cell_type": "code",
      "metadata": {
        "id": "Sr5qfW0PZTU6",
        "colab_type": "code",
        "colab": {
          "base_uri": "https://localhost:8080/",
          "height": 35
        },
        "outputId": "ed4c3b69-6732-47be-ccc2-111185c21e55"
      },
      "source": [
        "# set tf 1.x for colab\n",
        "%tensorflow_version 1.x"
      ],
      "execution_count": 2,
      "outputs": [
        {
          "output_type": "stream",
          "text": [
            "TensorFlow 1.x selected.\n"
          ],
          "name": "stdout"
        }
      ]
    },
    {
      "cell_type": "code",
      "metadata": {
        "id": "aNxcW9S-PaZj",
        "colab_type": "code",
        "colab": {
          "base_uri": "https://localhost:8080/",
          "height": 345
        },
        "outputId": "78e93550-67eb-4504-9901-9d145fad1c9c"
      },
      "source": [
        "! shred -u setup_google_colab.py\n",
        "! wget https://raw.githubusercontent.com/hse-aml/intro-to-dl/master/setup_google_colab.py -O setup_google_colab.py\n",
        "import setup_google_colab\n",
        "# please, uncomment the week you're working on\n",
        "setup_google_colab.setup_week2()"
      ],
      "execution_count": 3,
      "outputs": [
        {
          "output_type": "stream",
          "text": [
            "shred: setup_google_colab.py: failed to open for writing: No such file or directory\n",
            "--2020-07-02 10:14:36--  https://raw.githubusercontent.com/hse-aml/intro-to-dl/master/setup_google_colab.py\n",
            "Resolving raw.githubusercontent.com (raw.githubusercontent.com)... 151.101.0.133, 151.101.64.133, 151.101.128.133, ...\n",
            "Connecting to raw.githubusercontent.com (raw.githubusercontent.com)|151.101.0.133|:443... connected.\n",
            "HTTP request sent, awaiting response... 200 OK\n",
            "Length: 3636 (3.6K) [text/plain]\n",
            "Saving to: ‘setup_google_colab.py’\n",
            "\n",
            "setup_google_colab. 100%[===================>]   3.55K  --.-KB/s    in 0s      \n",
            "\n",
            "2020-07-02 10:14:37 (24.4 MB/s) - ‘setup_google_colab.py’ saved [3636/3636]\n",
            "\n",
            "**************************************************\n",
            "inception_v3_weights_tf_dim_ordering_tf_kernels_notop.h5\n",
            "**************************************************\n",
            "cifar-10-batches-py.tar.gz\n",
            "**************************************************\n",
            "mnist.npz\n"
          ],
          "name": "stdout"
        }
      ]
    },
    {
      "cell_type": "markdown",
      "metadata": {
        "id": "D7mAvoy-ZTU-",
        "colab_type": "text"
      },
      "source": [
        "# MNIST digits classification with TensorFlow"
      ]
    },
    {
      "cell_type": "markdown",
      "metadata": {
        "id": "wzZOvGoSZTU_",
        "colab_type": "text"
      },
      "source": [
        "<img src=\"https://github.com/hse-aml/intro-to-dl/blob/master/week2/v2/images/mnist_sample.png?raw=1\" style=\"width:30%\">"
      ]
    },
    {
      "cell_type": "code",
      "metadata": {
        "id": "ZCdEtgFKZTU_",
        "colab_type": "code",
        "colab": {
          "base_uri": "https://localhost:8080/",
          "height": 54
        },
        "outputId": "28c0d58d-6e37-4c34-a104-d5513cfef13c"
      },
      "source": [
        "import numpy as np\n",
        "from sklearn.metrics import accuracy_score\n",
        "from matplotlib import pyplot as plt\n",
        "%matplotlib inline\n",
        "import tensorflow as tf\n",
        "print(\"We're using TF\", tf.__version__)\n",
        "\n",
        "import sys\n",
        "sys.path.append(\"../..\")\n",
        "import grading\n",
        "\n",
        "import matplotlib_utils\n",
        "from importlib import reload\n",
        "reload(matplotlib_utils)\n",
        "\n",
        "import grading_utils\n",
        "reload(grading_utils)\n",
        "\n",
        "import keras_utils\n",
        "from keras_utils import reset_tf_session"
      ],
      "execution_count": 4,
      "outputs": [
        {
          "output_type": "stream",
          "text": [
            "We're using TF 1.15.2\n"
          ],
          "name": "stdout"
        },
        {
          "output_type": "stream",
          "text": [
            "Using TensorFlow backend.\n"
          ],
          "name": "stderr"
        }
      ]
    },
    {
      "cell_type": "markdown",
      "metadata": {
        "id": "XFhi9aO8ZTVC",
        "colab_type": "text"
      },
      "source": [
        "# Fill in your Coursera token and email\n",
        "To successfully submit your answers to our grader, please fill in your Coursera submission token and email"
      ]
    },
    {
      "cell_type": "code",
      "metadata": {
        "id": "BqboKD7iZTVC",
        "colab_type": "code",
        "colab": {}
      },
      "source": [
        "grader = grading.Grader(assignment_key=\"XtD7ho3TEeiHQBLWejjYAA\", \n",
        "                        all_parts=[\"9XaAS\", \"vmogZ\", \"RMv95\", \"i8bgs\", \"rE763\"])"
      ],
      "execution_count": 5,
      "outputs": []
    },
    {
      "cell_type": "code",
      "metadata": {
        "id": "ZYKlVcEWZTVF",
        "colab_type": "code",
        "colab": {}
      },
      "source": [
        "# token expires every 30 min\n",
        "COURSERA_TOKEN = \"2QVCQGVXQnIZR3vo\"\n",
        "COURSERA_EMAIL = \"747851282@qq.com\""
      ],
      "execution_count": 7,
      "outputs": []
    },
    {
      "cell_type": "markdown",
      "metadata": {
        "id": "sLE5IgyDZTVJ",
        "colab_type": "text"
      },
      "source": [
        "# Look at the data\n",
        "\n",
        "In this task we have 50000 28x28 images of digits from 0 to 9.\n",
        "We will train a classifier on this data."
      ]
    },
    {
      "cell_type": "code",
      "metadata": {
        "id": "MmefxufnZTVJ",
        "colab_type": "code",
        "colab": {
          "base_uri": "https://localhost:8080/",
          "height": 54
        },
        "outputId": "5fefdeab-e323-42a4-eebd-fcd05c0c358f"
      },
      "source": [
        "import preprocessed_mnist\n",
        "X_train, y_train, X_val, y_val, X_test, y_test = preprocessed_mnist.load_dataset()"
      ],
      "execution_count": 8,
      "outputs": [
        {
          "output_type": "stream",
          "text": [
            "Downloading data from https://s3.amazonaws.com/img-datasets/mnist.npz\n",
            "10174464/11490434 [=========================>....] - ETA: 0s"
          ],
          "name": "stdout"
        }
      ]
    },
    {
      "cell_type": "code",
      "metadata": {
        "id": "KYvqRLw-ZTVL",
        "colab_type": "code",
        "colab": {
          "base_uri": "https://localhost:8080/",
          "height": 695
        },
        "outputId": "16b00f80-464c-4fe9-a70c-4bd9beed8d2d"
      },
      "source": [
        "# X contains rgb values divided by 255\n",
        "print(\"X_train [shape %s] sample patch:\\n\" % (str(X_train.shape)), X_train[1, 15:20, 5:10])\n",
        "print(\"A closeup of a sample patch:\")\n",
        "plt.imshow(X_train[1, 15:20, 5:10], cmap=\"Greys\")\n",
        "plt.show()\n",
        "print(\"And the whole sample:\")\n",
        "plt.imshow(X_train[1], cmap=\"Greys\")\n",
        "plt.show()\n",
        "print(\"y_train [shape %s] 10 samples:\\n\" % (str(y_train.shape)), y_train[:10])"
      ],
      "execution_count": 9,
      "outputs": [
        {
          "output_type": "stream",
          "text": [
            "X_train [shape (50000, 28, 28)] sample patch:\n",
            " [[0.         0.29803922 0.96470588 0.98823529 0.43921569]\n",
            " [0.         0.33333333 0.98823529 0.90196078 0.09803922]\n",
            " [0.         0.33333333 0.98823529 0.8745098  0.        ]\n",
            " [0.         0.33333333 0.98823529 0.56862745 0.        ]\n",
            " [0.         0.3372549  0.99215686 0.88235294 0.        ]]\n",
            "A closeup of a sample patch:\n"
          ],
          "name": "stdout"
        },
        {
          "output_type": "display_data",
          "data": {
            "image/png": "[encoded data removed]",
            "text/plain": [
              "<Figure size 432x288 with 1 Axes>"
            ]
          },
          "metadata": {
            "tags": [],
            "needs_background": "light"
          }
        },
        {
          "output_type": "stream",
          "text": [
            "And the whole sample:\n"
          ],
          "name": "stdout"
        },
        {
          "output_type": "display_data",
          "data": {
            "image/png": "[encoded data removed]",
            "text/plain": [
              "<Figure size 432x288 with 1 Axes>"
            ]
          },
          "metadata": {
            "tags": [],
            "needs_background": "light"
          }
        },
        {
          "output_type": "stream",
          "text": [
            "y_train [shape (50000,)] 10 samples:\n",
            " [5 0 4 1 9 2 1 3 1 4]\n"
          ],
          "name": "stdout"
        }
      ]
    },
    {
      "cell_type": "markdown",
      "metadata": {
        "id": "4-pJthUSZTVP",
        "colab_type": "text"
      },
      "source": [
        "# Linear model\n",
        "\n",
        "Your task is to train a linear classifier $\\vec{x} \\rightarrow y$ with SGD using TensorFlow.\n",
        "\n",
        "You will need to calculate a logit (a linear transformation) $z_k$ for each class: \n",
        "$$z_k = \\vec{x} \\cdot \\vec{w_k} + b_k \\quad k = 0..9$$\n",
        "\n",
        "And transform logits $z_k$ to valid probabilities $p_k$ with softmax: \n",
        "$$p_k = \\frac{e^{z_k}}{\\sum_{i=0}^{9}{e^{z_i}}} \\quad k = 0..9$$\n",
        "\n",
        "We will use a cross-entropy loss to train our multi-class classifier:\n",
        "$$\\text{cross-entropy}(y, p) = -\\sum_{k=0}^{9}{\\log(p_k)[y = k]}$$ \n",
        "\n",
        "where \n",
        "$$\n",
        "[x]=\\begin{cases}\n",
        "       1, \\quad \\text{if $x$ is true} \\\\\n",
        "       0, \\quad \\text{otherwise}\n",
        "    \\end{cases}\n",
        "$$\n",
        "\n",
        "Cross-entropy minimization pushes $p_k$ close to 1 when $y = k$, which is what we want.\n",
        "\n",
        "Here's the plan:\n",
        "* Flatten the images (28x28 -> 784) with `X_train.reshape((X_train.shape[0], -1))` to simplify our linear model implementation\n",
        "* Use a matrix placeholder for flattened `X_train`\n",
        "* Convert `y_train` to one-hot encoded vectors that are needed for cross-entropy\n",
        "* Use a shared variable `W` for all weights (a column $\\vec{w_k}$ per class) and `b` for all biases.\n",
        "* Aim for ~0.93 validation accuracy"
      ]
    },
    {
      "cell_type": "code",
      "metadata": {
        "id": "uwJ278ZyZTVP",
        "colab_type": "code",
        "colab": {
          "base_uri": "https://localhost:8080/",
          "height": 54
        },
        "outputId": "bdc4670e-4139-4957-f84a-b7ac65a6fc46"
      },
      "source": [
        "X_train_flat = X_train.reshape((X_train.shape[0], -1))\n",
        "print(X_train_flat.shape)\n",
        "\n",
        "X_val_flat = X_val.reshape((X_val.shape[0], -1))\n",
        "print(X_val_flat.shape)"
      ],
      "execution_count": 10,
      "outputs": [
        {
          "output_type": "stream",
          "text": [
            "(50000, 784)\n",
            "(10000, 784)\n"
          ],
          "name": "stdout"
        }
      ]
    },
    {
      "cell_type": "code",
      "metadata": {
        "id": "WgScwWJPZTVR",
        "colab_type": "code",
        "colab": {
          "base_uri": "https://localhost:8080/",
          "height": 90
        },
        "outputId": "5a061c76-5fe9-45f7-cb05-991db33cbebd"
      },
      "source": [
        "import keras\n",
        "\n",
        "y_train_oh = keras.utils.to_categorical(y_train, 10)\n",
        "y_val_oh = keras.utils.to_categorical(y_val, 10)\n",
        "\n",
        "print(y_train_oh.shape)\n",
        "print(y_train_oh[:3], y_train[:3])"
      ],
      "execution_count": 11,
      "outputs": [
        {
          "output_type": "stream",
          "text": [
            "(50000, 10)\n",
            "[[0. 0. 0. 0. 0. 1. 0. 0. 0. 0.]\n",
            " [1. 0. 0. 0. 0. 0. 0. 0. 0. 0.]\n",
            " [0. 0. 0. 0. 1. 0. 0. 0. 0. 0.]] [5 0 4]\n"
          ],
          "name": "stdout"
        }
      ]
    },
    {
      "cell_type": "code",
      "metadata": {
        "id": "tqMMu4daZTVT",
        "colab_type": "code",
        "colab": {
          "base_uri": "https://localhost:8080/",
          "height": 255
        },
        "outputId": "40519ddb-fb75-4ff5-d0ce-3a64c4402c82"
      },
      "source": [
        "# run this again if you remake your graph\n",
        "s = reset_tf_session()"
      ],
      "execution_count": 12,
      "outputs": [
        {
          "output_type": "stream",
          "text": [
            "WARNING:tensorflow:From /content/keras_utils.py:68: The name tf.get_default_session is deprecated. Please use tf.compat.v1.get_default_session instead.\n",
            "\n",
            "WARNING:tensorflow:From /usr/local/lib/python3.6/dist-packages/keras/backend/tensorflow_backend.py:79: The name tf.reset_default_graph is deprecated. Please use tf.compat.v1.reset_default_graph instead.\n",
            "\n",
            "WARNING:tensorflow:From /usr/local/lib/python3.6/dist-packages/keras/backend/tensorflow_backend.py:82: The name tf.placeholder is deprecated. Please use tf.compat.v1.placeholder instead.\n",
            "\n",
            "WARNING:tensorflow:From /usr/local/lib/python3.6/dist-packages/keras/backend/tensorflow_backend.py:84: The name tf.get_default_graph is deprecated. Please use tf.compat.v1.get_default_graph instead.\n",
            "\n",
            "WARNING:tensorflow:From /content/keras_utils.py:75: The name tf.ConfigProto is deprecated. Please use tf.compat.v1.ConfigProto instead.\n",
            "\n",
            "WARNING:tensorflow:From /content/keras_utils.py:77: The name tf.InteractiveSession is deprecated. Please use tf.compat.v1.InteractiveSession instead.\n",
            "\n"
          ],
          "name": "stdout"
        }
      ]
    },
    {
      "cell_type": "code",
      "metadata": {
        "id": "7T2O0rRvZTVV",
        "colab_type": "code",
        "colab": {}
      },
      "source": [
        "# Model parameters: W and b\n",
        "W = tf.get_variable(\"W\", shape = (784,10), dtype=tf.float32)### YOUR CODE HERE ### tf.get_variable(...) with shape[0] = 784\n",
        "b = tf.get_variable(\"b\", shape = (1,10), dtype=tf.float32)### YOUR CODE HERE ### tf.get_variable(...)"
      ],
      "execution_count": 13,
      "outputs": []
    },
    {
      "cell_type": "code",
      "metadata": {
        "id": "xNrrvrsTZTVX",
        "colab_type": "code",
        "colab": {}
      },
      "source": [
        "# Placeholders for the input data\n",
        "input_X = tf.placeholder(tf.float32, shape=(None, 784))### YOUR CODE HERE ### tf.placeholder(...) for flat X with shape[0] = None for any batch size\n",
        "input_y = tf.placeholder(tf.float32, shape=(None, 10))### YOUR CODE HERE ### tf.placeholder(...) for one-hot encoded true labels"
      ],
      "execution_count": 14,
      "outputs": []
    },
    {
      "cell_type": "code",
      "metadata": {
        "id": "wmxHcb7yZTVZ",
        "colab_type": "code",
        "colab": {
          "base_uri": "https://localhost:8080/",
          "height": 183
        },
        "outputId": "d6ffda84-19e1-41fc-a000-81e544c89f12"
      },
      "source": [
        "# Compute predictions\n",
        "logits = tf.matmul(input_X, W) + b### YOUR CODE HERE ### logits for input_X, resulting shape should be [input_X.shape[0], 10]\n",
        "probas = tf.nn.softmax(logits, axis=1)### YOUR CODE HERE ### apply tf.nn.softmax to logits\n",
        "classes = tf.arg_max(probas, 1)### YOUR CODE HERE ### apply tf.argmax to find a class index with highest probability\n",
        "\n",
        "# Loss should be a scalar number: average loss over all the objects with tf.reduce_mean().\n",
        "# Use tf.nn.softmax_cross_entropy_with_logits on top of one-hot encoded input_y and logits.\n",
        "# It is identical to calculating cross-entropy on top of probas, but is more numerically friendly (read the docs).\n",
        "loss = tf.reduce_mean(tf.nn.softmax_cross_entropy_with_logits(logits=logits, labels=input_y))### YOUR CODE HERE ### cross-entropy loss\n",
        "\n",
        "# Use a default tf.train.AdamOptimizer to get an SGD step\n",
        "step = tf.train.AdamOptimizer(learning_rate=0.01).minimize(loss)### YOUR CODE HERE ### optimizer step that minimizes the loss"
      ],
      "execution_count": 15,
      "outputs": [
        {
          "output_type": "stream",
          "text": [
            "WARNING:tensorflow:From <ipython-input-15-acf942d52d21>:9: softmax_cross_entropy_with_logits (from tensorflow.python.ops.nn_ops) is deprecated and will be removed in a future version.\n",
            "Instructions for updating:\n",
            "\n",
            "Future major versions of TensorFlow will allow gradients to flow\n",
            "into the labels input on backprop by default.\n",
            "\n",
            "See `tf.nn.softmax_cross_entropy_with_logits_v2`.\n",
            "\n"
          ],
          "name": "stdout"
        }
      ]
    },
    {
      "cell_type": "code",
      "metadata": {
        "scrolled": false,
        "id": "tpJFR6fMZTVb",
        "colab_type": "code",
        "colab": {
          "base_uri": "https://localhost:8080/",
          "height": 308
        },
        "outputId": "e0c46516-1171-4694-8968-145be919bee4"
      },
      "source": [
        "s.run(tf.global_variables_initializer())\n",
        "\n",
        "BATCH_SIZE = 512\n",
        "EPOCHS = 40\n",
        "\n",
        "# for logging the progress right here in Jupyter (for those who don't have TensorBoard)\n",
        "simpleTrainingCurves = matplotlib_utils.SimpleTrainingCurves(\"cross-entropy\", \"accuracy\")\n",
        "\n",
        "for epoch in range(EPOCHS):  # we finish an epoch when we've looked at all training samples\n",
        "    \n",
        "    batch_losses = []\n",
        "    for batch_start in range(0, X_train_flat.shape[0], BATCH_SIZE):  # data is already shuffled\n",
        "        _, batch_loss = s.run([step, loss], {input_X: X_train_flat[batch_start:batch_start+BATCH_SIZE], \n",
        "                                             input_y: y_train_oh[batch_start:batch_start+BATCH_SIZE]})\n",
        "        # collect batch losses, this is almost free as we need a forward pass for backprop anyway\n",
        "        batch_losses.append(batch_loss)\n",
        "\n",
        "    train_loss = np.mean(batch_losses)\n",
        "    val_loss = s.run(loss, {input_X: X_val_flat, input_y: y_val_oh})  # this part is usually small\n",
        "    train_accuracy = accuracy_score(y_train, s.run(classes, {input_X: X_train_flat}))  # this is slow and usually skipped\n",
        "    valid_accuracy = accuracy_score(y_val, s.run(classes, {input_X: X_val_flat}))  \n",
        "    simpleTrainingCurves.add(train_loss, val_loss, train_accuracy, valid_accuracy)"
      ],
      "execution_count": 16,
      "outputs": [
        {
          "output_type": "display_data",
          "data": {
            "text/html": [
              "<img src=\"data:image/jpeg;base64,/9j/4AAQSkZJRgABAQEASABIAAD/2wBDAAIBAQEBAQIBAQECAgICAgQDAgICAgUEBAMEBgUGBgYFBgYGBwkIBgcJBwYGCAsICQoKCgoKBggLDAsKDAkKCgr/2wBDAQICAgICAgUDAwUKBwYHCgoKCgoKCgoKCgoKCgoKCgoKCgoKCgoKCgoKCgoKCgoKCgoKCgoKCgoKCgoKCgoKCgr/wAARCAEgA2ADASIAAhEBAxEB/8QAHwAAAQUBAQEBAQEAAAAAAAAAAAECAwQFBgcICQoL/8QAtRAAAgEDAwIEAwUFBAQAAAF9AQIDAAQRBRIhMUEGE1FhByJxFDKBkaEII0KxwRVS0fAkM2JyggkKFhcYGRolJicoKSo0NTY3ODk6Q0RFRkdISUpTVFVWV1hZWmNkZWZnaGlqc3R1dnd4eXqDhIWGh4iJipKTlJWWl5iZmqKjpKWmp6ipqrKztLW2t7i5usLDxMXGx8jJytLT1NXW19jZ2uHi4%2BTl5ufo6erx8vP09fb3%2BPn6/8QAHwEAAwEBAQEBAQEBAQAAAAAAAAECAwQFBgcICQoL/8QAtREAAgECBAQDBAcFBAQAAQJ3AAECAxEEBSExBhJBUQdhcRMiMoEIFEKRobHBCSMzUvAVYnLRChYkNOEl8RcYGRomJygpKjU2Nzg5OkNERUZHSElKU1RVVldYWVpjZGVmZ2hpanN0dXZ3eHl6goOEhYaHiImKkpOUlZaXmJmaoqOkpaanqKmqsrO0tba3uLm6wsPExcbHyMnK0tPU1dbX2Nna4uPk5ebn6Onq8vP09fb3%2BPn6/9oADAMBAAIRAxEAPwD9/KKKKACiiigAooooAKKKKACiiigAooooAKKKKACiiigAooooAKKKKACiiigAooooAKKKKACiiigAooooAKKKKACiiigAooooAKKKKACiiigAooooAKKKKACiiigAooooAKKKKACiiigAooooAKKKKACiiigAooooAKKKKACiiigAooooAKKKKACiiigAooooAKKKKACiiigAooooAKKKKACiiigAooooAKKKKACiiigAooooAKKKKACiiigAooooAKKKKACiiigAooooAKKKKACiiigAooooAKKKKACiiigAooooAKKKKACiiigAooooAKKKKACiiigAooooAKKKKACiiigAooooAKKKKACuN%2BOP7QHwm/Zx8JW/jT4veJ5dPtL7U4dN0u2stLub%2B91K9lDGO1tLO0jluLudlR2EUMbvtR2xhWI7KvFv2u/gP8VPiX4h%2BGfxl%2BBd14fl8X/CrxjPrWmaJ4tu57bTdYhudLvdMubaW4ghmktH8q9aSOdYZtrR7TGyu2ACjpH/AAUr/Y71rxm3w8tvHviCDW7fSodU1bTtR%2BHOvWkmi2EhuAt3qXn2SDTIAbWcNLdmFEKYYqWUGbwn/wAFH/2NfGfg/wAQ%2BOtM%2BLFza6f4Y0e11fVBrnhPVdMuJNPuXMdreWtvd2sU19bzyAxwy2ySpM5CRlmIB86vP2GPjP8AHW0/aRP7Qt74V8My/tB/CPTvBskfgrWLrUzo7RWusWsr%2BbcWtqZ1VNRiZDsXeyygogxuy9Y/Y2/at%2BM%2Btaz8UP2lPh38G9X1e0%2BE6eBtB8E6d4n1QaRrSy6jaXt5fXd2bBJ9PYmyg%2BzxQw3BtnDP50hIwAeyX/7fP7N2k%2BAbH4h6tdeOLSHVPED6Jpeh3Xwj8SR67e3yW5uXjh0dtPGoShYAZTIluUCKzFsA49P8JeOfDfjbwTY/EPRbi5i0rULBbyCTVNPnsZY4iu7MsFykcsDAfeSRVZSCGAIIr41tv2Gf2tJfgpJ4W8feGPCnjS%2Bh%2BIcut%2BC9B1n9ofxXb3fgOxOmxWoi0/xbHp7atcSGUXcreZDGBHeGENsjGfUvB/7Bmq%2BKfgJo3hb9pz46%2BOPEfj5PhtdeFtf8Q6T8Q9at9Muhc2tzbyTPpa3SWN5MiXTBbq4tmmdoopWKuibADc8Mf8FJP2MvF/h7xJ4s0b4tXK6Z4W8GXni6/vr7wlqtpFe6BaruuNU09p7VBqtogK5nsvPQmSMAkyIG4n40f8FdP2YfAf7M/wATf2gfhW%2Bs%2BM7v4b%2BDYfEjeGW8L6xps2r2Nw7R2t3avNYFrixlkRh9vgjmtkVWdnCqSPHfC/8AwSh%2BNC/BPxf8LPFnh3w9J4h/4UL4j8A%2BC/Hmo/tD%2BNvECSXGpWEdp5h0jVUkttGtpDDE8scEl0yeVGqFggz6P%2B1L/wAE5vih%2B0BYeKtE0Pxj4d0q2179le%2B%2BGlrLM87GDVpLiOWGdo1iANqNhBIbzBnhO9AHqkv/AAUU/ZZt/E3hrwJeav41tvEni7TpdQ0HwpefCTxLDq8tnFd/Y5LmSwk08XNvCkxG6SaNEVGWUkRsrmXwN/wUT/Y7%2BJGqarpXhD4tyXB0rQ9Q1lbufw1qVvaapp1iwS8u9NuZrdYdVhhYqHeyedVLqCfmGcXwR8APjz4x/apsf2oPjn4f8HeH5JPg5f8Ag/VNE8J%2BK7vVTBcy6tHcpJDcz6fZl4mgiUsTGjJIdoV1USHwGb9hz9pf4bfs8%2BF/Cnxo1rwIPCP7N3wP8SaB4L1PwrfXcmpeKd2hHTLe4vbeW2ii04JZozSQxS3QknZXDxqgQgH0D4U/4Kl/sL%2BNPBus/ELQ/jLdrouheDj4tutRv/BmsWcdzoIKB9Vs/PtEN/ZxmRBJPbCWOLcPMZc167a/GD4c3vxcuPgVZ%2BIxN4qtPDUGv3emRWsrCHTp55beGd5QnlL5ksE6ohfe3kyEKQjEfFX7I/7P3xC8WfBL4Q/Hb9t/Uvhlovww%2BG/7L9z4fgk07W5wmr6bqmnaWby%2B1X7VBDDpkEVppyq0CS3CZleRplWNVrsP%2BCK3wr8d6P8As76n8evit4tbxFrHjW%2Bg03w54hlgaOS%2B8I6JF/ZWiXBD8/6VDDNqhPd9WcgKCFAB9lUUUUAFFFFABRRRQAUUUUAFFFFABRRRQAUUUUAFFFFABRRRQAUUUUAFFFFABRRRQAUUUUAFFFFABRRRQAUUUUAFFFFABRRRQAV4jpH/AAUY/Y91K716z1P4pXnh5vDnhy58QahJ418I6roMc2k27pHPf2smpWsC31ujyRK0tsZUBljGcuufab2K5ms5YbO6EEzxMsUxj3%2BWxHDbT1wecd6/MTV/%2BCOX7cvxf1bwvrnxu%2BOOhvrfhrwfqFnqHijUPit4m8TjxDrf2zSr611E6XfRQ2Wk20lzpi%2BfYWQCiOTassgVAoB9sv8At/8A7MNr8NG%2BLGseIPFWlaW2uQaNY2eufDLX7DVNTv5kMkMFlptxYpe37SIGdfs8MgZUdgSEYjovAf7VnwP%2BI%2Bv2XhPw54h1SHV7/wAKT%2BJIdI1rwrqWmXaabDd/ZJZZYby3ikgdZ/kMMirL32bea8m%2BJ3wc/bd%2BMTfD342654N%2BFWh/EP4UeOptY8P%2BGbXxxqV/ouuWdxpN3plzHcXz6VDNYzFL2SSN0tbgRmIKfMEjYq/En4Dftwa/8ZfDv7TXgfRvhXaeLL74Yar4L8Y6FqXivUpLDSFuL%2BG6tb%2ByuE04SagYhG6yW8sVoJS4xLFjkA7jSf8Ago3%2ByB4j17wL4W8K/EbVdZ1P4k%2BDdK8W%2BDdO0TwPrN7PeaHqL7LXUZEgtGa1t92PMknEa24ZTN5QYE7Hw1/bc/Zu%2BK/xGufhP4Z8X6tZ6/b6Xc6nDZeJ/BmraIt/Y28iRz3dlLqNrBHfwRvLEHltmkRfMQkgMpPlH7Cn7CXxY/Zh1/4caz488QeGrs%2BDv2UvCPwxv30i5nlZtW0t5muZovMgj3Wrb02MxV22/NGmBXjXw0/4JV/tjeJ/ij4X8TftTfGGz1SLT/AHivwv408TQfF/xJrV54il1exS2/tO10y%2Bhj0/QjlSxtLRSi5UCZxGq0AfUvhP/gov%2ByP410WPxVoPjvXP7DuNV0vT9P8AEt78P9btdK1GXUr2OyspLS%2Bns0tryCW5mijFxBI8IMqFnCsCfS/C3xd%2BHnjX4geKfhd4X8Q/a9c8FyWcfie0S0mC2Ml1B9ogjMrII3doSshRGZkWSMsFEibvmHxx4E%2BIvhX/AIJ7eNPgR/wUM8T/AAq8EeAtB%2BGkWgW3xM8O%2BLbsM06RpbWupPaXVnAmmzLMLeSGCO4umM5REcnaG7X/AIJX/D74seG/2RNK%2BKv7RVglv8TvixfS%2BOviJCtu0X2e/v1jMNpsb5k%2By2MdlZ7TkgWuDQB9G0UUUAFFFFABRRRQAUUUUAFFFFABRRRQAUUUUAFFFFABRRRQAUUUUAFFFFABRRRQAUUUUAFFFFABRRRQAUUUUAFFFFABRRRQAUV8f/s4/tF/H/xP8aPAni7xp8U59W8O/FjxF460uPwPJpFjFb%2BGV0e%2BnSxkt5ooFuXbyLR47n7RLMGmuFaMQKvlsqfH39oD4HftGeNbz9pLWviZHomqazrqfB7Rm0/wyfDGtwWejtqCWiTWkLatFeeVZ6hMPtTpG6wvt34C0AfX9eL/AB68f/tF/wDDRfgX4EfAXxn4K8Ppr/grxLr2r6n4v8F3etEnTrvQ7eGGGO31Kx8sN/akrMzM%2BfLQALyTwX7D/wAXfj5qfxG03wF8afjLL46Xxb8FdB8eRXkuj2Nmuj3t1NNHdWduLOGLdZNmEwCbzZ18qXfPNuGzR1r4yeGvE3/BVL4f/DbS9L1%2BG60n4M%2BPkvrjVvCeo2FtLJ/a3g8r9lubmCOC%2BXAfc1s8oTC7iu5cptLcuEJVHaPZv7tWdd/wg/8AwUL/AOjoPgz/AOGH1b/5qKP%2BEH/4KF/9HQfBn/ww%2Brf/ADUV7NRTIPGf%2BEH/AOChf/R0HwZ/8MPq3/zUUf8ACD/8FC/%2BjoPgz/4YfVv/AJqK9mooA8Z/4Qf/AIKF/wDR0HwZ/wDDD6t/81FH/CD/APBQv/o6D4M/%2BGH1b/5qK9mooA8Z/wCEH/4KF/8AR0HwZ/8ADD6t/wDNRR/wg/8AwUL/AOjoPgz/AOGH1b/5qK9mooA8Z/4Qf/goX/0dB8Gf/DD6t/8ANRR/wg//AAUL/wCjoPgz/wCGH1b/AOaivZqKAPGf%2BEH/AOChf/R0HwZ/8MPq3/zUUf8ACD/8FC/%2BjoPgz/4YfVv/AJqK9mooA8Z/4Qf/AIKF/wDR0HwZ/wDDD6t/81FH/CD/APBQv/o6D4M/%2BGH1b/5qK9mooA8Z/wCEH/4KF/8AR0HwZ/8ADD6t/wDNRR/wg/8AwUL/AOjoPgz/AOGH1b/5qKta/wDG/wDZE%2BFNppGk/HT4w/Dnw5rmoaLBqBtvF3iGwtLu4jkyPP23Dq7IzpIA3TKMM8EDN/4a/wD%2BCcH/AEdF8Ef/AAttH/8Ajtc08Zg6cnGdWKa6OUU/uckz2sPw3xJi6Ea1DA15wkrqUaNaUWu6lGjKLWj1Ta03LH/CD/8ABQv/AKOg%2BDP/AIYfVv8A5qKP%2BEH/AOChf/R0HwZ/8MPq3/zUVX/4a/8A%2BCcH/R0XwR/8LbR//jtenaBovws8V6FZeKfC2k%2BH9S0zUrSO607UdPggmguoJFDxyxyICroykMrKSCCCDg1dLE4eu2qc4yt2kn%2BTZz47Js5yuEZ43C1aSk7J1KdSmm97JzpwTdtbJt21tbU85/4Qf/goX/0dB8Gf/DD6t/8ANRR/wg//AAUL/wCjoPgz/wCGH1b/AOaivPPh9/wUa/Yv8X%2BB7Pxh4h%2BHvifQZ9U8ca14W0TRrn4Pa3Peate6dcX8ci2kUOns90TDp887LErmEAxybJFZR2XxC/ao/Za8C2Xj20vNEi0/WPAXhDWvEN5beLPAmraTZ3dnpi/6XPb3UmnOL23iZohJLZJdFRNGwR96K%2Bx5po/8IP8A8FC/%2BjoPgz/4YfVv/moo/wCEH/4KF/8AR0HwZ/8ADD6t/wDNRVWw/as/Yw1D4zyfs/Q3lv8A8JRb%2BII9Buo/%2BEGvxYQ6q%2BnR6lHYtqDWgtFne0lSZIzKGcHCgsCo2fjX8Vfgr8JP2edd/aH0fwjo3ijTtLsGk0230NbaQardNKIILWKYAoGkuGSHcTtVmJboaAKH/CD/APBQv/o6D4M/%2BGH1b/5qKP8AhB/%2BChf/AEdB8Gf/AAw%2Brf8AzUU/9nD4gW3xcvPGXgf4o/Arw34V8YeA/EEOma/pWj6iuq2Miz2Nte29zbXUlpbPLG8VyqnfBGyyxSrhlCu/IeFPjh8Q7jx94q%2BDHxF/ZV%2BHOheMdH8B2/ivSILbx%2BbvS5LSW5ntxHqF4dJjfT5A0DnKQXEbKkhR38thQB1n/CD/APBQv/o6D4M/%2BGH1b/5qKP8AhB/%2BChf/AEdB8Gf/AAw%2Brf8AzUV4Ne/8FNPhxafA%2Bz%2BLUnwh%2BE1vBdfE268HnxlqPxNig8BEwaab430fiL%2BzG8yBmBslP2QZvUlgz8m9u01n9rHxJpXwU8A/tOv%2Bxv4et/AXizTfDU2sjVPEy22vafc6xeQ2iW1tp/8AZ7R3hja5gb57m3eQPhELgKQD0X/hB/8AgoX/ANHQfBn/AMMPq3/zUUf8IP8A8FC/%2BjoPgz/4YfVv/mornfGfx6ufhB8dNL%2BH3xs/Zy8H6T4T8Sf203hzxLo/iT7ff%2BVptm95LcXunmwiW2haGJ8PHcXG2R4UYKZRjmPhn%2B1tr/jzwtrN14l/ZV8A%2BENbT4caZ4%2B8M23ibx6sOmT6BdySCSTUb5dMb%2Bzrm1jiLzxrFcwr5kQSdwXaMA9J/wCEH/4KF/8AR0HwZ/8ADD6t/wDNRR/wg/8AwUL/AOjoPgz/AOGH1b/5qK8mtv235Nd/Zf8ADv7T/gj9ljwVrek3nxHt/C/iC5sfGqvpwt5dch0hNU0m8XTm/ta3eSZZIyY7YOqt8y4Gd340fth%2BDfg/8Z9Z8GXPwF8MS%2BEfCGseFtK8aeJtQ12K0vrW51%2B7W1sms7D7I4u4UeWIyyPPAceaIlmeIoQDvP8AhB/%2BChf/AEdB8Gf/AAw%2Brf8AzUUf8IP/AMFC/wDo6D4M/wDhh9W/%2BaisDS/jtd2vxl%2BMvwn8e/sz%2BGdMj%2BGPgbS/Fug6hp%2BvLdtr%2Bn302twxiaI2UYsZQ2iSEqr3A2zodwKla5r4DftTa7%2B0N%2Bx3qf7Tvw2%2BBPwU8QapFptteaV4c8J/FwalaDfFFNPb398ujobG4hjdi0SwTklAONwwAeif8IP/AMFC/wDo6D4M/wDhh9W/%2Baij/hB/%2BChf/R0HwZ/8MPq3/wA1FeOfHr/god8Pfgp8BPhP8a774IeAdOT4oeBJPEyy%2BPPGkeh6TYNHY2l3/ZaX/wBgn%2B0ahMLoi3t/Kj89bW4bcnl7T13xH/aB%2BJfgrxd8J4dM/Y48Fz6D8V/Emk6RYRav4wlsvEOnNcWUl9etLpo0iWHdZ2ttdyMn2wb/ALPt3IWGADtf%2BEH/AOChf/R0HwZ/8MPq3/zUUf8ACD/8FC/%2BjoPgz/4YfVv/AJqK8n%2BBv7dehfHz9oLxP%2Bz54M/Z28DPq%2BkWXiR7TT08ZpJqemXGlX6WUUev2S6fu0RL1pBLbOr3RkhVnCHGKydN/wCClHwlf4Ra9451X4YfCyXUNO%2BIdt4P0bVdC%2BI9vd%2BD9TvZbEX0kn9vyWEIiitbdLlro/ZmaI2zIqyuyqQD27/hB/8AgoX/ANHQfBn/AMMPq3/zUVQ8D%2BOP2rPB37Vnhz4I/G74j/D3xNo3ib4e%2BIdchm8K/Dy%2B0W6tLrTb7RLdFZ7jV75JY3TVJSVCIwaJCGxkHqvAt7pPjr4DW3xQk8NeDba/vdFlvre68D62urafwGaKW1vxb25uIyoVg/lJ1xjjJxPHH/KQv4X/APZGfHn/AKdvCFAHs1FFFABRRRQAUUUUAFfOPwm8Vft3/HXR9e8d%2BF/jf8JNA0u3%2BIXirQ9L0q/%2BD%2BqX9xFa6Xr1/pkLS3CeIoFlkeOzV2ZYo13OQFAAr6Orxn9g/wD5Ihrn/ZZviP8A%2BprrdAB/wg//AAUL/wCjoPgz/wCGH1b/AOaij/hB/wDgoX/0dB8Gf/DD6t/81FezUUAeM/8ACD/8FC/%2BjoPgz/4YfVv/AJqKP%2BEH/wCChf8A0dB8Gf8Aww%2Brf/NRXs1FAHjP/CD/APBQv/o6D4M/%2BGH1b/5qKP8AhB/%2BChf/AEdB8Gf/AAw%2Brf8AzUV7NRQB4z/wg/8AwUL/AOjoPgz/AOGH1b/5qKP%2BEH/4KF/9HQfBn/ww%2Brf/ADUV7NRQB4z/AMIP/wAFC/8Ao6D4M/8Ahh9W/wDmoo/4Qf8A4KF/9HQfBn/ww%2Brf/NRXs1FAHjP/AAg//BQv/o6D4M/%2BGH1b/wCaij/hB/8AgoX/ANHQfBn/AMMPq3/zUV7NRQB4z/wg/wDwUL/6Og%2BDP/hh9W/%2Baij/AIQf/goX/wBHQfBn/wAMPq3/AM1FezUUAeM/8IP/AMFC/wDo6D4M/wDhh9W/%2Baij/hB/%2BChf/R0HwZ/8MPq3/wA1FezUUAeM/wDCD/8ABQv/AKOg%2BDP/AIYfVv8A5qKP%2BEH/AOChf/R0HwZ/8MPq3/zUV7NRQB4z/wAIP/wUL/6Og%2BDP/hh9W/8Amoo/4Qf/AIKF/wDR0HwZ/wDDD6t/81FezUUAeM/8IP8A8FC/%2BjoPgz/4YfVv/moo/wCEH/4KF/8AR0HwZ/8ADD6t/wDNRXs1FAHjP/CD/wDBQv8A6Og%2BDP8A4YfVv/moo/4Qf/goX/0dB8Gf/DD6t/8ANRXs1FAHjP8Awg//AAUL/wCjoPgz/wCGH1b/AOaij/hB/wDgoX/0dB8Gf/DD6t/81FezUUAeM/8ACD/8FC/%2BjoPgz/4YfVv/AJqKP%2BEH/wCChf8A0dB8Gf8Aww%2Brf/NRXs1FAHjP/CD/APBQv/o6D4M/%2BGH1b/5qKP8AhB/%2BChf/AEdB8Gf/AAw%2Brf8AzUV7NXD%2BPP2nP2bvhZcSWnxM/aB8E%2BHpoTiWDW/FVpaup9CskgOfbFRUq0qUeapJJebS/No6sJgcdmFX2WFpTqS7QjKb%2B6EZP8Dkf%2BEH/wCChf8A0dB8Gf8Aww%2Brf/NRR/wg/wDwUL/6Og%2BDP/hh9W/%2BaisLVP8Agq3/AME6NIuGtbv9rzwe7IcE2t406/g0asD%2BBrPb/gr/AP8ABNdTtP7Wfh/8La7P/tGuF5vlMXZ4iH/gcf8A5I%2Bnh4d%2BINSN4ZPimv8AsHr/APyo63/hB/8AgoX/ANHQfBn/AMMPq3/zUUf8IP8A8FC/%2BjoPgz/4YfVv/morgdc/4LRf8E09ECRx/tLW%2Bozy8Q2ukeHdSupJD6AR25AP1IrPH/BZz9kgfv5fCfxQjtW5ivX%2BGt/5Ui/3lOzOPwrN55kydvrEPlJP8rnZT8LPEqpDm/sfEpPbmpShf053Tb%2BSZ6d/wg//AAUL/wCjoPgz/wCGH1b/AOaij/hB/wDgoX/0dB8Gf/DD6t/81FeYN/wWN/Z714/ZvhF8D/jR4%2Bu%2Bhs/CfwyupHVvRvOMYHv1pR/wUS/akvx5%2Bhf8Ep/i3JC/MTahe2Vq5HbcjMSh9jS/tzK38FTm/wAMZy/GMGvxL/4hbx5D/eMIqPlWq4ei/wDwGriIS/8AJV8z07/hB/8AgoX/ANHQfBn/AMMPq3/zUVb/AGVviN8afGGsfFDwJ8dNf8L6tqngH4hRaHZ6r4T8NXOk291ay6Do%2Bpqz29xe3jLIsmoyoWEu0rGh2qc58l/4bL/4KSeKj5PgD/glHf2ing3viv4q6baLGfeIIXYfQ10X/BOvWfjJ4g1v486x%2B0B4N0nw/wCLp/jNAdW0fQ9RN3a2wHhHw2IgkpA3kwiNm9GZgOBXRhswoYuo404y2vdwlFffJLU8fO%2BEc04fwsa%2BMqUHd8vLTxNCtPZu7hRqVGo6attatLqfSdFFFdx8uFFFFABRRRQAUUUUAFFFFABRRRQAUUUUAFFFFABRRRQAUUUUAeVaH%2BxT%2Bzj4Y%2BIuq/Fbw54Q1Sw1zV5buWa4tPGGqxxWj3d3FeXrWcC3IhsDdXEMctwbZIjcspM3mbmzoaf%2Byn8FbH4wD463Gla7qXiKGe6n099e8aarqNlpktyjRzyWVjdXMlrYs8bPGWt4ozskdM7XYH0WigDzj4B/sl/AP9mJ9Qk%2BC3gy50xtSs7Syla81%2B%2B1AwWVr5v2Wxt/tk0v2Szg8%2BbyrSHZBF5r7I13HPlHx%2B1f%2Bzf%2BCsf7Nllux/aHwt%2BJlvj1xN4Wl/8AadfT1fHP7Xurf2Z/wWM/Y2ti2BfeFfijbk/9uOjSAfnGK5sXPko384/jKK/U9vh7D/Wsy9n/ANO6z/8AAaFWX/tp9jUUUV0niBRRRQAUUUUAFFFFABRRRQAUUUUAFFFFAHmepfsyfs2/GjR9B8U/GL9nvwP4s1O38P2trBqPiXwnZ388cCqXWJZJ42YIGd2Cg4BdjjJNUv8Ahgf9hX/oyz4S/wDhudM/%2BMVyfxe/4KQfsX/sfS%2BHPhp%2B0X8Zf%2BEd1u%2B8KWep2tl/wjuo3e%2B1ffEsm%2B1t5EGXhlG0sG%2BXOMEE8h/w/N/4JZf9HRf%2BWTrn/wAhV4uIxfDtOvKNedJTT15vZ3v53V7%2BpovEPEZUvqkc4nSVPTkWJqQUetlFV4qO%2Byit9tT1v/hgf9hX/oyz4S/%2BG50z/wCMV6doGgaF4U0Ky8LeFtFtNN0zTbSO107TtPtlhgtYI1CRxRxoAqIqgKqqAAAABgV8rf8AD83/AIJZf9HRf%2BWTrn/yFX094B8deFfih4E0X4l%2BBdU%2B3aJ4i0i21PR73yHi%2B0WtxEssUmyRVdNyOp2soYZwQDxXRgcRk9aclg5U20teTlvbz5UtL9xS4uq8Sfup5jLE8mtnXnV5b6XtKrUtfa6SvtfoeE/DD9hfxX4A8eeFNa1P4z6bqGg%2BB/ih4q8X%2BGtLh8ISQXYXXf7Wee0uLk3rpKYpdVYpKkMX7uEIyFmMg8j1r/gjDLr3inx74kvPjt4diuPGXgLx/wCF/wC2rX4Xomt3MfiaRXFxquom%2BL6o9ltEcKBbdPLG3amAw92sP2/PhHq%2BnWM2k%2BFPEc19daL4t1K70mX7Bby6Wnhy9Ww1GO7knu0ggYXbpAjNL5bEli6xq7rwng3/AIKfeB/jtN8ONR%2BAkFnLY678Z9R8DeN4L%2B%2BsdSl082/g3V/EKG2udKvrizldjaWB3pPMgSaaNgkqnyvSIOuk/YYD%2BIdV18fFDB1P466T8RzENE/1f2LSNP037Bnz/m3/AGDzPOwNvm7fLbbubvPjX8DtQ/aA/Z5134JeP/GMVvf61YNGniDQ9LMAsrpJRNa3UUEssuWhlSF9rOyu0ZzgNgfPHi3/AIKrSv8ABDwp41%2BEXwp1/wAR3uqQfD2TxH4pl8PwW%2BjaK3iS705UguYBqTXMdw1re%2BaqQG6igaaDzZmUkt9IfGH48eH/AISfALx58fbrRtSubHwF4f1jVL6yuNPmtJbgadDLLKsYnRSyt5LBJVDRuCGRmUgkA534C/s//FD4U6v4i8d%2BNfi1ofiHxV448Wxat401Gy8HzWFpJawaZFYW9lY27X0zWmz7PBKZJZbkszXA2qJU8njP2cP2Tv2rvgXo/jfUvEn7T/gHxR408aXv9o3fjWb4RXtvcS3okAiW5jOuyCWzhtx9nhtYTbiNRuDl2kZ9r9lr42fH7xD8VPE3wG/aVHhG58RaN4K8O%2BK7XUvBelXNlaC11WTUoDZNHc3Nw7y28%2BlzZnDosqTRkRRkMtct4/8A2nP2mvgx8bPEnw78Qz/D7xrFB8K/EnjTT9J0LTbjRZ/D6WMsK6dBqV7dX08Dpe754xOY7UBrKdlR0SQxAEcX7A/xh0/Wk%2BL2k/tJaAvxHf4lXnjC9vrv4dSyeG5JbjQodEaCPSV1NZotttbxyCb7a0nnPOzFkmMQoaB/wTt%2BMfgXXfhDZeDP2lvDV34P%2BEPh2G20nwn4u%2BGk98kusb5BPrCPbataxxTCBzBbRtFLHaK8hQMWBXzfwZ/wU7%2BPur/DnWtU8Qan4L00WfiLwtZ3HxA8T/DXWvDdh4atNVt7iaa71HR9RvVu2tYmgjgivvtEFtcSXfyuq20pO/4t/wCCiPxnvf2Ej%2B2J8NPEXhWd/DmseJtH1m1tvhVretWfiW70u9uraC4t5rO9T%2Bw7C5WyeU3t559vbpdRGSUiPdKAeqeHf2Ovi7N%2B0544%2BNvxb%2BNvhPxdoHjLT7jRLfQbj4e3VvqOh%2BH3i2rpVpfDVmhjRpsT3Ev2TzLlwAxVYoFho/Br9iz4%2B/Bq0uPEFn%2B094f1nxdpvgfRvBvgvWtX%2BG8ptNP0WwmkkJvLWLU0a9vLgSASzxzW0eYYmSCMB1ex8XvjL%2B1Z4T/aR%2BEngrwR4x%2BHs%2BhfErxAVvfCt14KvJ9S0vR7TTHu9RvP7Ui1ZYJMTLBBGws9oe/gBDAFj5R4O/4Kq6z4k%2BG3xD%2BO8XiLwxc2WmeE/EGreAPhw/gjV7C91AWF6tpDK2uXE32O/Qu0Quo7O3Js3u0jeRjGTIAd745/YG%2BN2ufs33vwZ8H/ALSvhfTtd8Q/E%2BPxv4s1/U/hncXdjLdx6rb6mtvY2EWrQGyh861hDb57hnDTMW8yQyDd%2BO37DF/%2B0r8R/BnjD4wa18OLu18NjSLjVLy0%2BFG3X7q6srtbx4rPVZr%2BVrCwnnjj32oilk8syp9oPmblpeHPjN%2B1vqTfEL4R%2BKvir8JtB8V/Da/07UNZ8eXngi/Ohy6Dd6fJceYbBtXSSCaOeGaNne9MflRCXAL%2BWnm%2Bs/8ABQ/9qXW/gpZ/E/wR4B8IaVfeF/gI/wAUvHmmeINLvZP7ZtfNuFt7LT8XED2BuYrG7mWa4WcwiS3RoXJdgAe0aN%2Bzb%2B0ZpP7XHj39pI/H7wTJpPjLwPpvhqy8Nf8ACsbsXGnxabPq9xYzPdnWClwwl1i484C3jEqRRqnknc7UtF/ZL%2BPFg3xR%2BI2p/HvwbN8R/iT4d0nQv7Ys/hlc2%2Bh6fZWBvPLZtN/tZp7i4ZdQulaZr1eBbjbtg2Pm3X7bPjPxP%2B2v4G%2BCPwu8PaRc/D7U31HTvE3iO%2Bhla6l1iLSzqK2tmVkVFW3i8oTsyyBnuhEpR7eYVW%2BD/wC0L%2B1T4%2B%2BMvxO/ZruPE3g278QeFPDlleaP4pvPhTrXh%2BzgvJrq6geI2F9qDzatahbcOt9aTpbuSYw%2BRkAFDTv2APj5pHwr%2BGHhix/ad8IP4l%2BHHw31TwG2p3vwomuNJ1PRryLT4vMOnPq5aK9RNNgAm%2B0PEwlnVoCsgVPR/AP7HWkeA/Hfwp1%2BPx5eajo3wf8AhlP4U8L6RqNtvmkuJUsoG1Se43/POLay8kARjAurg7jvwPHNV/bd/ai1D9jb9nv49aBpmjWepfEn7PJ8R9b0z4Ra94pstCtm0S9vDcRabpl4t1HE13BbQB5JnWNZ/mLHDV6L4s/aK%2BLunfFL9nK/8B%2BPfh/4l%2BHXxe1Z9H1bUdP0G6%2B030p8Ma1rUWo6fcC%2BaKC2c6ZCBFJHcMUuG/egqGIBi/DT9gb4o/DLxvY%2BKtN/aL0e6i8IWfipfhwtx4Af7XaXGuXi3csmrXA1D/iarG6jCRJZmQgPIzSBXDNX/wCCfPjrxfc6l8UfHfxu8OXvxLl%2BIejeMNF1i1%2BHskOgade6ZZPYwZ0p9RkmmL2806ySm8WQs0RRoxBGo5vwz%2B358ctZ/bZuP2f7vQNCXRX8Za9oFvp7eENSieKKw0qS9hvItda4On6lcSvGivpVvEt3BHLI7nFpKTifDb9vD9q/xT%2BxNrHxSvLjQ9Q%2BMOn6f4RutY%2BHVv8As/8AifTb3wsuqXcEN202k3F%2B99qsUSNeGKW28pJDYyhS%2B1goB9E/Bb4EH9nD9mjUfhnP4oTWryS48Q61qupQacLOCW%2B1O/vNSuRBbh3%2BzwLPdyLHFvcpGqBndgXah44/5SF/C/8A7Iz48/8ATt4Qq/8ABb4qn4x/s0XnjG6%2BJejeKr5bfU7TU9R0Twhe%2BH0iuYXlje2l02/uJ7qyniwEkimffuUttQMFFDxx/wApC/hf/wBkZ8ef%2BnbwhQB7NRRRQAUUUUAFFFFABXjP7B//ACRDXP8Ass3xH/8AU11uvZq8Z/YP/wCSIa5/2Wb4j/8Aqa63QB7NRRRQAUUUUAFFFFABRRRQAUUUUAFFFFABRRWH48%2BJvw3%2BFejN4i%2BJ3xA0Tw5p6glr7XdVhtIRjr88rKP1qZSjCLlJ2S76fma0KFfE1Y0qMHOUtEopybfZKKbb8kmblFfLHif/AILE/saW2uyeFPhFeeL/AIqatAf3%2BnfC/wAIXOqNGPXzMJEw91dqov8A8FM/jH4lTyPhb/wS5%2BPt7cycWy%2BKtAg0SFmPTfJLK4jX/aIOK8x53lSdo1VL/CpS/wDSYyX4n3NPwu4%2BlBTq4CVFPX99OjQ07tV69KaXW7p2tqfWtFfI8er/APBZ/wCMLC%2BsPCXwc%2BD2nn5lstXvbnX9TU9lZ4MWxHqRg5p7/syf8FYPE4%2By%2BJP%2BClnh3Q7eTic%2BG/hHaSShe4R55PlPbd1HWl/alSetPDVZL/DGP/pc0/vS9C3wJg8O7Y3O8DSkt0qtWs186GHnFvyjOX%2BI%2BtayvFHjrwR4Itft3jTxjpWkQAZM2qahFbpj1zIwFfLw/wCCTGh%2BND9q/aH/AG0fjj4%2Bmb/WWl344ax08HvstrdF2Z9mrW8L/wDBGb/gmz4Xuv7R/wCGarTVLsndLda9ruoX7SH1ZZ52Q/8AfNH1jOanwYeMf8VTX7oQf5i/sfw2wmlfN69Zr/nxg7J%2BksRiIP5%2Bz%2BR1nxB/4Kaf8E/vhjDJL4q/a68DsYv9ZDpGtJqMqn08u0818%2B2M154f%2BCvHw38ef6P%2By9%2BzF8YvinJJ/wAe1/4f8DzW2nN6F7m62eWp9Shr3XwB%2ByT%2Byz8KpY7n4a/s4eBdCni5S50rwpaQTA%2BpkWMMT7k5r0Kj2OdVfjrQgv7sHJ/fOVv/ACUf9peGWA1w%2BXYnEy718RClH5wwtJyfp7VdvM%2BSY/jJ/wAFjfiSTqXgb9kH4UfD60b/AFVr8RPHE%2Bo3DDsx/s1QF9dp5HSnHwf/AMFs/FH%2Bj638Yv2evCyP9658NeH9WvpU%2Bi3ZCn8a%2BtKKP7KlL%2BJiKr/7fUV90YK3yYv9fqVF2wmTYCmltfDyqtf9vVsRNy9ZRfofJX/DIP8AwVAk/wCJ5J/wVm26l/DaJ8FtK%2Bwhf7m0yZP%2B/wDeoHwv/wCCz1n/AMSi3/aj%2BC95bjpq934Ku47s/WKNvK/WvrWij%2Bx8OvhqVF6VZ/q5foH/ABEjOJ/xsHgqnbmwOGVvTkjSf3uXzPkpv2UP%2BCovjM%2BT48/4Ke2WiWjf6218HfCmxSRvZZ5n3pj1AoH/AASv8S6mPt/in/gpn%2B09NqDf6ybSfiSljAf92BLdgo/GvrWij%2BxMBL%2BIpS/xVKj/APb0H/ETuLaWmFlRoLtSwmEp/f8A7NUb%2BbPkl/8AgkN8PvEp%2BxfGL9sX9oPx7pQ/5gfin4nyvaP67lhjjZs/7wruPAH/AASz/wCCePw1to7Xw7%2ByJ4MuBF92TXdM/tSTPqXvDKxP1Ne/UVdPJsqpy5lRi33a5n98nNnNi/Erj/G0fYzzOtGH8tOfsY%2BrjQjh4t%2BbTfmcdpf7O/7P%2Bh262eifAzwdZxIMJFa%2BGbSNV%2BgWMAVoL8JPhSi7U%2BGXh4AdANFg/wDiK6Giu5UKEVZQX3L/ACPl6maZpVlzTxFRvzqTf5zZn6J4R8KeGix8OeGNO08v982VlHFu%2Bu0DNaFFFaJKKskcdSpUqy5pybfdtt/e23%2BIUUUUyArxn9l//kt/7R3/AGWax/8AUK8L17NXjP7L/wDyW/8AaO/7LNY/%2BoV4XoA9mooooAKKKKACiiigAooooAKKKKACiiigAooooAKKKKACiiigAooooAKK5jw58bfgx4x%2BIOs/CTwj8XfDGq%2BK/DiK/iHwzpuv20%2BoaWrY2tcWyOZIAdy4LqM5HrV3UfiT8OtI8bWnw11bx9otr4jv9LuNSsdAuNVhS9uLKBo0nuY4GYSPDG0sSvIAVUyICQWGQDar4X/4KH6l/Yv/AAVt/Yh1LdjMnjy2z/12g0aLH/j1fWvwc/aN/Z6/aJ0%2B71b9n748eDPHVrYGMX1z4N8UWmpx2xkBMYka2kcJuCsVzjIU46V8Vf8ABWnUv7F/4KW/sOaluxnxprdtn/rteeH4sf8Aj1ebm0uTL5S7OP8A6XTPtPD2h9Z4uoUf5o119%2BFxf%2BR%2BhFFFFekfFhRRRQAUUUUAFFFFABRRRQAUUUUAFFFFAGV4G/5EnR/%2BwXb/APota1ayh4M0NMrA19CmSRFb6tcxovsqrIFUewAFL/wh%2Bk/8/eq/%2BDy7/wDjtAGpRWX/AMIfpP8Az96r/wCDy7/%2BO0f8IfpP/P3qv/g8u/8A47QB4f4g/wCCaf7PniXxH8ZvEuoav4mEvxt062s9ct01GHydEESktJpqGEiBppyLmYS%2BaksyqWUr8hf4K/4J3fDnwt4uj%2BIXiD4xePvFPiA/E6Tx3eax4gvdP8y71NvCs/hfy2S1soYktxYTlljiSPEyI2dm6Nvbf%2BEP0n/n71X/AMHl3/8AHaP%2BEP0n/n71X/weXf8A8doA%2Bcv%2BHUnwYs/C%2BgeAfDnxn%2BJGkeHdIsfCEOqaDp2p6eIPEE3hprU6Zd3jPYtKJttlbJL9neCOVIlDJ8q4%2BgdY%2BHWkeLfA%2Bu/Dr4hX1z4j0nxFDfW2pWuqRwqGsroOr2Y8iOMGJY3MalsyFQN7u2WNz/hD9J/5%2B9V/8Hl3/wDHaP8AhD9J/wCfvVf/AAeXf/x2gDzP4Hfse6X8C5NS1nTvjn478Qa/qkOi2N14o8TT6bPfHSNKkle00keXZRxfZh9ouwzmM3LG8mcz%2BYVkXmfD3/BOrwXYS/Few8afHz4heL9C%2BNEWqxePPDniP%2BxjDdRX0BtjCl1babDfJFBbH7PBH9pKRRgDBPzV7l/wh%2Bk/8/eq/wDg8u//AI7R/wAIfpP/AD96r/4PLv8A%2BO0AeS%2BFP2Lr7wfH4l1/Tv2sfihP418UWWk6fefEW9GhS6rBp2mvcva2UUR0r7D5Qe9vWLPavKzXUjGQkIVh1z9hTRLz4O23wI8JftEfEfwx4cltdUi8VQaLc6U8/iiTUp5Li/uL2e60%2BaWOeeae5dpLRrZg1w5XbiPZ7B/wh%2Bk/8/eq/wDg8u//AI7R/wAIfpP/AD96r/4PLv8A%2BO0Acron7OPw88PfGLSfjPpjXyXnh7wEfCPh3S2mQ2Wl6e9xFPMYV2eYJJTbWauzOwK2cICqQxbzQ/8ABM74D3/9s6N4r8WeLda8M3%2BgeIdG0TwdfX1rHYeG7TW5lm1FbFre2iuAzuq%2BW880zW6jbCY14r3X/hD9J/5%2B9V/8Hl3/APHaP%2BEP0n/n71X/AMHl3/8AHaAPn7xx/wAEzvCXxF%2BGereAPFn7TnxRutQ8SeMNO1/xb4tlk0N77XxYW6w2um3cL6WbF9PTy4nNutqokeMtIX82YSbfxe/YE8JfHLTrO2%2BIPx2%2BIE13L4SufCvjPU7ObSrabxlodxKJJdP1FY7ARJGfnUSWaWsyLNKFkXzGz7N/wh%2Bk/wDP3qv/AIPLv/47R/wh%2Bk/8/eq/%2BDy7/wDjtAHkniP/AIJzfsZ6/wDtAeG/2n7X9n7wjpPjbw1q15qcWvaP4T06C5v7y4gaEz3U32cyyyJu8xH3hlkAbJ6VZ8Jfse3vhrXtc8f6r%2B1H8SNe8Z6r4YXQNM8a6zHoX2zQbESmYraQQaXFZlmlKuz3FvOzGNASVULXqX/CH6T/AM/eq/8Ag8u//jtH/CH6T/z96r/4PLv/AOO0AeN/C79iHxD8Gv2ePDv7OPw6/bV%2BLWn6f4XX7Ppmui18MvqH2EQrFHZOX0UwGNNu9ZBCJ9zHMrLhRB4j/wCCffhW6s/g5oPw5/aA%2BIXgfRfgc8MvgzRPDn9jXEMs0em3el%2BddSalpt1PM7WV9dQtiVQfN8zAkVZB7X/wh%2Bk/8/eq/wDg8u//AI7R/wAIfpP/AD96r/4PLv8A%2BO0AePaT%2BwP4A0X4qRfEix%2BLPjgWFh4u1jxZ4f8ABrXlidL0bX9Tt7uC81KD/RPtLSMNQvnEU08sCPdOyxAhNlzw5%2BxxqHh278UeMW/ar%2BJd9448UaZpmmS/EK9i0H%2B0dPsLG4nuIbW2gj0pbBUL3VzvZ7V5HE5y/wAkWz1X/hD9J/5%2B9V/8Hl3/APHaP%2BEP0n/n71X/AMHl3/8AHaAOH%2BHnwI8Ofs/fBvxL4b0bxLrOu3usXGpaz4g8ReIZoXvdV1C4UmS4l8iKKFDhURUiijjRI0VUAFYvjj/lIX8L/wDsjPjz/wBO3hCvUT4M0N8LO19MmQTFcatcyI3sytIVYexBFeXeOP8AlIX8L/8AsjPjz/07eEKAPZqKKKAPP/2q/jVc/s5/s3%2BNvjjp%2Bgpqt54Y8OXV9p%2BmSzGKO7ulQ%2BRC7gEojSlFZwCVUk4OMV5v4N/aT/aD8LeGvjZ4T%2BKfhbQ/Gvjv4S6HHrGlw%2BA9HudOt/EsNxpj3VtbR209xdyQzm4guLfHmyBgI5AFLmNfZvi58LPBvxw%2BFniL4N/EOwkutC8U6Lc6Vq0EMzRSNbzxNG%2Bx1w0bgMSrqQVYAgggVxPwe/ZTT4P3et69F8e/HXiHXvE87TeJfEfiD%2Bymu9RZbSK1tdwt7CGKJbaOLMSQxxqXkleUTM7GgDxL9nz9u/4lfHrS/iR4G8J/HH4aeI/EHgnwd4e8Ux%2BNvAvw31fV9LS31GTUFm03%2ByrfUnu7u9gOlzAiG4VybmJTArxvEczwh%2B3n%2B1h8Y/h/4Y074UaT4EsfFt14Z8ceIdWv/EvhrUUtL600DV4tNt7ddPN5HdaVcXpnSR47mSWWwMckUsMsgwPcvDn7H194ZsvEes2X7UnxIl8ceKX0%2BPVPiXcR6E2rfY7LzTbWKQ/2WNPS3Q3F0wQWmS91K5Yu24czrP8AwTV%2BGOoeErDRNF%2BNPxE0TWoU8Qxa3410nUrBdV16DXbiO51aG6aSyeBFnmhgcG2hgeAwRi3aEDBAPVPBn7QHw68Rfs76D%2B014n8QWPhjwxrXhSx1%2Ba/8QahFbQafbXMEcy%2BdNIVRMCRQWJAzXB/8E6fE/hrxr%2BzdfeMPBviGx1fSNU%2BLfxDu9M1TTLtLi2u4JPGetNHLFKhKyIykMGUkEEEGvZvC/hnQfBfhrTvB3hXS4rHS9JsYbLTbKAYS3giQJHGvsqqAPYV5P%2Bwf/wAkQ1z/ALLN8R//AFNdboA9mooooAKKKKACiiigAooooAKK%2Ba/2i/8Agov4c8CfEX/hm/8AZh%2BH138W/ixIdsvhbQLlUtNGXODLqV4QY7VVzyp%2BbOA2zcGrln/Z0/4KkftGIT%2B0D%2B19oPwq0S4GJvDPwb0hpL1oz/C2pXZ8yGQDq0QZc9B0ry6ma03UdPDQlVktHy25U%2Bzm2op90uZrqlsfeYPgHGRwdPG5ziqWAo1FzQ9s5OrOD2nTw9OM60ov7MpKlCX2ZSXvHrf7TH7ev7Lf7JrR6X8WviVD/b10VXT/AAjosTX2rXjt9xUtYsuN3QM%2B1CeN1eQxftAf8FPP2pZFP7Ov7NWk/BzwvKcp4r%2BMMjS6rPH1zFpcBzC/TiYspBOGr1z9mb9gj9l39k0yar8KfhzFJ4gudzaj4w12U32r3rt99pLqXLLu6sqbEJ5217JUfVczxeuIq%2Bzj/LT3%2BdRq/wD4DGK8zpeecEcPe5k%2BB%2Bt1V/y/xi9y/enhKclBLs69WrLvBbHyQf2Av2zfiMCP2gP%2BCqHj%2BeGX/W2Pw48P2XhvYp6os0Qdz/vEZra8Cf8ABH39gzwlrA8VeK/hRdeO9cJBm1r4h63c6vLPj%2B/HM/ktz/0z719O0VcclyxSUp0%2Bd95uU3/5O5L8DmreJ3HM6UqOHxjw8Ho44aFPDRa7P6vTpSa8nUf36mb4U8HeEfAmixeG/A/hXTdG06AYhsNKsY7eGP8A3UjAUfgK0qKK9NRUVZKyPhqlSpWqOpUk5Serbbbb7tttt%2BbbfmFFFFMgKKKKACiiigAooooAKKKKACiiigAooooAKKKKACiiigAooooAK8Z/Zf8A%2BS3/ALR3/ZZrH/1CvC9ezV4z%2By//AMlv/aO/7LNY/wDqFeF6APZqKKKACiiigAooooAKKKKACiiigAooooAKKKKACiiigAooooAKKKKAPhH9njw94z8GfGzwBoHiD4QeNdO1L4aeKviPeePvEzeB9Ra01G21nWXe0%2BzXSQFNR%2B2PPa3rLbtL5C2jG48lowKcvwU/bD8P/wDBTrS/jh8VPg34Z1XQ9Y0Lxxa3Xjbw34q1K8nsPD4fTBpVgbQ6OsdvOscbSLbC5kE9xdajKjqFWJvuyigD5Y/4Ju2/j3wONR%2BA/h7xB8R/EPwi8D%2BCPDum%2BA/EHxY%2BHzeHNXjuokure5sEiewsHubeK2g09xO9sDvnkXzpiGEXzX/wWG0z4r6N%2B3h%2BzN428beNPD2oaFpXi271Dw1YaV4Yns7vTkTW/DCSC6uZL2ZLsnzEwyQ24XByG3Db%2BndfnL/wXg/0Hxj8MfFfT%2BwvC2s3%2B7%2B7t8UeCkz/AOP15Oe/8ieu%2B0b/AHOL/Q/QPCrXxHyuH89Xk/8ABlOtT/8Ach%2BjVFFFesfn4UUUUAFFFFABRRRQAUUUUAFFFFABRRRQAUUUUAFFFFABRRRQAUUUUAFFFFABRRRQAUUUUAFFFFABRRRQAUUUUAFFFFABXjPjj/lIX8L/APsjPjz/ANO3hCvZq8Z8cf8AKQv4X/8AZGfHn/p28IUAezUUUUAFFFFABRRRQAV4z%2Bwf/wAkQ1z/ALLN8R//AFNdbr2avGf2D/8AkiGuf9lm%2BI//AKmut0AezUUUUAFFFFABRRXkn7X/AO2P8M/2PPAVv4i8W291rHiDWrkWXg7wXo6%2BZqOv3zEBIIIwCcbmXdJghQw6syq2NevRwtGVWrLlit2/6%2B5bt6JNnoZVlOZZ5mNPAYCk6lao7RjHdvfySSSblJtRjFOUpRim103x/wD2hvg/%2By/8M734ufG/xpbaJollhTNNlpLiU52wwxrlpZWwcIoJ4J4AJHzCdS/b1/4KPr5ehRav%2Bz18GrvrfzqB4x8R25/55ryumxsP4uX6EGRWIG7%2Bz5%2BxX8U/jP8AE%2Bw/bG/4KJ3Fpq3i%2B1PneCPhtav5mjeCo2IZcKSVubzhS0xyFYDBYqjJ9ZXV3a2Ns95fXMcMMSlpJZXCqgHUkngCvKVLF5r71dunR6QWkpLvNrWKf8kWnb4pfZX39TMOHuAf3OWqnjMwj8eIklUoUZfy4anJclaceuJqxlDmX7ik0lVlwP7Nv7LHwK/ZL8Ap8OvgV4DttHsiQ99dD95dahNjma4nbLzOcnljgZwoUYA9CpI5I5o1likVkYAqynII9QaWvXpUqVCkqdKKjFbJKyR%2BeY/MMfm2NqYzG1ZVatR80pzk5Sk31bbbf%2BVkkkkkUUUVocYUUUUAFFFFABRRRQAUUUUAFFFFABRRRQAUUUUAFFFFABRRRQAUUUUAFFFFABRRRQAV4z%2By/wD8lv8A2jv%2ByzWP/qFeF69mrxn9l/8A5Lf%2B0d/2Wax/9QrwvQB7NRRRQAUUUUAFFFFABRRRQAUUUUAFFFFABRRRQAUUUUAFFFFABRRRQAUUUUAFfnh/wXp0x9U8H%2BXDkSQfBHxRcow6qYvFngSQkfgpr9D6%2BF/%2BCyGkf23aX1ntzs/Zo%2BIdxj/rlrHg2X/2SvNzmHtMoxEe9Of/AKSz7Xw2xH1TxFyat/Li8O//ACtTX6n27oGpprehWWsxkbbu0jmXHo6hv61brjf2ddX/AOEg/Z98Ca9v3fbvBul3G7132kTZ/WuyrupT9pSjLuk/vSf6nyuPw/1TH1qH8k5x/wDAZyj/AO2hRRRWhyBRRRQAUUUUAFFFFABRRRQAUUUUAFFFFABRRRQAUUUUAFFFFABRRRQAUUUUAFFFFABRRRQAUUUUAFFFFABRRRQAV4z44/5SF/C//sjPjz/07eEK9mrxnxx/ykL%2BF/8A2Rnx5/6dvCFAHs1FFFABRXmH7afxe8VfAP8AZM%2BIfxj8DR2p1vw/4UvLrR3voi9vDdCMiKWVQQWiRyruuRlVYZGcjzf4e%2BP/ANqDwpa/Hz4IaV46m%2BJ/jL4faHbah8PdZ8T2FhZz6hd3ulSSwWF2LCG2tyFvIGw6xxnybiNWJZDI4B9L0V8Tfs%2B/tCfFX4iaj8Uvg/8AED9p/wCJnhbTPBPgLwt4vvfif49%2BHuk%2BHtX0sXkusJqNqLe80yO1W0i/skFbiW2k/wBbcASyqiSVQ1T4qft96z8B/hp8UzrPxY/4RsP4tvvGGt%2BA/DXhWHxFd6HFd/8AFP393Y61B5UcstgBPNBaQrNvfAgQ/uVAPuivGf2D/wDkiGuf9lm%2BI/8A6mut13ln8W/BEnwcsvjXpep6nrfh670K31SyvtG0K61C6vrWaNJI5Y7S0heaVnV1bZHEW5%2B6Mcea/wDBOnxDYeLf2br7xTpVvfRW2o/Fv4h3NvFqelz2VyiP4z1pgJbe4RJoHAPMciK6nIZQQRQB7pRRXhX/AAUq%2BPuo/s4/sW%2BN/HnhqWUeIb3Tho3haO2J859SvWFtAYwOS6GQy49IjWGJxFPCYadae0U2/kr/APA%2BZzYzFUsDhKmIqfDCLk/kr/e9l5tHutcj8a/jz8Hf2cvAtx8Svjh8RNM8N6LbcNealPt8x8EiONBl5ZDg4RAzHHANfKnwx/4JS/GL4IfDjQP%2BGdf2/PiT4I8T22jWo1uw1G4i1zQZ78RL58iWNwAqB5N/RjgEYHHPnH7QnwR0n9m7xJoPi741eJrr9pL9qTxxctZ/DHQ/EFsqaRo8hOWu4dOU%2BVbWsGN7SP8AeZMr5f7x18bE5rmNDCuc8PyOy1clKKvaySj78pNuygopt/atqGQ4Pi7inMqOV5fgUq9T7U6kPZQilzTnOStJRpxUpTbUVGMZOU0rc1n9oX/guJ8R7rV9G%2BH37F/7IniDW9Z8WSiLwnqXjaze0Gq5JAntdPRhPcW/DHz2eJF2Nnoao/C/4Lf8FQ/gl%2B0BqP7Yfx6/ZH8LfG/xpqlmkVhc6V8RYbKTwrZlTus7GC5iEUZG5lYoXZvmxId7s/1N%2Bxn%2Bwvo/7Odxf/GL4qeKpfHXxf8AFUYfxh4%2B1Nd0hJAJtLNSALe1TAVUULuCrkAKiJ7/AFzYfJ8xxtsRj68lNO8Yx5Uodm1aUXLXrfl6O95H02a06OQKpgcgzXESnODp18RHkpU6ybTlClRdKThh7qyc6ntqyV6qjBxor5D%2B3/8ABZD9oXiy0f4a/s/6NP8A8tLyY%2BJtdhB6EKuLM8dmwc1Jaf8ABIf4Z/EO6j1r9sr9oL4lfGi8Dh2sfEviWWz0mNxzmGytGQRDPO3eR7V9cUV6f9jYSpriXKq/78m1/wCArlh/5Kz4ZcP4Krri5Srv/p5JuP8A4AuWH/krPka6/wCCN/7P/hJJLj9mb4zfFj4R3IBa2XwV4/uvsqv23w3DSeYmeqblyOMisq1/ax/bH/YQuI/C/wC3r8Pbj4heB0cRWHxq%2BHmkF5Y16L/amnJ80LHjMkfyZIUCRiTX2dRSeT0KL5sE/Yy/u6xfk4N8rXpytdGJ5Dh8O%2BfL5OhL%2B7rB%2BUqbfK1/h5JLoz5HH/BUzxV4/IT9m/8A4J7fG7xlG3%2Bq1TU/DqaLp8w9UuLlzn8VFSf8N3/t2f8ASJLxr/4X%2Bmf4V9aUVX1HMZayxcr%2BUKaX4qT/ABK/s7NZazx0r/3adJL7mpP8T5KP7eX7dEY3zf8ABJPxuEHLFPHmmM2PYAcn2pB/wVF8f6AfL%2BIf/BMf9o2yfoW0LwVFqkYP%2B/HMvHvX1tRR9RzFfDi5fOFN/pEP7OzWPw46Xzp0n%2BkfzPkS/wD%2BCwvw28NWp1v4i/sYftH%2BFNDgZTqfiTxH8KHgsdOiJAM07rOzKi55IVj6Anivp/4b/Ez4ffGHwXYfEX4W%2BMdP17Q9ThEtjqml3KyxSr3GR0YHIKnBUgggEEVs3FvBdwPa3UCSxSoUkjkUMrqRggg9QR2r5N8X/wDBNjxr8KfiLefFL/gnV8f2%2BD0%2BvSs3inwlLoqal4fvWI4uYrNyFtpxxynykDACDcGlvNsHLmbVePVKMYTXmteWS7puL6pvYhvPcBLnk1iIdUoxpzXnH3uSS7puMuqb2PrWivkn/hiL/god4m5%2BIf8AwVr8QFG%2B9b%2BF/hhpembB6CRWZj9SM0o/4JVa1rJ%2B0eO/%2BCkn7S%2Bozelh8R1sYQfURxwED86r69mEvgwkv%2B3p04/rIv8AtLNZ/BgZf9vVKUfycz61rC8SfFH4Z%2BDdRi0jxf8AEXQtKu5/9Ta6lq8MEkn%2B6rsCfwr5mf8A4JC/Dy/H2XxP%2B2h%2B0hrVi/8Ax8aZqvxaleCcf3XCwqSPoRW54Z/4I6f8E3fDOny2S/sxaZqUlxzc3uualeXtxK3dvMmmYqT/ALO2j2%2Bcz%2BGhCP8AiqX/APSIfqH1niCp8GGhD/FVv%2BEIfmz6Qstb0XUrH%2B1NO1e1uLbGftMNwrx49dwOKzdO%2BJ3w21jxAPCWk/ELQ7rVWRnXTLbVoXuCq/ePlqxbA7nHFfN97/wRG/4JhX199vk/ZhijJOXht/FerRxP6ZRbsLx9Kn8U/wDBGz9gPU/DA0nwB8IZfA%2Br20qz6R4u8Iaxc22q6bcL9yWKdnckjPRwy98ZAITrZ4lf2NPT/p5LX09xJfPTuJ1%2BI0r%2BwpadPazu/S9NJPte676H1LRXxzo3i3/grB%2ByXK/gPXfg1pv7SPhuJf8AiT%2BMdM8SWug6zDEOBHewXG5LiTGMNFknBLOScDQ/4eY/Gnw3/wAlL/4JbfHq02/6w%2BGdEt9ZA%2BhilTNCznCxVq0Z031UoT0%2BcYyi/VNoFxBgoK2IjOlLqpU56f8Ab0Yzi15ptPy2Praivkn/AIfMfsw6P/yUv4W/F/wXj/Wf8JR8MryLy/r5QkrovAv/AAWC/wCCbHxCvF0/Rf2rtBtJmOCuv2t1paqfQveQxKPzq451lE5cqrwv2ckn90uUuHEOQ1JcqxUE%2Bzkov7pcrPpSisPwT8T/AIa/EuwGqfDn4h6H4gtWGVudE1aG7jI9d0TMK2bm5trK3e7vLhIoo1LSSyuFVQOpJPAFejGcJx5ou67nrxnCceaLTXdNNfem1%2BI%2BivMtd/bV/Y28L6lJo3iX9rX4ZadeRHEtpfePNOhlT6q8wI/Kqn/De37DH/R6Hwm/8ONpn/x%2Bud47Ap2dWH/gUf8A5I5XmOXRdnXhf/HD/wCTPWKK474aftD/ALP/AMaLqex%2BDvxz8HeLJ7VA11D4a8TWl%2B8KnoWEEjFR7muxrenUp1Y80JJrummvvTaOilVpVoc9OSku6aa%2B9Nr8QoooqzQKKKKACvGf2X/%2BS3/tHf8AZZrH/wBQrwvXs1eM/sv/APJb/wBo7/ss1j/6hXhegD2aiiigAooooAKKKKACiiigAooooAKKKKACiiigAooooAKKKKACiiigDxn4W/tu/Dj4r/GD/hU2k%2BB/FOnwXt1rdr4X8W6pa2q6V4jn0i6FpqUVm0dw84aGbcB58MImWKSSEyxoXq14m/bV%2BDHhP9p5f2VdVOp/2zF4Kv8AxPqutpbx/wBlaVbWhtzJBcTmQMtwY7mOYRqjbYiruUEkXmeWfCb9kH9pD4bfE3wy14vgi%2B8I/DLXfFWp%2BBpI/EV5FqGrNrd%2B8ipexmxaO0FnaXV3FmN7j7VIInP2YbhWX4q/4JZ%2BJNV/aT/4WZp/7VPjO58Ia7pfjtPF3h/V00ZpBP4gFkgit5I9JW4kt447fYPOuWlijs7KKN/LWRSAez/s0ftheDv2mNQvdF034b%2BLvCWoW/h/TPEFjp3jKztYZtS0XUPPFnqEItricLHI1tOpilMdxEUAlhj3pu8b/wCCmGkf274o1LSgm5pf2Sfi15Y/2xN4WZf1Aruv2Q/2dv2gfAnxAn%2BKX7SF14QXVLD4a6F4I0a38G6ldXUN1BYS3Us2pTG4toDBJcPcR4tVEqwCE/v5jJleM/aZ%2BDXhvTv2tJ9V0jUPENxeeL/2bPiXHf2%2Bq%2BLtRv7SM/a/CygWtrczyQWQO85W3SMNxuB2rjnxkPaYOrHvGS%2B%2BMkezw5iPqnEWCr/yVqMv/Aa1KX6Hr/7BGr/27%2Bw58HdVL7ml%2BF%2Bg%2BYf9safCrfqDXrVfPv8AwSn1f%2B2/%2BCdPwhvN2dng6C3z/wBcmaL/ANkr6CrLLZ%2B0y2hLvCH/AKTE7uNsP9U40zSh/LicQv8AyvW/zCiiiu0%2BYCiiigAooooAKKKKACiiigAooooAKKKKACiiigAooooAKKKKACiiigAooooAKKKKACiiigAooooAKKKKACiiigArxnxx/wApC/hf/wBkZ8ef%2BnbwhXs1eM%2BOP%2BUhfwv/AOyM%2BPP/AE7eEKAPZqKKKAMzxp4N8K/EXwdq3w%2B8daBa6romu6bPp%2BsaXexB4by1mjaOWGRTwyOjMpHcE1xPwu/ZL%2BCXwb06703wBp/iKD%2B0Z55tVu7/AMd6xfXWoyy28NsZLm4urqSa5ZILeGKJpXYwJGBF5Yr0migDxPWv%2BCef7KniX4V638HPEvhPxJqWkeJNXsdT8QXeo/EjXp9V1G4s3jktDNqb3pvpI4WiQpEZzGu3heTnU8VfsV/A/wAbeA9O%2BGnirUviHe6PpiXkawy/GPxN5t5FdFTNDeTjURLfxHaFEVy8qIpKqqqxB9YooAraLo2keHNHtPD3h/S7exsLC2jt7GytIRHFbwooVI0VQAqqoAAHAAAryL9g/wD5Ihrn/ZZviP8A%2BprrdezV4z%2Bwf/yRDXP%2ByzfEf/1NdboA9mr5A/a3/wCMkP8Agoz8Ev2ULf8Af6N4Djn%2BJvjSEcrvt2Nvpit2z9oZyVPVXBxX18zKqlmIAAySe1fnJ8LP2mbf4efCr9o//gq3cWo1DUvHvi//AIRj4RWbIZDf21jmx05YlHJEs5eSRF6i3c8kV4ed16UYU6VR2i3zS/wU/fl97UI%2BbdupxyyrHcS51gMgwUeeriqsYqPdRak79k5cibeiSk3omfWH7YP7cnw2/ZMsNP8ADbaTe%2BLfiB4kbyfBvw68PL5uo6tMchTtAPkwgg7pWGAFbaGI21y37Dn7I/xA8FeJNa/a5/a0vLbVvjP44jC6gYHElt4Y07OYtJszkhUQY8xlJ3sOrYLvc/YW/Yf0z9n/AEj/AIXZ8Yr%2B48V/GjxbYxz%2BOfGetTCe4jmdFL2VscbYLaM/IFQAMEXPyhFX6JrTD4bEYytHFYtWtrCH8t18Un1nZ%2BkLtK7vI/Us5zrJ%2BHMur5Dw9J1Pae7iMU9HXUXf2VGO9PC8yT1ftMRywlU5aahSCiiivYPzkKKKKACiiigAooooAKKKKACiiigAooooAKKKKACiiigAooooAK5zx58H/hJ8U7NtO%2BJ3wu8O%2BI7dxhoNe0SC8Qj3EqMK6OipnCFSPLJJrzV/zuROnTqR5ZpNdmk19zTR8y%2BNP%2BCOP/BNfxzftqmo/st6TYXJOVk8P6ne6aEPqqWs8aD/AL5rFg/4In/sFzXCJ4m8LeLde02Fg1voWtePtSls4mH8QQTKfTqxHHSvrSivNlkmTyld4eF/8K/G1k/mjyZcO5BOXM8LTv8A4Iq/rayfzTPFvD//AATh/YD8NaYmk6d%2Bxp8NJIo/uvqHg2zu5T9ZJ43dvxJq7/wwD%2Bwl/wBGWfCf/wAN3pv/AMYr1yiuhZfl6VlRh/4BH/5E6llWVxVlh6f/AIBD/wCQPnP4rf8ABKH9hP4nw291pHwO0/wLrFgd2l%2BJPhqq6FfWUn/PRGtQqOw7GRHxXJWn7FX/AAUj8Hxf8I/8Of8AgrPqf9i25xp6eK/hTpurX6R9llu5JA87f7ZAJ9K%2BuaKwnk%2BXTnzxhyN7uDcL%2BvI4p/NfM5qmQZVOpzwh7OT3dOUqd/X2bin81fzPkWf4b/8ABZP4Nv8A2z4W/aT%2BGXxlgxuutG8XeD/%2BEeuMf3beSxYpuPrKcdadF/wUP/av8Gp9k%2BM3/BKr4q291D8t0/ga9s9ehYj%2BKNomTcD1x2zjJr64oqP7MrUv4GInHybVRf8Ak6v/AOTGf9j16P8Au2LqQXaTVVf%2BVFzL/wADPkqH/gsz%2Byv4duEtvjz8Pvit8KWdgoPxE%2BG95ark9OYBNjnua7my/wCCpP8AwTvv7SO8g/bB8Dqki7lE2sLG4HurgMp9iAa95uLeC7ge2uoEljkUrJHIoZWB6gg9RXEXf7L/AOzTf3L3t9%2Bzx4FmmlYtLLL4Ss2Z2PUkmLJNP2Wd09I1acv8UJJ/%2BSSa/BD9hxFT0jXpzX96nKL/APJJtfgjl/Dn/BQv9hLxZIIND/bC%2BGzyE4WKbxlZwux9lkkUn8BWb%2Bx34n8NeMvip%2B0N4l8IeIbHVdNuvjLZG21DTbtJ4JgPBfhhSVkQlWwwIOD1BHauh8SfsNfsW%2BL4zH4l/ZK%2BG14SMCSXwTY7x9HEW4fga439g/4WfDv4KeNf2gPhn8J/B9joGgab8Z7Y2Gk6bF5cEHm%2BD/DU0m1e26SR2Puxrow39pKbWI5OXvHnvf0lpb5nVhP7XVRrFezcbbw507%2BaldW9GfQtFFFdp6IUUUUAFFFFABRRRQAUUUUAFFFFABRRRQAUUUUAFFFFABRRRQAUUUUAFeHfFfTE1v8Abu%2BHmjSAbbv4HfECFs%2Bj6p4RX%2Bte414z44/5SF/C/wD7Iz48/wDTt4QpNJqzKhKUJqUd07/dr%2Bh55/wRO1N9U/4Ji/C95ciS3t9UtpFPVTFqt5GB%2BSivqmvkv/giv/oP7Eq%2BFOn9hePfEdht/u7dSmfH/j9fWleXkTbyXDX/AJIr7lb9D7zxVjGPiZnPLs8TWkvSc%2BdfhNBRRRXqnwIUUUUAFFFFABRRRQAUUUUAFFFFABRRRQAUUUUAFFFFABRRRQAUUUUAFFFFABRRRQAUUUUAFFFFABRRRQAUUUUAFeM%2BOP8AlIX8L/8AsjPjz/07eEK9mrxnxx/ykL%2BF/wD2Rnx5/wCnbwhQB7NRRRQAUUUUAFFFFABXjP7B/wDyRDXP%2ByzfEf8A9TXW69mrxn9g/wD5Ihrn/ZZviP8A%2BprrdAHL/wDBU343%2BJfhF%2ByfqHhP4aln8b/EnUbfwZ4Jto32yPfagxiLqRypSHzXDdmVPWvEPhL8EPDXxK/a/wDh7%2ByF4OAuvhj%2ByT4es73XJlT91q3jCeP9xuHQtEPMuSQcrK0isOau/Hr4p6d8Sv29vF/xl1Xbc%2BB/2Q/hze6o6Ocw3fim8tXkCejmO3jCgcskoA4LV69/wSg%2BEN78NP2MPDvjLxW0lx4s%2BJDSeM/GGpXA/fXl7qJE4Z/QiExLjsVPcmvkWv7Vzuz%2BBfjGnJX/APA6z17xpWPqOA5LLMrzfjB/xE/7PwnlOpCUsTWXnClzwi1rzVL9EfSVFFFfXHy4UUUUAFFFFABRRRQAUUUUAFFFFABRRRQAUUUUAFFFFABRRRQAUUUUAFFFFABRRRQAUUUUAFFFFABRRRQAUUUUAFeM/sv/APJb/wBo7/ss1j/6hXhevZq8Z/Zf/wCS3/tHf9lmsf8A1CvC9AHs1FFFABRRRQAUUUUAFFFFABRRRQAUUUUAFFFFABRRRQAUUUUAFFFFABRXx/8As4/tF/H/AMT/ABo8CeLvGnxTn1bw78WPEXjrS4/A8mkWMVv4ZXR76dLGS3migW5dvItHjuftEswaa4VoxAq%2BW3RfEPx/%2B0X8Mv25vCPgW28c%2BM7jwd47bVreEeKbHw9/YTXkelXF7b6fpL2UK6mL1fsskzfbyYGggutru4jAAPp6vGfHH/KQv4X/APZGfHn/AKdvCFcT/wAE4Pib8b9V8Ny/CX9rrxZ8SZPi/pXg/QdW8YaF8QdO8NRQ27XUc8T3Gmy%2BH4lgltZLq2u0CyyPNH5CbljDgvq3/wATvDfjH/gpt4L8GaTpviGG88PfB7xxHfzar4R1GxtJS%2BreEsG2urmCOC9A2nLW7yBcjcRuXIByX/BIj/Qfhz8ZfCo4/sL9o7xbYbf7u2WF8f8Aj9fWlfJf/BMX/iVfE/8Aag8K9PJ/aJ1e/wBv/X1DA%2Bfx219aV5OR6ZVTXbmX3TqI/QPFP3uPcZU/n9jP/wADw2El%2BbYUUUV6x%2BfhRRRQAUUUUAFFFFABRRRQAUUUUAFFFFABRRRQAUUUUAFFFFABRRRQAUUUUAFFFFABRRRQAUUUUAFFFFABRRRQAV4z44/5SF/C/wD7Iz48/wDTt4Qr2avGfHH/ACkL%2BF//AGRnx5/6dvCFAHs1FFFAHj3/AAUHPjkfsOfFg/Df%2B0/7Y/4QLU/s/wDYm/7ds%2Bzv5v2by/n8/wArzPL2fPv27fmxXgH7Ni/s%2BeJtE/aH%2BE/7Hnxf8L%2BDPhp4p0lbX4d614JvLdNOsNV/sFU1S%2B0tIWWN1t/MsJZjAdq3AlLkSmU19wUUAfl18F/iJ%2Byj8I/h38bfiH8fPAfwPvv2fNJ8M%2BCLSx0L4Y6hFrPhTX/GC3GqJcCKW6ht7a4v5xJowm3gxxf6P507GKaVZbvRf2XNA%2BEXwhtf2q/H3w8174N3Xgr4mahaLo%2Buwal4X0bxRdarp91pmj6dcKTHJc2NlNq1nY%2BXtf8A0aXyUjby41/UCigDyz4A3f7QFj%2Bxh4BvPFWg2uqfE1Phzo513T/E2rS2Ec%2BsfYoftS3FxHb3DxHzfM3MIZDn%2BGuL/Yc8Yat4S/Y98SePviPpVjp97pnxI%2BJV/rllpmpPd21vJH4v1ySZIp5IYWlRSrASNFGWABKLnA%2Bh6%2BIPil8QP%2BFZf8EiPjz4oE/ls/jH4o6fFIDgq95401qzUj33TjHvXPi66w2EqVn9mMn9yb/Q5cfiVg8DVxD%2BxGUvui3%2BiPBINF165/4JBeEfCE15IfHv7Wnxdtv%2BEg1FR%2B9ml1DU2leb2jFraxqc8DzGPG6v1R0XR9N8PaPaaBo1otvZ2NtHb2kCD5Y4kUKqj2AAH4V8I%2BA/h/8A2v8Atq/sv/suiDNj8CfgafE2tw4%2BQ301vDpsAf8A6aK6GUDr8xNfe9eHw/Q5FOT%2ByoU//AIqU/vqVJX80fd5lhnkPh3w7km0vYzxVTvz4mXLC/n7Khf/ALfb6u5RRRX0h8cFFFFABRRRQAUUUUAFFFFABRRRQAUUUUAFFFFABRRRQAUUUUAFFFFABRRRQAUUUUAFFFFABRRRQAUUUUAFFFFABXjP7L//ACW/9o7/ALLNY/8AqFeF69mrxn9l/wD5Lf8AtHf9lmsf/UK8L0AezUUUUAFFFFABRRRQAUUUUAFFFFABRRRQAUUUUAFFFFABRRRQAUUUUAeVaH%2BxT%2Bzj4Y%2BIuq/Fbw54Q1Sw1zV5buWa4tPGGqxxWj3d3FeXrWcC3IhsDdXEMctwbZIjcspM3mbmzZT9kL4GH4oS/GK%2B0zxFqGutJeyWcmr%2BPNYvbXS5LuN4riWxtJ7t7fT5Hjkkj8y2jiYJI6qQHYH0yigDgfgz%2BzN8IfgLqmr%2BIPh/putTatrsNtDq2ueKPF%2Bp67qFzBb%2BaYIDd6ncXE4hjM87JEHCK00jBQXYnl/HH/KQv4X/APZGfHn/AKdvCFezV4z44/5SF/C//sjPjz/07eEKAPMf2Df%2BJV%2B3H%2B1r4V6eT440K/2/9fWmF8/jtr60r5L/AGWv%2BJP/AMFXf2p9L6DVtH8EX6L/ANc9NlhJH4mvrSvJyXTByj2nVX/lSX%2BZ%2BgeJfvcSUqv/AD8wuBl9%2BDoJ/jFhRRRXrH5%2BFFFFABRRRQAUUUUAFFFFABRRRQAUUUUAFFFFABRRRQAUUUUAFFFFABRRRQAUUUUAFFFFABRRRQAUUUUAFFFFABXjPjj/AJSF/C//ALIz48/9O3hCvZq8Z8cf8pC/hf8A9kZ8ef8Ap28IUAezUUUUAFFFFABRRRQAV%2BcX7Uf/ABVH7AukfAhfnPxO/bJ8Q%2BGpIRzvjf4ga3cNkf3R9nGT0HFfo7X5neIvEkN58Z/gV4Lmw9poHxv%2BNvjfVlPSJdM8Ra3JbuR7yFlzXkZ7Jf2XOD%2B3yx/8ClFP8OY8fPaU8TlssNBXlWlTpJd3UqU4W%2BabXzPd/wDgnp/xd/8Aap/aT/awm/e22oePofBfh%2BU/dFpo0AikaP8A2JJJA2ehKn3r66r5d/4Iy%2BF5PDf/AATf%2BHN1fAtfa1Bf6vqNy/37iW5v7iUSMe52Mgz6KK%2BoqrJItZXSnLea536zbm//AEpL5H6t4oVab48x2GpP93hpLDQ/wYaEMPH7/ZTl6zfUKKKK9U%2BBCiiigAooooAKKKKACiiigAooooAKKKKACiiigAooooAKKKKACiiigAooooAKKKKACiiigAooooAKKKKACiiigArxn9l//kt/7R3/AGWax/8AUK8L17NXjP7L/wDyW/8AaO/7LNY/%2BoV4XoA9mooooAKKKKACiiigAooooAKKKKACiiigAooooAKKKKACiiigAooooAKKKKACvGfHH/KQv4X/APZGfHn/AKdvCFezV89/GD4jeGfB/wDwU2%2BBfhDXr1YLnxV8JviHZaNub/XXMV94UuTEPcwwzN/2z96mUowV5O3/AAdCZzhTV5Oy/wA3Zfi0jj/heRo3/BZ34paZnH9s/BfRL/H97ybtoM/rivrSvkD/AIKT6Nq37OvxJ8Af8FL/AAJp80snw/ul0T4l2lohL6h4VvJQshIHLm3mcSovTLlicJX1tous6T4j0a08Q6DqEV3Y39tHcWV3buGjmidQyOpHVSpBB9DXlZa/Y18RhpfEpua841NU16NSi/NeZ%2BjcbQ/tHKsozujrTnh4YeXeNbCp05wl/ipypVYd4Sf8rLNFFFeufnYUUUUAFFFFABRRRQAUUUUAFFFFABRRRQAUUUUAFFFFABRRRQAUUUUAFFFFABRRRQAUUUUAFFFFABRRRQAUUUUAFeM%2BOP8AlIX8L/8AsjPjz/07eEK9mrxnxx/ykL%2BF/wD2Rnx5/wCnbwhQB7NRRRQBm%2BM/GPhX4d%2BD9W%2BIHjnX7XStE0LTZ9Q1jVL2UJDZ2sMbSSzSMeFREVmJ7AGuP%2BGf7U/wM%2BLPgPX/AIleF/GFxaaV4UkkTxQfE%2Bh3uiXOj7LZLpmurbUYYJ7dfs8scwaRFVo3V1JUg1S/bU%2BEPir4%2BfsmfEP4O%2BBXtRrfiDwpeWujx30pS3mujGTFFKwBKxO4VHbBwrMcHGD5h8OPhh8QPir4h%2BNHiv4%2BfsveIdG0L4waNDokvg6/1zSZbhdPtNKa3l%2B1yWd9JGkl3JdXEMfkySbY7dHlaEsFUA9A0v8Abr/Zs1n4XeIvi/YeIfEh0nwrFay63ay/DzXI9TihuSBbTx6a9mL2eGXJ2SxQujhJCrERvtm8W/ts/s7%2BDfDvgbxPd674j1O3%2BJOkNqvgqHwv8P8AWtZutRs1ghnaf7NYWc00KiO4hYmVEx5gB5yB4L8CPgX%2B0X8Nv%2BFz/tBeJfh38WfEuoeJ/h54e8H%2BFPBfjTxH4Xn8SXMWmvqrea0llcw6XFFnWCFDXBmYW00kjPJMqVnXfwR%2BKOufsWfBfQvEv7GPxjt/if4D%2BHEnh/SZfB/xS0jRbrw3qMdhaWpnnuLXXEhuLWeSBXVR9rGyE%2BbbgkRsAfcFvOl1bx3MSuFkQMokjZGAIzyrAFT7EAjvX5Df8JYb74u/tGeMFl/0f4ZfCX4s2Vuc/wCp1TU/Hev%2BW3tmIqMe1fqZoPhP4o6r8C9K8G%2BOfibcab4ybw5aW%2BueLPC9ra701FYUFxcW0d3bywANIHKrJCygN930/Hrwt4Z17wd%2Bx7%2B3x4vuvEuoa9qesfHu48FWWr6okC3N9JD4ouROzi3iihV5Bdl2WKNE3H5UUYA%2Bb4nnKOAjbo5S/wDAadSS/Fr8D1eFcu/tnxE4ewDXu1Mdh%2Bb0hNTd/L3dfI/V/wDYU8J/8IN%2BxX8JfCjxbJLP4c6MtwuP%2BWpsomk/8fLV6tVHwvoNr4W8M6d4YsseTp1jDaw4GPljQIP0FXq97D0vYYeFP%2BWKX3JL9CM5xzzTOMTjX/y9qVJ/%2BB1Jz/8AbgooorY80KKKKACiiigAooooAKKKKACiiigAooooAKKKKACiiigAooooAKKKKACiiigAooooAKKKKACiiigAooooAKKKKACvGf2X/wDkt/7R3/ZZrH/1CvC9ezV4z%2By//wAlv/aO/wCyzWP/AKhXhegD2aiiigAooooAKKKKACiiigAooooAKKKKACiiigAooooAKKKKACiiigD86v2VPE3wn8JftW%2BGddTxBommfFGLxP8AEVP2iLye6ihvUsX1lo9LXVHYgiNpm01dOEx5tmItv3RetP8AaCX4fn9vey139jzxX8ML/wCIU%2Bm%2BLbHXND%2BG%2BiW8Hiux1ZdBvWju/EV5HPIbmwF3DBCkE0EDLdz2TiSQIVr9AqKAPh7/AIJWH4HH4oap/wAMmnT/APhDP%2BFK%2BEP%2BE2/snHl/8Jd5uo/aPtmOf7Y8jZ9t8z/Sf%2BPbz%2BdlcH/wVm8I/tK%2BKP2mPA/xb8M%2BDtC0/UPgx4D8W%2BOfh7daP4nuLy61lLLVfCwvIry2eyhW2BtpJcRxzXHmH5SV/i/R2vFviDbW95/wUD%2BGVpdwJLFL8FvHqSxSKGV1Oq%2BEAQQeCCO1c2Mw0cZhZ0W7cytfs%2Bj%2BTSfyOTH4SOPwVTDyduZNXW6e6a81JRa9Dr/B/iT4X/td/s52PiSKzj1Twl8QvCgea0n5EtpdwYkhfHRgHZGHUMCOorwL/gl/451/4XN4x/4J0/FfW2n8TfBzUfK8NXV04Emr%2BGJz5lhcqP4vLVhE4XIjHlKTms//AIJv6xB%2BzL8ZviZ/wTV8U6osCeE9bfxD8LIrqcBrzw5fs0/kxAnMn2aYurkfxSNxhTXon7bn7Fl98e5dI%2BOfwK8Ur4O%2BMvggGXwb4uiXCXCcltOvQAfOtZMspBB2F2IBDOj%2BNGpiMTQpY6lG9WneM4rrbScV5qSU4X0d0tOa59r4d8QZdmuR18izqoqVLEuP7yzccPi6LcFUkleXsppypVeVOSpVIVFGXsuV/QdFeC/sUftu6T%2B0zp%2Bo/Dj4keHh4M%2BLXhCT7L468A30gWa3mUD/AEm2BJM1rJkMrqWADAEkFXf3qvbw2JoYygqtJ3i/6aa3TT0aeqe55ed5HmnDmZ1MBmFPkqwt2aaavGcJK8ZwnFqUJxbjKLTT7FFFFbnkhRRRQAUUUUAFFFFABRRRQAUUUUAFFFFABRRRQAUUUUAFFFFABRUV5fWWnwm5v7yKCMdZJpAqj8TXMaz8efgb4cz/AMJD8Z/Cdht%2B99t8RW0WP%2B%2BnFROpTp/FJL1aX5tGc6tKkrzkl6tL82jrKK8o1n9vH9iHw/kax%2B2F8MIGXrG3jzTy/wD3yJs/pXJ6x/wVa/4J0aFn7b%2B174Ofb1%2Bx3zXH/opWzXLPMsup/FWgv%2B34/wDyRx1M3yml8eIpr1nD/wCSPoOivlTU/wDgtt/wTE0yTyB%2B03FdSk4WKw8K6tOWPoClqR%2BtVf8Ah9P%2Bxjff8inYfEXXs/d/sf4cai%2B76b41rneeZMnb6xB%2Bkk/yucr4k4fTt9bpv0kn%2BVz61or5K/4e6eCr7/kVP2Hv2ltdz906V8JJGB/F5lo/4eZ/GLVf%2BRU/4JcfH%2BbP3f7X8PW9h%2Be%2BVsUf23lb2qX9Izf5Uxf6x5M/hq39IVH%2BVL9T61or5K/4br/b21T/AJFX/gkf4wmz93%2B1viNpdjn671bFH/DT3/BWXWP%2BQb/wS90DR89Dq3xr0%2B4x9fIjFH9s4N/DGo/SlU/%2BRQf6wYB/DGq/SjV/%2BQR9a0V8lf8ACzP%2BC0Wr/wDIO/Zk%2BCWj56f2t4zvbjb9fIUZ/CjyP%2BC5Or/6y%2B/Ze0eM9PJj8QXEq/Xd8po/taL%2BGhVf/cNr85IP7cg/hw1d/wDcJr85xPrWvGfHH/KQv4X/APZGfHn/AKdvCFeYf8Kn/wCCzWrn/iYftZ/B3R89f7J8CXNxt%2BnntzVP4J/DX9rf4ff8FCvBk37VH7S%2BlfEJr74M%2BMv7Dh0rwbDpKaZs1bwr52TGxM3mb4vvY2%2BVx941rQx1WtVUHQnFPrJRSX/k7f4G%2BGzKtiKyg8NUgn9qSikvX32/LRM%2BwaKKK9A9QKKKKACiiigAr8sPFnw4k8P/ALMVv4Iltwr/ABe/4KO%2BImniBBLw/wDCXapEXOO22wQn04r9T6/OS6/4qj4z/s0/C7732r9qb4va6Y/%2Bwb4k1qUN%2BHmV42e041Mvae7cYr/t%2BcIv8Ln3nhhSguO8Ji3/AMw8cRW9PZYTEzv8mov5H6N0UUV7J8GFFFFABRRRQAUUUUAFFFFABRRRQAUUUUAFFFFABRRRQAUUUUAFFFFABRRRQAUUUUAFFFFABRRRQAUUUUAFFFFABRRRQAV4z%2By//wAlv/aO/wCyzWP/AKhXhevZq8Z/Zf8A%2BS3/ALR3/ZZrH/1CvC9AHs1FFFABRRRQAUUUUAFFFFABRRRQAUUUUAFFFFABRRRQAUUUUAFFFFABRRRQAV4z44/5SF/C/wD7Iz48/wDTt4Qr2avGfHH/ACkL%2BF//AGRnx5/6dvCFADP2w/2Ifhp%2B11olhqV/qV54Y8ceHJPtHgv4haA3lalotwDlSrqQZIi33omOCCcFWww8b8D/APBRnx5%2Byhdj4L/8FQ/CF94e1KynW30v4uaHok9x4c8RxHhJmeFCbSc8b4yoAJ3YjUgV9m1Bqel6ZrenTaRrOnQXdpcxmO4tbqFZI5UPBVlYEMD6GvMxGXydd4jCz9nUe%2Bl4y7c0bq7XSSaktrtaHj4rK5vEvFYOfsqr%2BLTmjO23PG6u10kmppaXktF87fGr9l/9lD/goboWm/Gv4XfEy2tfFmkgN4V%2BLHw51iM3%2BnyAEqjSwtiaMZIMMhyAzAFCxNcFpv7av7VH7EQ/4Q//AIKK/Ca%2B8Q%2BGLRxHafHP4faYbmylh7SalZRjzLNwPvMi7Sxwitjcex%2BIH/BH/wDYN8a%2BJJvG3h74U3fgjXJjk6r8PtdudHZD1ysUDiBTnniOsNv%2BCZPxk8NRNZfC3/gp78ctPs8ERWviXVLbWlQH%2BHM0a5Xtg9q8mvhs2hWdalSUaj3lTmnGX%2BOnUUb%2BqkpL%2BZn2uU%2BIGf4bLoZTn%2BWwzDBw%2BBKtyVaN3dvD1ZR9pST3dKTq0G9XTTvJ/R/wh%2BN3wh%2BPvg%2BHx98FviPpHibSJsBb3SL1ZlRsZ2OAcxuO6OAw7gV1Nfm03/BBL4x6R8Tn%2BL/w8/4KO6j4V8QSHL6j4Z%2BGkGlvJzk7xYXsCOSfvEr82TnOa1PjZ8Bf%2BDgf4Y2Jb4HftteHfiFY20YWGKTwno%2BnalKAO63Nq8RPubgknrWsM4zWhRcsXgZ3X/Ptxlfz5ebmXpqceJWAzLMoUchoV7T6YmWDo8r/AJfa/WfZT8pWpX3aR%2BiNFfknB%2B1H%2B2v4KkXTP22f28fjT8IrhWCXF9qf7N2mvpZbp%2B6vbJpPNGeNwQCva/hL8Pk/aISJfBn/AAXo8S%2BIpp8bbDw9daXY3fPYwD96h%2BqilQ4khip8lKi%2BbtKdOMv/AAGUlL8GVmvCviNk1D6xicixCpf8/E6VSk/NVaNSvTt/2%2BvNI/QGivkr/h1Rquq8%2BMP%2BCkv7Tl%2BD96G1%2BJa2sTfVEtz/ADo/4c1fsyaj/wAjr8VvjD4lz98a78TryTd9fLKV6H1rNpbYVL1qx/SLPkfrueS%2BHBpf4q0P/bYM%2BrNT1jSNFg%2B1axqltaRf89LmdY1/NiK4/X/2n/2avCm7/hKP2h/A2m7fvfb/ABbZw4%2Bu%2BUV4Xpv/AARJ/wCCZtjP9tvf2c21K5/iuNV8XatOzfUNdbf0rsdA/wCCWv8AwTv8N7f7O/Y%2B8Dyben2/SFu/z88vmj2meS2p016zm/ygg9rxHPalRj61KkvypxLmv/8ABSz/AIJ%2B%2BGt39o/tj/DuTb1Fh4ot7r/0Qz1xWt/8FqP%2BCZGgv5M/7UdncyZwseneHdTuix9AYrZh%2Btev6B%2Bx7%2ByT4U2/8Iv%2By58OtO2/dNj4JsIiP%2B%2BYhXbaJ4R8KeGU8rw34Y0/T1AwFsbKOIY/4CBRyZ5LedKPpGb/ADlEPZ8ST3qUY%2BkKkvznE%2BWv%2BH0H7I2pf8iN4T%2BKHijP3P7A%2BGt/Jv8Ap5iJR/w9av8AWPl8Df8ABOL9pnVM/cuJ/hoLWB/pJJP/AEr61oo%2Bq5tL4sSl6Uo/%2B3SYfUs8l8WMS/w0Y/8At02fJX/Dfn7amt/8iR/wSY%2BIVxu%2B5/b3i7TtMz9fM3Yo/wCGl/8AgrX4g/5A/wDwTN8M6AG%2B62vfGWyusfUW0Yr61oo/s/GS%2BLFz%2BSpr/wBsf5h/ZWPl8eOqfKNKP5Qb/E%2BSv%2BEq/wCC3Ov/APIK%2BFX7Ofh8N0/tvXNYuiv/AIDgZoPw9/4LU6//AMhX9of4E6Bu6/2F4S1C62/T7Swz%2BNfWtFH9lJ/FXqv/ALft%2BUUH9iKXx4ms/wDuJb/0mEfzPkr/AIZV/wCCrOu863/wVS0vSFP34dE%2BCemy59g80m4fWj/h3z%2B1/rP/ACOf/BWH4mz5%2B/8A2J4fsNN/LYGxX1rRR/Y2CfxOb9alR/8At6D/AFfy9/G6kvWtVf8A7ej5KP8AwSmvtW%2Bbxl/wUf8A2nNRz9%2BGD4mi2hb6olv/AFo/4c0fsw6h/wAjh8Uvi/4iz9/%2B2videvu%2BuwpX1rRR/YeUvekn6uT/ADmw/wBW8jfxUE/Vzl/6VUZ8n2n/AARD/wCCZ8Uwu9V/Z8udUuB/y31Txnq8zH6j7UFP5V02jf8ABJX/AIJwaDj7D%2ByN4Vk29PtsUtz/AOjpGzX0VRVwybJ4fDh4f%2BAR/wAmaQ4fyGm7xwlNf9uR/VM8i0b/AIJ//sLaBg6X%2Bxx8MEZfuyP4FsJHH/AniJ/Wur0f9nT9nzw7j/hH/gT4Nsdv3fsfhi0ix/3zGK7KiuqGDwdP4KcV6RivyidlPAYCl8FGC9IRX5RRV0zRNF0WPydH0i1tExjbbW6xj8lAq1RRW6SSsjqSSVkFFFFMYUUUUAFFFFABXjPjj/lIX8L/APsjPjz/ANO3hCvZq8Z8cf8AKQv4X/8AZGfHn/p28IUAezUUUUAFFc78XPil4N%2BB/wALfEXxj%2BId%2B9roXhbRbnVNWnihaWRbeCJpH2IuWkchSFRQWZiAASRXB%2BCP2zfh7r3w88f%2BPviL4M8S/D6X4XWsl3460Dxhb2pvdMtFsVv1uf8AQLi5hmie3JZWilc7kkjYLJG6AA9eorwzSP25tP1XwP4w15v2a/iTa%2BJfBmjabrN78OrmHSP7au9Mv3mS1vYduotaCJza3mRLcxun2OYOqkKGb4w/b5%2BH/h34beAPiD4Y%2BE3jnxZc/EXwVL4u0fwv4asbJtSttEgtrW4urydbi7iiCwi9tI2SOWSRpLiNIklJoA91r83/ANny/s9c/wCCjXw%2B0y/nCxeC7r4za8xIJ8v7X481ixBAHOSRtGOSeK/Q7wZ4w8NfEPwfpPj/AMGavFqGj65pkGoaTfw52XNtNGskUq55wyMrD2NfnF/wT4/4q/8A4KPfGDxD9/8A4Q%2B78Q6Fn%2B59r%2BJ2r3u38cZryc295UKf81WH4c0v/bUfoHh/%2B5lm2L/59YDFW9aio0F9/tZI/Rr/AITDSf8An01T/wAEd3/8apf%2BEw0n/n01X/wR3f8A8ar528ff8Fkf%2BCb3wv8AHetfDTxz%2B0b9h1vw7q1zpmsWX/CIaxL9nureVopY98doyPtdGG5SVOMgkc1k/wDD8v8A4Jaf9HQ/%2BWTrf/yFVSzzJYScZYmmmv78f8zOj4W%2BJmIoxq0skxcoySaaw9VpppNNNQs0000%2BqafU%2Bn/%2BEw0n/n01X/wR3f8A8ao/4TDSf%2BfTVf8AwR3f/wAar528A/8ABZH/AIJvfFDx3ovw08DftG/btb8RatbaZo9l/wAIhrEX2i6uJViij3yWiom53UbmIUZySBzXfft/fGD4mfs%2B/sTfFP44/Bu002bxP4S8D6hqujrq8zJbrLBC0m99scm7aoZgm3DsoQsgYuvXhcbg8bFyw9SM0t%2BVp29bHz%2BecM8ScMVoUs4wVXDSmm4qrTnTcknZtKaTaT0bXXQ9L/4TDSf%2BfTVf/BHd/wDxqj/hMNJ/59NV/wDBHd//ABqvnvU/23Pjb4V%2BIfjnwX8QvgV4E0LT/hl8PLTxN458T3fxUujY273cWqNb21tjRxLOofT4xLK6RFEuC0cczoIpOZ%2BG3/BSrV/irqnhnQ9W%2BE%2Br%2BF9bi%2BNEvg7xDpCy3ltDIh8H6hr8M%2B3WNHtL14XSGJNv2e0kEqBllkhUrcdJ4Z9Vf8JhpP8Az6ar/wCCO7/%2BNUf8JhpP/Ppqv/gju/8A41Xzz%2ByV%2B3z8Sf2h9P0S48c/swf8I/d%2BLPhNovxB8J6X4e8aw6rPdadfMEeCc3EFlFb3EJeJioeRHR8hwymOup/ar8WfFXUvi18L/wBnj4W/FfUPAjeNrrWLrVvFejabY3V7Fb2FkJFtoFv7e4t1aSaaFmZ4nPlQSqu1mEiAHrv/AAmGk/8APpqv/gju/wD41R/wmGk/8%2Bmq/wDgju//AI1XzlB%2B0J%2B0j8T/APgmR4Q%2BP/w%2BtLn/AITnXdI8OzeIbvwroa3txb2kt/aRaxqGnWUiyCeVLM3lzbwFZdzLGuyc4jfi/AXxx/aV%2BNH7NXxB1DwL4u%2BNuoa78M/iVf6HpVz4d8KeF9M8SeKLMWNpeW8t5Z69Zw2kGwXoRkjitpm8gfu1ctFQB9g/8JhpP/Ppqv8A4I7v/wCNUf8ACYaT/wA%2Bmq/%2BCO7/APjVfIHj79oP9pa1%2BCfwB/aj8M/FfXL2y8ZWngv/AITa68P6bon/AAg0Ed/dWKXt1ci8gGuILhLuVLY2xKxSLA1wsMYmYw/AH/gpFo/7QX/BTo/Bvwh%2B0v4MuPBV34N8U2WjfD6y1XTpdTk1bR9S0uFr%2BcKTdQyTLLqvlWxIVrWyW425ZvLAPszTfEOl6rcNZ2zTpMqbzFc2ksLFc43ASKpIzxketXayrv8A5HbT/wDsFXn/AKMtq1aACiiigAooooAKKKKACiiigAooooAKKKKACiiigAooooAKKKKACiiigAooooAK8Z/Zf/5Lf%2B0d/wBlmsf/AFCvC9ezV4z%2By/8A8lv/AGjv%2ByzWP/qFeF6APZqKKKACiiigAooooAKKKKACiiigAooooAKKKKACiiigAooooAKjurq1sbWS%2BvbhIYYYy80srhVRQMliTwABzmpKo%2BKPD1h4t8Naj4U1UuLXU7Ga0uTE2G8uRCjYPY4Y0AeV/sz/ALafgH9p7VH0jQPh/wCLfDUtz4ZsvE3h0%2BLLK1h/t/Qrt5Et9StRBcTFY2MfzRTiG4jEkXmQp5iZ57xd/wAFD/Bfwy0Hx7rXxh%2BAfxG8IS%2BBfhlrHj5dN1m10uS417RNMXN3LZfZb%2BZFkUtCvk3TW75uI8gDeVwf2TP2Yf2n/hJ408M%2BKfjCngW8Pgv4aaZ8PNHfw/4gvCb7T4HMlzq8yS2KiK4lMFkFsVZ0jxMTdvlVFP4V/s7/ALWOrat8WPGv7WPwU%2BEPjDXPHug3ekWkB%2BId/d6Y%2BjeY623h5rWfQ1FrZPDLK9zODcvPPIzNE0flRQAH0R8K/HXij4heG5Nc8XfBjxL4Fuku2hXRvFV1pk1y6BVImDabeXcOwlioBkD5RsqBtLefeOP%2BUhfwv/7Iz48/9O3hCqf7EP7OHjD9njS/Gp8ReFfCHhGw8UeKk1PQ/h38P7%2Ba50Xw1AtjbWzx20ktta8zywSXMix28MYeY4VmLyyZV/8ADHw34O/4KbeC/Gek6l4hmvPEPwe8cSX8Oq%2BLtRvrSIpq3hLAtrW5nkgsgdxytukYbA3A7VwAfQ9FFFABRRRQAUUUUANliiniaCeJXR1KujrkMD1BHcV4r8WP%2BCcH7Cfxuaaf4jfsseD7m4uCTPfafpYsLmQnu09qY5CfctXtlFYV8NhsVDlrQUl2aT/NM9TKs7zrIq/t8txVShP%2BanUnTf3wlG/zv6HyQP8AgkV4B8E/vP2cP2sfjb8NRH/x76boPj2W405PQNb3KvvA9C9L/wAM2f8ABWH4df8AJOv%2BChvhbxnAn%2BosPiF8NYbcgf3XuLJjI/8AvEZr62org/sTL4/wlKn/AIJzj%2BCk4/8Akp9b/wARP4ur/wC/zpYv/sIw%2BHrN/wDb8qUKnz9q35nyV/wtr/gst4A48V/sk/CL4gCP7x8D%2BPJ9KMv0/tFTgn3oP/BRz9pHweP%2BLxf8ErfjJY7P9cfBhtPEIHrtMDpur61oo/s7Fw/h4ua/xKE/zjF/iL/XLh7E/wC%2B5BhZedKeJw7%2B6FarBfKB8lf8Pnv2SND/AOSr%2BEvih4Cx/rf%2BEv8Ahrfw%2BX67vJWWup8Kf8Fb/wDgm94z2/2R%2B1v4Yh39P7W8%2Bw/P7THHj8a%2BjK5fxX8D/gr483f8Jx8IPC%2Bs7/v/ANreH7a43fXzEOaPY53D4a0JetNr/wBJn%2Bgf2l4YYn%2BJluKov/p3i6dRfdXwyf3zMTwv%2B1z%2Byl422jwb%2B018PtVL/dXTvGVjMT7YSUnPtXd6bq2l6zbC80jUre6hPSW2mWRT%2BKkivFvFH/BM/wD4J%2BeL9x1f9jz4fxl/vNpvhyGyJ/G3CVwmpf8ABE7/AIJt3VydQ0X4DXWiXZ6XWieMNVt2X6AXJUf980e0zyG9OnL0nOP5wkH1TwrxHw4zG0f8WHw1X8aeIp/gvkfVlFfJf/Dn34OaWMeAP2ovj94Ux/q/%2BEd%2BKtxHs%2BnmI9H/AA7X%2BOuhf8iL/wAFS/jpb4%2B5/wAJBqdtqmPr5ka5o%2BuZrH4sLf0qQf5qIf6ucB1v4OfcvlUweJj%2BMKlVfgfWlFfJf/DHX/BTPQufCn/BWm4njXpba98GtKuN31lEgb8hR/wqP/gspoP/ACCf2vPhFr%2B3p/bngGe13fX7Mxx%2BFH9pYmPxYSovTkl%2BUw/1KyWr/Az/AAUv8X1qn/6XhWvxZ9aUV8l/av8AguHof%2Bv0v9mTXYh0%2Bzz69bTN9d/yCj/hdX/BYnRP%2BQn%2BxP8AC/W9vX%2BxviQ1tu%2Bn2hDj8aP7Xgvio1V/3Db/ACcg/wCIeYqf8DM8BP0xlOP/AKcp0j60or5L/wCGw/8AgpzpHHiL/gkjNOg63Gj/ABr0mbP0jMYal/4eG/tV6V/yNX/BKb4rw4%2B9/ZGp2N/%2BWxlzR/bWBXxKa9adRf8AtjD/AIhlxTL%2BFLDVP8GNwUv/AHZifWdFfJf/AA9S13TePFH/AATT/adtcfeey%2BGi3SL9WS4HFH/D4P4J2f8AyM37NXx50XH3v7V%2BFdym367Haj%2B3MpW9W3qpr84IP%2BIWeID%2BDAOf%2BCph5/8ApGKk/wAD60or5M/4fW/sJWf/ACMmv%2BM9Gx97%2B1Ph5qabfrtharOn/wDBbX/gmFqL%2BWn7UEEL5wUu/CurQkH332gFNZ7kr/5iYfOSX52Jl4VeJsVf%2BxcU13jQnJffBTX4n1VRXzppv/BW7/gm/quPsv7W/hdM9PtJnh/9GRrW9p3/AAUl/YA1TH2b9sj4crn/AJ%2BfFltD/wCjHWto5rlc/hrwf/b8f/kjza3AXHWG/i5Tio%2BuHr//ACpnttFeYad%2B23%2Bxjq%2BP7J/a5%2BGNznoLfx7pz/ymrd0/9oz9nvVsf2X8d/Btznp9n8UWj5/KSt44vCT%2BGpF%2Bko//ACR5Vbh/iDD/AMXB1o/4qNVfnSR2VFZFh8QfAWq4/svxvpFznp9n1KJ8/k1asU0U6CSCVXU9GRsg1spRls7nmVKNai7VIuPqmvzSHUUUVRmFeM%2BOP%2BUhfwv/AOyM%2BPP/AE7eEK9mrxnxx/ykL%2BF//ZGfHn/p28IUAezUUUUAef8A7VfwVuv2jP2bvG3wO07Xo9KvPE/hy6sdO1OaEyx2l0yEwTOgILosoRmQEFlBGRnNee/CP4GfHqXxR8SPiL%2B0B4B%2BHtze/E%2BzhsNW8NaX4nu77TrSws7D7Pb27ST6dC14LiWe8aYtHEIo5I0VZyrMfoKigD5C%2BBf7Efxj%2BB2jfFn4neFvh74QtfGnjrwjo3hjQvB138Xdd1fTbSx0833lvNrWoWEl3uP9p3G2FLTyoktoIkA3PJUHhX9lT9tnwN8Kvg5rnhbRvhfH8Q/hz8INU%2BHGqaZd%2BM9Rl0eezuo9J8vVIroaWszTRy6PA5tWt0VluJU88FFkP2JRQB5/8NP2ePDHw%2B/Zh8L/ALLba7rE2keGvBeneHE1HTNYutMvZYbS2it1kS4s5Y5oHIiB3RyKRkjNfCv/AARg%2BH1n4W%2BM/wC1tqenz389pbftDzaHYT6rqlxfXHl2niLUSfMuLl3mmc%2BcpaSR2dj8zMSSa/SqviL/AIJPeFm0fwT%2B0R4knj/ea1%2B2j42kR8dYovEYhUfgySfnXn4un7TFYd/yyk//ACSS/U%2Bu4exqweQZxG%2BtWjSp/fiqUn%2BFM%2B3aK%2BYvH/8AwU1/4QLx3rfgX/h3z%2B09rX9i6vc2H9saB8J/tNhf%2BTK0fn20v2kebC%2B3ej4G5WU4GayP%2BHsP/WNT9rT/AMM3/wDdVZyzrLIycXU1X92f/wArPziXEOTQk4yq6rT4anTT/n0fWlYvxH%2BHngz4ufD7XPhV8RtBi1Xw/wCJdIudL1zTJ2ZUurS4iaKaIlCGAZGYZUgjOQQea%2BfPAP8AwU1/4T3x3ovgX/h3z%2B09ov8AbWr21h/bGv8Awn%2BzWFh50qx%2Bfcy/aT5UKbt7vg7VVjg4r2b9pPxh8Tvh58AvF/xB%2BDPhy01nxPoOgXOpaPot7C7pqUkCGU2oCOhDyqjRo27Cu6sQwBU9eGxmGxkXKjK6W%2Bkl/wClRj%2Bp24PH4PMIuWHlzJaPSS8/tRj%2BFzGg/Y1/Z4Xwr4p8Han4Q1LV7Pxr4bt9B8VS%2BIvFep6ndalYQfafJjkubu5kn3p9rnxKHEo3L8/yJtzvA/7BX7LXw91Jdc8P%2BAtSm1IeLh4ol1bWvGOraleXGrjSJtGF3NcXl1LLOw0%2BeW3xIzLtKnG5EZfDfEf/AAUf%2BJvxI8LXPjH9lxtD1Ww8R%2BO5tI%2BFEsXhJdUbxBp1hpC3Wq3sjXOt6VbQxxXfnwB2uF2izcBJWkHl8T4N/bq%2BI3xc8R6J8eLL7Ta6d48%2BGX7O%2Bqx%2BFG1%2B9%2Bw6VP4i8Xa7bX8kH2aeLc5i8lGY5SdbWFZkliXyj0nYfYfhj9k74EeCbHRLDwd4TvdKXw54GtPB2iTad4j1CGa00W1eN4LVZUnDnaYo8yFjIwBDOwZgdH43/s9fCn9onRNP0P4paPqMw0jUTfaRf6J4ivtIvrG4MMsDPDeWE0NxFuhmmicJIA6SMrAqSK%2BTfgn%2B1T%2B1B8bv2pPhB4w1PxV4R/sTx38LfH%2Bt%2BHPh7pV1e6e1rJZ3%2BjQW0GrSma4S6lj80o1wltEbaR7hFikzk%2B3ftv6t4kn0z4UfDeXxVqvh3SPHfxXsND8Z6l4b1240%2B6hszp9/dJBDe27RT2/n3trZ2vmRtHIy3BVSpcUAehSfs7/CxPAY%2BGGjWOsaLoEXhyw0Ky0zwz4r1HSo9PsbMk26Wn2O4iNm6g7TLAUldERGdljRV527/Yl/Z%2Bn%2BHmnfC2xsPFul6Rpt1eXIOgfEvXtNu72e7cyXMt7d2t7HcX7yuS7tcySlmO4knmvL/hFqP7QvxT/4Jt%2BN9D%2BE/wASbufxpZ6l478OeAfFmsaqWuLi30/XtU0/TLiS8lDlpTa20A%2B1uHLtidt%2B458x%2BG/xG0Ww8K/Gzwp%2B0a/xj8J%2BAvAXjPQh4Z0Sb4wajfeKptUu9Li3aGuo6ZqU1zcyy3E1vNFZpeysTewglVYQxgH0/qP7EX7Neqah4dnuPBmqJp3hODTIdA8K2vjDVYNAtl04o1jnR47lbCQwNFE0bPAxVoYiDmNCO6vfhj4H1D4oab8ZrzQ9/iXSNAvdF0/UvtMo8qxu57We4h8sN5bb5LK1bcyll8rCkBmDfGH7T3gT9qT4ef8ABMyz%2BJfivxzrlp8S/h/4Dv8AU9c1wfGfVdNn8N2qpLcJcyW9mfsfiS9tI44o/JvjHBdyQSbp1WVy3onxM8FWfi//AIKI/CvT/hx8QviFY3Eel6j47%2BIFtB8StdTS5tOhtl03T7CTSmu/sUS3F3d/adogXcdJm3cs24A%2Blbv/AJHbT/8AsFXn/oy2rUrLu/8AkdtP/wCwVef%2BjLatSgAooooAKKKKACiiigAooooAKKKKACiiigAooooAKKKKACiiigAooooAKKKKACvGf2X/APkt/wC0d/2Wax/9QrwvXs1eM/sv/wDJb/2jv%2ByzWP8A6hXhegD2aiiigAooooAKKKKACiiigAooooAKKKKACiiigAooooAKKKKACiiigAooooAK8Z8cf8pC/hf/ANkZ8ef%2BnbwhXs1fOH7R%2Br/GvR/28PhPP8Dvh/4W8Rak3wj8drd2nivxhc6LBHB/anhIl0lt9PvWd920bDGowSd%2BQFIB9H0V4z/wnH/BQv8A6Nf%2BDP8A4fjVv/mXo/4Tj/goX/0a/wDBn/w/Grf/ADL0AezUV4z/AMJx/wAFC/8Ao1/4M/8Ah%2BNW/wDmXo/4Tj/goX/0a/8ABn/w/Grf/MvQB7NRXzjpP7R37dusfGfX/gdb/sofCRdU8O%2BF9I128uX%2BOuqeRJBqNzqVvCiEeGNxdW0ucsCoADx4LEsF6j/hOP8AgoX/ANGv/Bn/AMPxq3/zL0AezUV4z/wnH/BQv/o1/wCDP/h%2BNW/%2BZej/AITj/goX/wBGv/Bn/wAPxq3/AMy9AHs1FeM/8Jx/wUL/AOjX/gz/AOH41b/5l65fwD%2B0d%2B3b8RPFfjfwho/7KHwkhuPAfiiLQtVkufjrqgSeeTStP1MPFt8MElPJ1GFSWCnejjGAGYA%2BjqK8Z/4Tj/goX/0a/wDBn/w/Grf/ADL0f8Jx/wAFC/8Ao1/4M/8Ah%2BNW/wDmXoA9morxn/hOP%2BChf/Rr/wAGf/D8at/8y9H/AAnH/BQv/o1/4M/%2BH41b/wCZegD2aivnH4RftHft2/GXwpd%2BL/Dn7KHwktrez8Ua3oUkd78ddUVzPpeq3WmTuNvhhhsaa0kZDnJRlJCnKjqP%2BE4/4KF/9Gv/AAZ/8Pxq3/zL0AezUV4z/wAJx/wUL/6Nf%2BDP/h%2BNW/8AmXo/4Tj/AIKF/wDRr/wZ/wDD8at/8y9AHs1FeM/8Jx/wUL/6Nf8Agz/4fjVv/mXrl/gj%2B0d%2B3b8ePgx4Q%2BOPhX9lD4SWul%2BM/C%2Bn67pttqHx11RZ4YLu2juI0kCeGGUOFkAYKzDIOCRzQB9HUV4z/wAJx/wUL/6Nf%2BDP/h%2BNW/8AmXo/4Tj/AIKF/wDRr/wZ/wDD8at/8y9AHs1FeM/8Jx/wUL/6Nf8Agz/4fjVv/mXrl/jd%2B0d%2B3b8B/gx4v%2BOPir9lD4SXWl%2BDPC%2Boa7qVtp/x11Rp5oLS2kuJEjD%2BGFUuVjIUMyjJGSBzQB9HUV4z/wAJx/wUL/6Nf%2BDP/h%2BNW/8AmXo/4Tj/AIKF/wDRr/wZ/wDD8at/8y9AHs1VtQ0bR9WTZquk21yuOlxArj9RXkX/AAnH/BQv/o1/4M/%2BH41b/wCZej/hOP8AgoX/ANGv/Bn/AMPxq3/zL0mk1qVGUoO8XZ%2BWh32pfA/4K6zn%2B2PhB4Xu89ftPh%2B2kz/30hrA1H9jn9kXWMnVv2WPhxdZ6/afA9g%2Bf%2B%2BoTXnHxd/aO/bt%2BDXhS08X%2BI/2UPhJc2954o0TQo47L466ozifVNVtdMgc7vDCjYs13GznOQisQGOFPUf8Jx/wUL/6Nf8Agz/4fjVv/mXrGWGw0/ipxfrGL/NHpUc8zzDfwcXVj/hq1Y/lUQ7UP%2BCdv7BWp5%2B0/sZ/DFc9fs/gixi/9AiFYWof8Eqv%2BCdep5%2B0/sheDVz/AM%2B%2BnmH/ANFsK2/%2BE4/4KF/9Gv8AwZ/8Pxq3/wAy9H/Ccf8ABQv/AKNf%2BDP/AIfjVv8A5l6wllmWT%2BKhB/8Abkf/AJE9Wjxzxvh/4WaYlemIr/8Ay5nE3/8AwRq/4Jm6ln7R%2ByjpC5/599Wv4v8A0C4FZMv/AAQ9/wCCZHmGbT/2driykP8AHZ%2BNtZQ/%2BlZFemf8Jx/wUL/6Nf8Agz/4fjVv/mXrl/H37R37dvw78V%2BCPCGsfsofCSa48eeKJdC0qS2%2BOuqFIJ49K1DUy8u7wwCE8nTplBUMd7oMYJZcXkeSy3w1P/wCP%2BR6VPxS8TKKtDO8Wl/2EVv1mzmf%2BHKv7Dlv/wAgXT/HGm46fYfiJqa4%2Bm6Y0f8ADnL9ne3/AOQN8bfjTpvp9h%2BKF2uP%2B%2Bga9O/4Tj/goX/0a/8ABn/w/Grf/MvR/wAJx/wUL/6Nf%2BDP/h%2BNW/8AmXqf7CybpQivRNfk0a/8RW8SX8WbVpf4pRl/6XTkeZf8Oj/Btv8A8gf9uX9pjTvT7F8XJFx/31AapfBX9lKf9mH/AIKFeC0k/aX%2BK3xETWvgz4y2D4n%2BLRqp0/ydW8K5%2Bznyk8vzPNG/ru8qPpt59a/4Tj/goX/0a/8ABn/w/Grf/MvVDwP4H/as8Y/tWeHPjd8bvhx8PfDOjeGfh74h0OGHwr8Q77Wrq7utSvtEuEZkuNIsUijRNLlBYO7FpUAXGSNqGVZfhqqqUqdpLzl%2BTm1%2BB5%2BacfcYZ3gZ4PHYt1Kc7XTp0FezTXvRw8JrVLaavs7q6futFFFegfHhRRRQAUUUUAFfOX7EPhjTfC37PHiy9sRIRe/tDeP9TvnYZwf%2BE81Te3A6KkY/Ba%2Bja%2BSv2SvFn7Z2n/D3xRZ/DH4B/DDV9CT40/EX%2Bz9R174u6jpt3Mv/AAmesljJbRaBcpEQ24ACZ8gA5BO0JpNp9i41KkYSgnpK1/Ozuvuep9Qf8Jz4J/6HDS//AAYR/wDxVL/wnPgn/ocNK/8ABhH/APFV5b/wnH/BQv8A6Nf%2BDP8A4fjVv/mXo/4Tj/goX/0a/wDBn/w/Grf/ADL0yD1L/hOfBP8A0OGlf%2BDCP/4qj/hOfBP/AEOGlf8Agwj/APiq8t/4Tj/goX/0a/8ABn/w/Grf/MvR/wAJx/wUL/6Nf%2BDP/h%2BNW/8AmXoA1L74GfsUap8ONJ%2BDup/B34W3HhHQL37ZoXhWfw9pr6bptzukbzoLYp5UMm6WU70UHMjnPzHOhp/w4/ZR0m1tbLSvAfw9tobK00m0sobfS7FFt4NLnkuNMiQBQES0nlllt1GBBJI7xhWYk%2BZ/BH9o79u348fBjwh8cfCv7KHwktdL8Z%2BF9P13TbbUPjrqizwwXdtHcRpIE8MMocLIAwVmGQcEjmuo/wCE4/4KF/8ARr/wZ/8AD8at/wDMvQBq2PwP/Yq0vxTrfjnTPhB8LrfW/EsF1D4j1iDw/pqXWqx3WPtKXMoTfOsu1fMDkh8DdnFdB430r4AfEzwRc/DL4kab4O8QeG7yFIrvw9rkNpd2M8aMrIjwSho2VWVSAVwCoI6CuK/4Tj/goX/0a/8ABn/w/Grf/MvR/wAJx/wUL/6Nf%2BDP/h%2BNW/8AmXoA6oeCf2YR4et/CI8I%2BAxpNp4bn8PWul/YLL7PDpE4jWbTkj27VtZBDEHgA8thEgKnaMc/qP7OP7B2r/DCx%2BCOrfAf4R3XgvTNT/tHTfCNx4X0t9LtLzDj7TFatGYo5cSyDzFUN%2B8fn5jnjfjd%2B0d%2B3b8B/gx4v%2BOPir9lD4SXWl%2BDPC%2Boa7qVtp/x11Rp5oLS2kuJEjD%2BGFUuVjIUMyjJGSBzXUf8Jx/wUL/6Nf8Agz/4fjVv/mXoAs3X7N/7Bl9B4dtb74C/CKaLwepXwlHL4W0tl0QGXziLQGP/AEYeb%2B8/d7fn%2BbrzXcW138HrPxVeeOrS68NRa3qFhb2OoazG9ut1c2tu80kEEko%2Bd443ubhkQkqjTykAF2z59/wnH/BQv/o1/wCDP/h%2BNW/%2BZej/AITj/goX/wBGv/Bn/wAPxq3/AMy9AHpNtq%2Bl654xtbjRdRgu47fTLlZ5baUOqM8kBUErkAkI3HtW7XjP/Ccf8FC/%2BjX/AIM/%2BH41b/5l65f4u/tHft2/BrwpaeL/ABH%2Byh8JLm3vPFGiaFHHZfHXVGcT6pqtrpkDnd4YUbFmu42c5yEViAxwpAPo6ivGf%2BE4/wCChf8A0a/8Gf8Aw/Grf/MvR/wnH/BQv/o1/wCDP/h%2BNW/%2BZegD2aivGf8AhOP%2BChf/AEa/8Gf/AA/Grf8AzL0f8Jx/wUL/AOjX/gz/AOH41b/5l6APZqK%2BcfH37R37dvw78V%2BCPCGsfsofCSa48eeKJdC0qS2%2BOuqFIJ49K1DUy8u7wwCE8nTplBUMd7oMYJZeo/4Tj/goX/0a/wDBn/w/Grf/ADL0AezUV4z/AMJx/wAFC/8Ao1/4M/8Ah%2BNW/wDmXo/4Tj/goX/0a/8ABn/w/Grf/MvQB7NRXjP/AAnH/BQv/o1/4M/%2BH41b/wCZeuX1b9o79u3R/jPoHwOuP2UPhI2qeIvC%2Br67Z3KfHXVPIjg065023mRyfDG4OzapAVAUghJMlSFDAH0dRXjP/Ccf8FC/%2BjX/AIM/%2BH41b/5l6P8AhOP%2BChf/AEa/8Gf/AA/Grf8AzL0AezUV4z/wnH/BQv8A6Nf%2BDP8A4fjVv/mXo/4Tj/goX/0a/wDBn/w/Grf/ADL0AezUV846T%2B0d%2B3brHxn1/wCB1v8AsofCRdU8O%2BF9I128uX%2BOuqeRJBqNzqVvCiEeGNxdW0ucsCoADx4LEsF6j/hOP%2BChf/Rr/wAGf/D8at/8y9AHs1FeM/8ACcf8FC/%2BjX/gz/4fjVv/AJl6P%2BE4/wCChf8A0a/8Gf8Aw/Grf/MvQB7NRXjP/Ccf8FC/%2BjX/AIM/%2BH41b/5l65fwD%2B0d%2B3b8RPFfjfwho/7KHwkhuPAfiiLQtVkufjrqgSeeTStP1MPFt8MElPJ1GFSWCnejjGAGYA%2BjqK8Z/wCE4/4KF/8ARr/wZ/8AD8at/wDMvR/wnH/BQv8A6Nf%2BDP8A4fjVv/mXoA9mrxn9l/8A5Lf%2B0d/2Wax/9QrwvR/wnH/BQv8A6Nf%2BDP8A4fjVv/mXq3%2Byt8OfjT4P1j4oeO/jpoHhfSdU8ffEKLXLPSvCfiW51a3tbWLQdH0xVe4uLKzZpGk06Vyoi2hZEG5jnAB63RRRQAUUUUAFFFFABRRRQAUUUUAFFFFABRRRQAUUUUAFFFFABRRRQAUUUUAFfK/7T37Wnxc%2BGHxj8Wa14B8O%2BD5PDHwf8P8Ah%2B98anWtIuJtV1S31e/lS5gsLiO4jSy8i2s47jMkU4uZCkZEPl%2BafqivGfjP%2BxD8OPjd8Uj8TNc8c%2BKtLi1G10i18X%2BGtGurVNO8UwaXeyXtjFfLLbyTBY5ppc/Z5YDLHIYpjLGFQAHs1FFFABRRRQB8x%2BHP2lfiZD%2B3/wCKPg/8RtY8PeE/Da%2BILTRPBkWo/CLWUuvGMA0CDUcQeI2u105pY7u51AC0ELyeXaTAKCzSL9OV5X4s/Zag8f8Axk0j4p%2BPfjf411fSvD2ux61oHgC4OmRaNY6hHbvBHOGhskvZdnmSSKk11JGJH3bPkQL6pQAUUUUAeL/8FBfi78cP2fv2R/Gnx6%2BAV74Uj1jwToV3rl1B4w0W5vra7tLW2lme3RLa6tmSV2RFEhcqgLEo/Arz/wAeftafFzwX8ePFup%2BFPDvhCL4eeEPjH4R%2BH3jKzm0i4Ot6rquuwaKkeoQ3aXCwxxwf25pMZikt5XkSGfEse1BXsP7WP7ONl%2B1p8CNe/Z91r4q%2BKfCOk%2BJ7KWx1y/8ACC6d9rubKWJ4prbdf2l1GiOr8siLICo2uvOeLg/YB8HT/EWz%2BIvir44%2BPtdY6zpOueJtG1CXSorHxPrmmJGljq17HbWETLcRCC0wts0EDGxti8TGPJAPe6KKKACvF/2yfi78cPgla%2BAfGPwsvfCn9jah8TPDnh7xfY%2BINFubm6ubXVdZsdNBs5YbqFLaSNbmWTfIk6koi7OSa9oryr9q79lt/wBqrw3oXhef4%2B%2BN/A1voXiSw11G8Fw6Oz3d7Y3kF5ZtKdS0%2B8G2K4t43CxhA3Kyb1O0AHnH7PP7SvxM1v8Aaq8W/BH4oav4e8J6dD4p1u38E%2BEpPhFrOmXOvW0LpKb%2B31q4u/sGoOxkmllitoC/JdiuGJ%2BnK8l0n9lEP8ZNF%2BMvxH/aA8d%2BNZvC93eXfhPQvEI0mGw0e6ubeS1kuIlsNPtpZX%2BzzTwr58kqos77QCQR61QAUUUUAeH/ALd3xc%2BPH7P3wa1f46/Cjxj4FsdP8LaLc3l7ovizwze39z4hvcotnplnJbXsH2ea4lIt0byrpmlniCwsflbz/wCCP7X3xn1z4l%2BCv7W8GeEtI%2BGnjf4n%2BKPht4V8Nadpc0er6Jf6BDq2%2Bee5Fw1vNBI3h/U0WGO3iMatbHzJMsB6f%2B0r%2ByDB%2B0l488EfECb9oHx34QufAN3c3ui2PhiLRp7OS9lQRreTQanp14jzwx%2BYsMgCmMTykfM2RV8B/sNfD3wH8Zbf4uw/EXxdqUGna7qevaJ4Q1K5sv7J0rW9RjePUNUgSK1Sfz5xPdlleZ4Ua%2BuTHFH5nAB7XRRRQAV8v/tc/Hj9pf4LfETT/CmlQ%2BAPGuj%2BOYdattF%2BHMXg%2B%2Bk1hLW00O6u5L%2B4nF68V1bC6it7aSEWsQP2%2BFBMZGRJPqCvDpv2JriP9o/xX%2B01on7VfxL07V/Fumw6dc6XDB4fntNPs4YGjhtrNrnSZbm3iWV3utizbXncu4cHbQAz9hD9oPxv8e/h7eXXxX8faNfeLtOFm2v%2BG7L4Xav4RvNAee2WUQXNlq91PcOC2/y7gBI5FQ7Q20mvdK83%2BB37N2nfBnxP4k%2BIesfFLxT448VeK4rG31jxP4uawW5e0sxN9ltUi0%2B1tbaOKNrm5cbYQzNcSFmbIx6RQAUUUUAfHP8AwUE/bj%2BKn7GHjn%2B09c0XQPGPhF9G1HW7fwrL8OdTspbdNN0a%2B1JJP%2BEimun0ye7%2B16aNlisCXQjmWUDbC0jevfs0fF3456t8VPG/7PX7R1z4U1DxP4R0nQ9aj1rwVpFzYWNzY6oLyNIjBc3Ny6yxXGnXal/NxIhibZGSVFb46/sJeCP2nNaurX4//Fvxr4o8F3MlxIvwyvJNNh0WKSaxmsmbfb2Ud9IBHcTMElunQO%2B7b8iBen/Z8/Zm0j4B3mveIrv4oeLPHHiPxIbOPVvFXjW4s3vpba0iMVraj7HbW8KxRB5WGI97PPK7s7OTQB6VRRRQAV8R/tT/ALZX7Wfwb%2BNXiD4UeDvDfhzxrqdhotxrvhgJ8D/EEcmigajplqhhb7c48TSCx1S487%2By/KeFoSsojEwjr7crw/Xv2LdT8S%2BPT8Tta/a5%2BKM2t6fBeReDbwpoAHhVbqaGSf7JGNJ2Ts0cC2%2B69W6ZYmcKVd2cgHVfssfFh/jJ8I4PFl78TNG8VX8Oo3Vlql9o3gy%2B8Oi2uIpWVrWbTdQuJ7qznjGFeOZw%2Bfm2qGAr0auG%2BAfwF8PfADwzqejaV4p1vxBqOv69ca34k8SeI5oGvdVv5giNPKLeKGBMRxQxKkMUcapEgCjBJ7mgAooooAKKKKACiiigAooooAo%2BKPENh4S8Naj4r1UObXTLGa7uREuW8uNC7YHc4U185/sTftJ/Gvx/4p0fwZ8bPD3gyzHjr4W2XxG8Mw%2BDNKuLQaZHeXBN3p92ZriUXc0b3Ns/2xBAJ2lmJgj2gv8AS13aWt/ay2N7bpNDNG0c0UqhldSMFSDwQRxivIf2Zv2K/AX7MGqvq%2BgfEHxb4lltvDFj4Z8OjxZe2sw0DQrN5Ht9NtTb28JaNTJ80s5muJBHF5kz%2BWuAD2KiiigArhf2oPHnxF%2BFn7NHxE%2BJ3wf8KLr3i3w54F1fVPC2htYzXQ1HUbezlltrYwwMsswklRE8uNg7bsKQSDXdVneLdEv/ABL4Y1Dw/pfivUdCub20kht9a0hYGurF2UgTRC4iliLqeQJI3TI%2BZWGQQDy79in4tT/FD4Z31lq3xC8P6zqfh3VV0680zRPhhqfg59DQW0EkVncaVqlzPcwuEcSK7eWjxSxbEwN7%2BxV558B/2dtJ%2BB154l8R3PxE8SeMfEni/UYbzxF4p8VvZi7ujDbpbwRCOxtra2iijjQBVjhTJZ2YszMx9DoAKKKKAPlz9qj9rH4ofs4fF7xxZfErRvCXiL4X2H7O/i/x7baFb6JcJqrtog0tZ7a4uZLl7eaKdb6cBBbIVCJl3ywrt/2Z/i/8fNU%2BLnjL9nX9pZ/CV54o8MeGPD3iWPVfBWk3NjZSWWrPqVutsYbm5uXMsNxpF2DKJAsiPE3lxnctQfGP9hXw78dPjq3xl8efHbxzLps3grU/CN98PYYNF/sS70bUltvt9pIX01r0idrSB2cXQdShCMiMyHpP2d/2XdD/AGfb7WvEc/xQ8W%2BN/EOv2thZX/ifxtc2kl6bCxSRbOzH2S2t4/KiM9w4JQyO9zK7u7NmgD0%2BiiigAr5E%2BNf7S/7W3gzXf2gPAlv4V8GeLL3wF4f8KeJPhtY6T8P9Tv51j1HVdShCXlrFePLqM8C6bHOpthbkuSFX5VavruvC5f2KPEMXx08bfH/Qv20PitpWreN9IsdMubGys/DDWmm21lcXM9mlsJdFeT90by6UGZ5S6zkSeYVQqAdX%2Byp8W5vjL8KR4m1H4naN4p1G11W5sdWutH8EX/hs2dxE3zWs%2BmajcT3VpOildyTMGIZW2qrCvSa4T4B/APQPgDoWs2On%2BLdc8R6r4m8QS654n8TeJJbdr3Vb%2BSGGDzZBbQwwRhYLe3hVIoo0VIUAXOSe7oAKKKKAPjb9pb9rv9pb9nj4zQfDbWU%2BGfjW%2B1uCCbwjDp3ha9tJfBd5qXiHTPD2kTanK99MLqKdtXnBaJbORxY3Sxhl8wxe4/sq/F/4kfEYeP8A4ffGI6JP4q%2BGnjxvDWs6r4a06azsNT8zS9O1a3uIbeaeeS3za6pbo8bTS4kjkwxBGOFtv%2BCavhJrr4hv4h/aX%2BJ2s2/xJ1465rFvqR0LzLPUoriGfT7m2uotLS6U2D29uLSN5pIolhQMj859Y%2BAfwF0P4B%2BHtW02y8X654k1bxFr02teJ/FHiV7Y3%2Br30kcUPnTC1gggXZBBbwIkUUaLHBGoXgkgHdUUUUAMuftP2aT7Hs87YfK83O3djjOOcZr4g%2BK37XP7afw0%2BImufDa3tvAfjPXvDF74at9W8deCPgrr%2BrR%2BHLfVmvHvbCXSrPUp7u5mjhsrG6JinT93dQtLAgMTSfb13DJcWstvDdSQPJGyrPEFLxkjAZdwK5HUZBHqDXz38GP2AvEHwE%2BG1x8NPh3%2B3V8Yoo7rVn1ObWbyy8Jz6hLdyvLJczzTPoR%2B0yTvLukknEj5jTYUAwQD1n4CfEOy%2BK3wd8P/ABCsPiBo3ipNT08SPr/h/SZrC0u5ASshS1nmmltirqyNDJI7xsrKx3KQOvrkvgX8F/CX7Pvwv074U%2BCrm/uLKwluria%2B1W5E11fXd1cy3V1dTOFUNLNcTzSvtVV3SHaqrhR1tABVHxPD4kufDeoW/g3U7Gy1eSylXS7zU7B7q2guChEcksMcsTTRq2CyLJGWAIDqTuF6s3xjoN/4o8LX/h3S/FupaDc3lq8UGtaOIDdWLkcTRC4iliLqeQJI3Q4%2BZWGRQB8PfDf9uz9rX4wfFPW/gl8LNN%2BHyeM9NtddvpPGfiv4Xa1oa6ppmkWuiypYy6JeXyahp8r3fiHYk08zx%2BVDJcJC6zoD9jfAL4tab8fPgT4K%2BOujabLZ2fjXwlpuvWlnM%2B54Iry1juFjYgDJUSAE%2BorxbV/%2BCZHgfWtcvviLd/tKfFNPiBqyXlrrXxJtr3SIdWv9Mura1tptMKJpos4bYpZWjDyLaKVZIFlWUOWY/Qfgvwf4a%2BHng7SfAHgzSYtP0fQ9Mg0/SbCHOy2toY1jijXPOFRVUfSgDTooooA5f406j440b4W61rfw58Q2Ol6tYWZuob7UPB974gRI4yHlA06xngubyRoldUihkDl2XCufkb4t%2BEv/AAUR%2BP3iTxpoep%2BN7jwj4E8GalPOviDxxefAzxFNbaxfw6/daQiXMq30aeGZ5LW0tf3GqNJLA8qxvnYEr7b%2BJngzXfHvhKbw54b%2BKWv%2BDbySWN4tf8MxWL3cG1gSqrf21zAwYAqQ8TcE4wcEeK3X/BObwpqHg%2B4%2BG2rftIfE278Ma5qE1/480Ca40cReMLue8a6uJr6VdNFxF5pZYWjs5bWIQxJGqKN24A%2BiaKKKACiiigAooooAKKKKACiiigAooooAKKKKACiiigAooooAKKKKACiiigAooooAKKKKACiiigAooooAKKKKACiiigAooooAKKKKACiiigAooooAKKKKACiiigAooooAKKKKACiiigAooooAKKKKACiiigAooooAKKKKACiiigAooooAKKKKACiiigAooooAKKKKACiiigAooooAKKKKACiiigAooooAKKKKACiiigAooooAKKKKACiiigAooooAKKKKACiiigAooooAKKKKACiiigAooooAKKKKACiiigAooooAKKKKACiiigAooooAKKKKAP/Z\">"
            ]
          },
          "metadata": {
            "tags": []
          }
        }
      ]
    },
    {
      "cell_type": "markdown",
      "metadata": {
        "id": "ZDF5-RAdZTVe",
        "colab_type": "text"
      },
      "source": [
        "# Submit a linear model"
      ]
    },
    {
      "cell_type": "code",
      "metadata": {
        "id": "NUs4INrEZTVf",
        "colab_type": "code",
        "colab": {}
      },
      "source": [
        "## GRADED PART, DO NOT CHANGE!\n",
        "# Testing shapes \n",
        "grader.set_answer(\"9XaAS\", grading_utils.get_tensors_shapes_string([W, b, input_X, input_y, logits, probas, classes]))\n",
        "# Validation loss\n",
        "grader.set_answer(\"vmogZ\", s.run(loss, {input_X: X_val_flat, input_y: y_val_oh}))\n",
        "# Validation accuracy\n",
        "grader.set_answer(\"RMv95\", accuracy_score(y_val, s.run(classes, {input_X: X_val_flat})))"
      ],
      "execution_count": 17,
      "outputs": []
    },
    {
      "cell_type": "code",
      "metadata": {
        "id": "5VSk3ovsZTVh",
        "colab_type": "code",
        "colab": {
          "base_uri": "https://localhost:8080/",
          "height": 35
        },
        "outputId": "efebcf19-8eab-4536-b404-2dd4f906e614"
      },
      "source": [
        "# you can make submission with answers so far to check yourself at this stage\n",
        "grader.submit(COURSERA_EMAIL, COURSERA_TOKEN)"
      ],
      "execution_count": 18,
      "outputs": [
        {
          "output_type": "stream",
          "text": [
            "Submitted to Coursera platform. See results on assignment page!\n"
          ],
          "name": "stdout"
        }
      ]
    },
    {
      "cell_type": "markdown",
      "metadata": {
        "id": "n2RqgywVZTVi",
        "colab_type": "text"
      },
      "source": [
        "# MLP with hidden layers"
      ]
    },
    {
      "cell_type": "markdown",
      "metadata": {
        "id": "ZJYsSsRsZTVj",
        "colab_type": "text"
      },
      "source": [
        "Previously we've coded a dense layer with matrix multiplication by hand. \n",
        "But this is not convenient, you have to create a lot of variables and your code becomes a mess. \n",
        "In TensorFlow there's an easier way to make a dense layer:\n",
        "```python\n",
        "hidden1 = tf.layers.dense(inputs, 256, activation=tf.nn.sigmoid)\n",
        "```\n",
        "\n",
        "That will create all the necessary variables automatically.\n",
        "Here you can also choose an activation function (remember that we need it for a hidden layer!).\n",
        "\n",
        "Now define the MLP with 2 hidden layers and restart training with the cell above.\n",
        "\n",
        "You're aiming for ~0.97 validation accuracy here."
      ]
    },
    {
      "cell_type": "code",
      "metadata": {
        "id": "ry5yn2BYZTVj",
        "colab_type": "code",
        "colab": {
          "base_uri": "https://localhost:8080/",
          "height": 308
        },
        "outputId": "705c10c0-1e30-4bbd-b760-3bf1e20dba8e"
      },
      "source": [
        "# write the code here to get a new `step` operation and then run the cell with training loop above.\n",
        "# name your variables in the same way (e.g. logits, probas, classes, etc) for safety.\n",
        "### YOUR CODE HERE ###\n",
        "hidden1 = tf.layers.dense(inputs=input_X, units=512, activation=tf.nn.relu, \n",
        "                          kernel_regularizer= tf.contrib.layers.l2_regularizer(scale=0.))\n",
        "hidden2 = tf.layers.dense(hidden1, units=512, activation=tf.nn.relu,\n",
        "                          kernel_regularizer= tf.contrib.layers.l2_regularizer(scale=0.))\n",
        "logits = tf.layers.dense(hidden2, 10, activation=None)\n",
        "probas = tf.nn.softmax(logits, axis=1)\n",
        "classes = tf.arg_max(probas, 1)\n",
        "\n",
        "l2_loss = tf.losses.get_regularization_loss()\n",
        "loss = tf.reduce_mean(tf.nn.softmax_cross_entropy_with_logits(logits=logits, labels=input_y)) + l2_loss\n",
        "#learning rate hear can significantly influence the loss after about 20 epoches\n",
        "#I set lr as 0.01 originally, but I get around 0.25 validition loss\n",
        "#After setting learning rate to 0.001, validition loss was improved dramatically to 0.08\n",
        "step = tf.train.AdamOptimizer(learning_rate=0.001).minimize(loss) \n",
        "\n",
        "s.run(tf.global_variables_initializer())\n",
        "\n",
        "BATCH_SIZE = 1024\n",
        "EPOCHS = 40\n",
        "\n",
        "# for logging the progress right here in Jupyter (for those who don't have TensorBoard)\n",
        "simpleTrainingCurves = matplotlib_utils.SimpleTrainingCurves(\"cross-entropy\", \"accuracy\")\n",
        "\n",
        "for epoch in range(EPOCHS):  # we finish an epoch when we've looked at all training samples\n",
        "    \n",
        "    batch_losses = []\n",
        "    for batch_start in range(0, X_train_flat.shape[0], BATCH_SIZE):  # data is already shuffled\n",
        "        _, batch_loss = s.run([step, loss], {input_X: X_train_flat[batch_start:batch_start+BATCH_SIZE], \n",
        "                                             input_y: y_train_oh[batch_start:batch_start+BATCH_SIZE]})\n",
        "        # collect batch losses, this is almost free as we need a forward pass for backprop anyway\n",
        "        batch_losses.append(batch_loss)\n",
        "\n",
        "    train_loss = np.mean(batch_losses)\n",
        "    val_loss = s.run(loss, {input_X: X_val_flat, input_y: y_val_oh})  # this part is usually small\n",
        "    train_accuracy = accuracy_score(y_train, s.run(classes, {input_X: X_train_flat}))  # this is slow and usually skipped\n",
        "    valid_accuracy = accuracy_score(y_val, s.run(classes, {input_X: X_val_flat}))  \n",
        "    simpleTrainingCurves.add(train_loss, val_loss, train_accuracy, valid_accuracy)"
      ],
      "execution_count": 18,
      "outputs": [
        {
          "output_type": "display_data",
          "data": {
            "text/html": [
              "<img src=\"data:image/jpeg;base64,/9j/4AAQSkZJRgABAQEASABIAAD/2wBDAAIBAQEBAQIBAQECAgICAgQDAgICAgUEBAMEBgUGBgYFBgYGBwkIBgcJBwYGCAsICQoKCgoKBggLDAsKDAkKCgr/2wBDAQICAgICAgUDAwUKBwYHCgoKCgoKCgoKCgoKCgoKCgoKCgoKCgoKCgoKCgoKCgoKCgoKCgoKCgoKCgoKCgoKCgr/wAARCAEgA2ADASIAAhEBAxEB/8QAHwAAAQUBAQEBAQEAAAAAAAAAAAECAwQFBgcICQoL/8QAtRAAAgEDAwIEAwUFBAQAAAF9AQIDAAQRBRIhMUEGE1FhByJxFDKBkaEII0KxwRVS0fAkM2JyggkKFhcYGRolJicoKSo0NTY3ODk6Q0RFRkdISUpTVFVWV1hZWmNkZWZnaGlqc3R1dnd4eXqDhIWGh4iJipKTlJWWl5iZmqKjpKWmp6ipqrKztLW2t7i5usLDxMXGx8jJytLT1NXW19jZ2uHi4%2BTl5ufo6erx8vP09fb3%2BPn6/8QAHwEAAwEBAQEBAQEBAQAAAAAAAAECAwQFBgcICQoL/8QAtREAAgECBAQDBAcFBAQAAQJ3AAECAxEEBSExBhJBUQdhcRMiMoEIFEKRobHBCSMzUvAVYnLRChYkNOEl8RcYGRomJygpKjU2Nzg5OkNERUZHSElKU1RVVldYWVpjZGVmZ2hpanN0dXZ3eHl6goOEhYaHiImKkpOUlZaXmJmaoqOkpaanqKmqsrO0tba3uLm6wsPExcbHyMnK0tPU1dbX2Nna4uPk5ebn6Onq8vP09fb3%2BPn6/9oADAMBAAIRAxEAPwD9/KKKKACiiigAooooAKKKKACiiigAooooAKKKKACiiigAooooAKKKKACiiigAooooAKKKKACiiigAooooAKKKKACiiigAooooAKKKKACiiigAooooAKKKKACiiigAooooAKKKKACiiigAooooAKKKKACiiigAooooAKKKKACiiigAooooAKKKKACiiigAooooAKKKKACiiigAooooAKKKKACiiigAooooAKKKKACiiigAooooAKKKKACiiigAooooAKKKKACiiigAooooAKKKKACiiigAooooAKKKKACiiigAooooAKKKKACiiigAooooAKKKKACiiigAooooAKKKKACiiigAooooAKKKKACuN%2BOP7QHwm/Zx8JW/jT4veJ5dPtL7U4dN0u2stLub%2B91K9lDGO1tLO0jluLudlR2EUMbvtR2xhWI7KvFv2u/gP8VPiX4h%2BGfxl%2BBd14fl8X/CrxjPrWmaJ4tu57bTdYhudLvdMubaW4ghmktH8q9aSOdYZtrR7TGyu2ACjpH/AAUr/Y71rxm3w8tvHviCDW7fSodU1bTtR%2BHOvWkmi2EhuAt3qXn2SDTIAbWcNLdmFEKYYqWUGbwn/wAFH/2NfGfg/wAQ%2BOtM%2BLFza6f4Y0e11fVBrnhPVdMuJNPuXMdreWtvd2sU19bzyAxwy2ySpM5CRlmIB86vP2GPjP8AHW0/aRP7Qt74V8My/tB/CPTvBskfgrWLrUzo7RWusWsr%2BbcWtqZ1VNRiZDsXeyygogxuy9Y/Y2/at%2BM%2Btaz8UP2lPh38G9X1e0%2BE6eBtB8E6d4n1QaRrSy6jaXt5fXd2bBJ9PYmyg%2BzxQw3BtnDP50hIwAeyX/7fP7N2k%2BAbH4h6tdeOLSHVPED6Jpeh3Xwj8SR67e3yW5uXjh0dtPGoShYAZTIluUCKzFsA49P8JeOfDfjbwTY/EPRbi5i0rULBbyCTVNPnsZY4iu7MsFykcsDAfeSRVZSCGAIIr41tv2Gf2tJfgpJ4W8feGPCnjS%2Bh%2BIcut%2BC9B1n9ofxXb3fgOxOmxWoi0/xbHp7atcSGUXcreZDGBHeGENsjGfUvB/7Bmq%2BKfgJo3hb9pz46%2BOPEfj5PhtdeFtf8Q6T8Q9at9Muhc2tzbyTPpa3SWN5MiXTBbq4tmmdoopWKuibADc8Mf8FJP2MvF/h7xJ4s0b4tXK6Z4W8GXni6/vr7wlqtpFe6BaruuNU09p7VBqtogK5nsvPQmSMAkyIG4n40f8FdP2YfAf7M/wATf2gfhW%2Bs%2BM7v4b%2BDYfEjeGW8L6xps2r2Nw7R2t3avNYFrixlkRh9vgjmtkVWdnCqSPHfC/8AwSh%2BNC/BPxf8LPFnh3w9J4h/4UL4j8A%2BC/Hmo/tD%2BNvECSXGpWEdp5h0jVUkttGtpDDE8scEl0yeVGqFggz6P%2B1L/wAE5vih%2B0BYeKtE0Pxj4d0q2179le%2B%2BGlrLM87GDVpLiOWGdo1iANqNhBIbzBnhO9AHqkv/AAUU/ZZt/E3hrwJeav41tvEni7TpdQ0HwpefCTxLDq8tnFd/Y5LmSwk08XNvCkxG6SaNEVGWUkRsrmXwN/wUT/Y7%2BJGqarpXhD4tyXB0rQ9Q1lbufw1qVvaapp1iwS8u9NuZrdYdVhhYqHeyedVLqCfmGcXwR8APjz4x/apsf2oPjn4f8HeH5JPg5f8Ag/VNE8J%2BK7vVTBcy6tHcpJDcz6fZl4mgiUsTGjJIdoV1USHwGb9hz9pf4bfs8%2BF/Cnxo1rwIPCP7N3wP8SaB4L1PwrfXcmpeKd2hHTLe4vbeW2ii04JZozSQxS3QknZXDxqgQgH0D4U/4Kl/sL%2BNPBus/ELQ/jLdrouheDj4tutRv/BmsWcdzoIKB9Vs/PtEN/ZxmRBJPbCWOLcPMZc167a/GD4c3vxcuPgVZ%2BIxN4qtPDUGv3emRWsrCHTp55beGd5QnlL5ksE6ohfe3kyEKQjEfFX7I/7P3xC8WfBL4Q/Hb9t/Uvhlovww%2BG/7L9z4fgk07W5wmr6bqmnaWby%2B1X7VBDDpkEVppyq0CS3CZleRplWNVrsP%2BCK3wr8d6P8As76n8evit4tbxFrHjW%2Bg03w54hlgaOS%2B8I6JF/ZWiXBD8/6VDDNqhPd9WcgKCFAB9lUUUUAFFFFABRRRQAUUUUAFFFFABRRRQAUUUUAFFFFABRRRQAUUUUAFFFFABRRRQAUUUUAFFFFABRRRQAUUUUAFFFFABRRRQAV4jpH/AAUY/Y91K716z1P4pXnh5vDnhy58QahJ418I6roMc2k27pHPf2smpWsC31ujyRK0tsZUBljGcuufab2K5ms5YbO6EEzxMsUxj3%2BWxHDbT1wecd6/MTV/%2BCOX7cvxf1bwvrnxu%2BOOhvrfhrwfqFnqHijUPit4m8TjxDrf2zSr611E6XfRQ2Wk20lzpi%2BfYWQCiOTassgVAoB9sv8At/8A7MNr8NG%2BLGseIPFWlaW2uQaNY2eufDLX7DVNTv5kMkMFlptxYpe37SIGdfs8MgZUdgSEYjovAf7VnwP%2BI%2Bv2XhPw54h1SHV7/wAKT%2BJIdI1rwrqWmXaabDd/ZJZZYby3ikgdZ/kMMirL32bea8m%2BJ3wc/bd%2BMTfD342654N%2BFWh/EP4UeOptY8P%2BGbXxxqV/ouuWdxpN3plzHcXz6VDNYzFL2SSN0tbgRmIKfMEjYq/En4Dftwa/8ZfDv7TXgfRvhXaeLL74Yar4L8Y6FqXivUpLDSFuL%2BG6tb%2ByuE04SagYhG6yW8sVoJS4xLFjkA7jSf8Ago3%2ByB4j17wL4W8K/EbVdZ1P4k%2BDdK8W%2BDdO0TwPrN7PeaHqL7LXUZEgtGa1t92PMknEa24ZTN5QYE7Hw1/bc/Zu%2BK/xGufhP4Z8X6tZ6/b6Xc6nDZeJ/BmraIt/Y28iRz3dlLqNrBHfwRvLEHltmkRfMQkgMpPlH7Cn7CXxY/Zh1/4caz488QeGrs%2BDv2UvCPwxv30i5nlZtW0t5muZovMgj3Wrb02MxV22/NGmBXjXw0/4JV/tjeJ/ij4X8TftTfGGz1SLT/AHivwv408TQfF/xJrV54il1exS2/tO10y%2Bhj0/QjlSxtLRSi5UCZxGq0AfUvhP/gov%2ByP410WPxVoPjvXP7DuNV0vT9P8AEt78P9btdK1GXUr2OyspLS%2Bns0tryCW5mijFxBI8IMqFnCsCfS/C3xd%2BHnjX4geKfhd4X8Q/a9c8FyWcfie0S0mC2Ml1B9ogjMrII3doSshRGZkWSMsFEibvmHxx4E%2BIvhX/AIJ7eNPgR/wUM8T/AAq8EeAtB%2BGkWgW3xM8O%2BLbsM06RpbWupPaXVnAmmzLMLeSGCO4umM5REcnaG7X/AIJX/D74seG/2RNK%2BKv7RVglv8TvixfS%2BOviJCtu0X2e/v1jMNpsb5k%2By2MdlZ7TkgWuDQB9G0UUUAFFFFABRRRQAUUUUAFFFFABRRRQAUUUUAFFFFABRRRQAUUUUAFFFFABRRRQAUUUUAFFFFABRRRQAUUUUAFFFFABRRRQAUUUUAFeL/Hrx/8AtF/8NF%2BBfgR8BfGfgrw%2Bmv8AgrxLr2r6n4v8F3etEnTrvQ7eGGGO31Kx8sN/akrMzM%2BfLQALyT7RXhnxD1cWv/BSn4RaM6jF38EviE6tnncmr%2BDOPyZj%2BFJtLcqEJTdo9m/u1Zd/4Qf/AIKF/wDR0HwZ/wDDD6t/81FH/CD/APBQv/o6D4M/%2BGH1b/5qK9mopknjP/CD/wDBQv8A6Og%2BDP8A4YfVv/moo/4Qf/goX/0dB8Gf/DD6t/8ANRXs1FAHjP8Awg//AAUL/wCjoPgz/wCGH1b/AOaij/hB/wDgoX/0dB8Gf/DD6t/81FezUUAeM/8ACD/8FC/%2BjoPgz/4YfVv/AJqKP%2BEH/wCChf8A0dB8Gf8Aww%2Brf/NRXs1FAHjP/CD/APBQv/o6D4M/%2BGH1b/5qKP8AhB/%2BChf/AEdB8Gf/AAw%2Brf8AzUV7NRQB4z/wg/8AwUL/AOjoPgz/AOGH1b/5qKP%2BEH/4KF/9HQfBn/ww%2Brf/ADUV7NRQB4z/AMIP/wAFC/8Ao6D4M/8Ahh9W/wDmoo/4Qf8A4KF/9HQfBn/ww%2Brf/NRXoPju/wDCml3aat49v7C10PTdFv8AUNSudWmSO0to4fJLTytIQiIiGQlm4UZJI615t/w1/wD8E4P%2Bjovgj/4W2j//AB2sauJw9BpVJxjfvJL82j0sDk2c5pCU8FhatVRdm6dOpUSe9m4U5pO2tm07a2tqWP8AhB/%2BChf/AEdB8Gf/AAw%2Brf8AzUUf8IP/AMFC/wDo6D4M/wDhh9W/%2Baiq/wDw1/8A8E4P%2Bjovgj/4W2j/APx2ui%2BGnxi/Y3%2BNGuy%2BFvg78U/hn4s1O3tGup9O8Na5p1/PHArKjStHA7MEDOiliMAuozkiohjMHUkowqxbfRSi39yk2dGI4b4kwlCVavga8IRV3KVGtGKXdylRjFLVatpa7mL/AMIP/wAFC/8Ao6D4M/8Ahh9W/wDmoo/4Qf8A4KF/9HQfBn/ww%2Brf/NRUf7Rnx%2B%2BCX7NPjj4beCfGHwi1TUn%2BJPiW60awn8NeBrvVDZvBp1zemSSOytpnwRb7MYBwzyf6uGVkz9D/AGv/ANjnxV4a1fxj4M8M%2BI9e0vQ9ek0a%2BvfD3wV1/UEe%2BimuoJooPs2nOboRS2VxHK8O9IWVBIymWPf0nimp/wAIP/wUL/6Og%2BDP/hh9W/8Amoo/4Qf/AIKF/wDR0HwZ/wDDD6t/81FYfiH9sj9jPwkJ/EWvaz4abw0fC3hTWtN1bS9EvL6e9j8Q6hdWGmbIILJg6Tz26pGY5JJCzN5kUKrG8vb/AAq%2BKv7MPxp0Ow13wDPo7/2lf31jaabq%2BhvpmofarJ2S7t3sryKK5ilhZTvjeNWUYYjBBIBif8IP/wAFC/8Ao6D4M/8Ahh9W/wDmoo/4Qf8A4KF/9HQfBn/ww%2Brf/NRXG/GX9qrRPhb8YdV8I6T%2BzdomreEPB%2BpeG9P%2BIPiuTVUtrnS7jW7tbe2FrZfZHF4sIlt57hnng2RTgxid1aMdB%2B018X7z4ReMtA%2BFnwX/AGaPD/jjxZrXhvWvEbaZqWsJpEEWlaUbKO5ZZxaXJe4ebULOKGEoiuXctLGsZNAGl/wg/wDwUL/6Og%2BDP/hh9W/%2Baij/AIQf/goX/wBHQfBn/wAMPq3/AM1FeW6f%2B3p8PfFutaZ4w%2BHH7Omkap8L31PwdpWveNLrUY7a%2Bsr/AMTJYvpqQ6eLV1uIlXVNLM8jXERjF4SqS%2BU9Xfhh%2B1zffFTxPb6Rof7JfhqKx8Z6F4h1L4QahP4mQHxANJvIbZ0v0%2Bwf8SzzxPHcQlGu8wCQuI5FETAHov8Awg//AAUL/wCjoPgz/wCGH1b/AOaij/hB/wDgoX/0dB8Gf/DD6t/81FeM/Ej9vm3%2BEfgHxDe/Eb9nL4YaL4m8K/FnS/A2unVfiQtt4ZtpL7TrfUI7ttYk0oOiJDcxq8clojK5xypR26D4yftd3Hwy8P2N94R/Zi8EeM72w%2BF918QfHI8P%2BM0axstFgZR/xLbo6d/xNLiYee0CPHaxuLd98sW5NwB6N/wg/wDwUL/6Og%2BDP/hh9W/%2Baij/AIQf/goX/wBHQfBn/wAMPq3/AM1Fcf4p/am8JeEv2qvBX7P1z8K/hxqWnfEFBP4bbQvGAuPEy2JsJ7r%2B1LnQ209PJ08S20tublbmQB3iG3c5RPO/DH/BSvwZf/CW9%2BKnin9lvw9anUfg0nxP8B6Po3iSLULm/wBAaaKEvqIFlGNMkia5tmmCfao0QzFZJDAykA90/wCEH/4KF/8AR0HwZ/8ADD6t/wDNRR/wg/8AwUL/AOjoPgz/AOGH1b/5qK8j8K/t0aF41/Zq8S/tE6P8OPgJaaV4R8aPomq%2BK9a%2BMyW3g2%2Btxa20wvdP11dIcXS%2BddJZsrW8QW5guY97GIb9zxL%2B1X4g0P4N%2BAf2ml/Y50KDwB4s0vwzcawuteIRZ%2BIdMudZu4LZLSHTfsDx3UkT3MG4NcwM5ZlRWYBWAPQP%2BEH/AOChf/R0HwZ/8MPq3/zUUf8ACD/8FC/%2BjoPgz/4YfVv/AJqK43wJ%2B1n8O/id%2B0p4n%2BCfgf4dfDe503wleX9nqKS%2BNYF8UXs9nF/pEtnoS2bNLarc5tfOkuYiZI5SIyoRpPKfhJ/wVN8D/Ff4d614w0b9mzwLe3tsfCNvpVv4d8eRX9na6j4h1M6db6VrV0dPjOkX9tKUe6thHctEjjb5jsiOAfRH/CD/APBQv/o6D4M/%2BGH1b/5qKP8AhB/%2BChf/AEdB8Gf/AAw%2Brf8AzUV5n4g/a71e1/Zq8b/Hzw1%2Bzj8Lp7n4T6lr9j8VtM1b4gzW9ppc2lRedL9ju4NFuGvQ8RVwJIbdlLhGUOGVaXib9uaHwFqluvxG/ZR8L6DY6Bo/gyf4qvqHiyNbvw9eeIrgW0VvZQfYMalHbzErJM72pYK4ijkkUxAA9Z/4Qf8A4KF/9HQfBn/ww%2Brf/NRR/wAIP/wUL/6Og%2BDP/hh9W/8Amorz34d/tj%2BGvHXxlsfh5c/s%2BeE9P0jxT4s8XeFvAGoyeI45NR1LV/Ds1zFeR3diLICygf7FcvHKk07bFiMkcbSqlSfA/wDaY8T/ALQE3xC8E/Df9n34Paz4r8AXmnQXM2gfE%2BS/8NTy3JnE1m2qxaL5kN/bC3LTWv2Rii3FqS4835ADvv8AhB/%2BChf/AEdB8Gf/AAw%2Brf8AzUVQ8D%2BOP2rPB37Vnhz4I/G74j/D3xNo3ib4e%2BIdchm8K/Dy%2B0W6tLrTb7RLdFZ7jV75JY3TVJSVCIwaJCGxkFn7L3xWk/aR/ZX/AOGgNc%2BC%2BgeELy8k1f8AsiLQdXOowzW1pd3FvbahBdNaWrmO4SBbmPMSny5kzySBpeOP%2BUhfwv8A%2ByM%2BPP8A07eEKAPZqKKKACiivlD/AILbR/s%2B/wDDtD4pXf7Qlz4UigtfCuozeEn8WXNvHGNdFjcfY/s3nkBrsEuYguX3DKjIyAD6vor5T/bm%2BL37Pfxd%2BDPgfXJvif4Q8UfCU/EvQZ/ineWutWt7pJ0GZLhraS%2BdHaL7C96LAu0h8lowxfMe%2BvkLxg3wR/4VEP8Ahfhsv%2BFbf8IJ8U/%2BGbft3%2Bq%2B2/8ACSyf2P8A2P3%2B3fYPsf8AZXkfv/s277L8u%2BgD9aa%2BcfhN4q/bv%2BOuj69478L/ABv%2BEmgaXb/ELxVoel6Vf/B/VL%2B4itdL16/0yFpbhPEUCyyPHZq7MsUa7nICgAV6/ol38YrH4HaXd/2DpeqeOY/DtqbvT9Y1Z7C0n1Dyk85ZLiG3uDEu/f8AMkMnstedf8E6bjxLd/s3X114y0mxsNXk%2BLfxDbU7HTNRe7trec%2BM9a8yOKd4YWmQNkB2ijLAAlFzgAF7/hB/%2BChf/R0HwZ/8MPq3/wA1FH/CD/8ABQv/AKOg%2BDP/AIYfVv8A5qK9mooA8Z/4Qf8A4KF/9HQfBn/ww%2Brf/NRR/wAIP/wUL/6Og%2BDP/hh9W/8Amor2aigDxn/hB/8AgoX/ANHQfBn/AMMPq3/zUUf8IP8A8FC/%2BjoPgz/4YfVv/mor2aigDxn/AIQf/goX/wBHQfBn/wAMPq3/AM1FH/CD/wDBQv8A6Og%2BDP8A4YfVv/mor2aigDxn/hB/%2BChf/R0HwZ/8MPq3/wA1FH/CD/8ABQv/AKOg%2BDP/AIYfVv8A5qK9mooA8Z/4Qf8A4KF/9HQfBn/ww%2Brf/NRR/wAIP/wUL/6Og%2BDP/hh9W/8Amor2aigDxn/hB/8AgoX/ANHQfBn/AMMPq3/zUUf8IP8A8FC/%2BjoPgz/4YfVv/mor2aodQ1HT9IspdS1W%2BhtbaFC01xcShEjX1ZjgAfWhtJajjGUmklds8f8A%2BEH/AOChf/R0HwZ/8MPq3/zUUf8ACD/8FC/%2BjoPgz/4YfVv/AJqKzPij/wAFQP8Agn78HLhrLxz%2B1f4RE6NtlttHvW1OWNvR0sllZD7ECuEP/Bbz/gnPcndoXxa1zVIh96fT/Aersij1Ja2XivNqZzlFGXLPEQT7c0b/AINn2mD8NvETMKCr4bJ8VKD2kqFVRfzlCK/rqenf8IP/AMFC/wDo6D4M/wDhh9W/%2Baij/hB/%2BChf/R0HwZ/8MPq3/wA1FeZr/wAFw/8AgmQEZbn9oi5gnUf8ek3gnWRKT2AH2TBP40z/AIfGfs/a3z8LfgP8bvHKn7j%2BE/hddTB/p5xjrP8At3JemIg/R8z%2B6Kk/wOv/AIhT4lr%2BJlGIgu9Sn7OP/gVWVKP/AJMen/8ACD/8FC/%2BjoPgz/4YfVv/AJqKP%2BEH/wCChf8A0dB8Gf8Aww%2Brf/NRXmP/AA8w%2BMetfP4L/wCCXPx9nQ/dOuaBb6a34iSVsUf8N5ftyaj8nhv/AIJLeOJXP3BqfjrTLNT9SwOKP7by9/C5P0p1H/7jD/iGHGEf4kKMP8eLwcbet8Uz07/hB/8AgoX/ANHQfBn/AMMPq3/zUUf8IP8A8FC/%2BjoPgz/4YfVv/morzH/hpv8A4Ky638%2Blf8ExPD2jKei6z8Z7C4b8fIjFH/C3v%2BCyN1%2B8g/Y%2B%2BElqP%2Bedz8QJnb80XFH9sYd7U6r/AO4U/wBUg/4hxm0f4mNwUfXHYZ/%2BkSmvxPTv%2BEH/AOChf/R0HwZ/8MPq3/zUUf8ACD/8FC/%2BjoPgz/4YfVv/AJqK8y/4Wr/wWY/6NS%2BDf/hdXP8A8TR/wtX/AILMf9GpfBv/AMLq5/8AiaP7Xpf8%2Bav/AILl/mH/ABDvH/8AQxwP/hbR/wDkT03/AIQf/goX/wBHQfBn/wAMPq3/AM1FH/CD/wDBQv8A6Og%2BDP8A4YfVv/morzL/AIWr/wAFmP8Ao1L4N/8AhdXP/wATR/wtX/gsx/0al8G//C6uf/iaP7Xpf8%2Bav/guX%2BYf8Q7x/wD0McD/AOFtH/5E9N/4Qf8A4KF/9HQfBn/ww%2Brf/NRR/wAIP/wUL/6Og%2BDP/hh9W/8AmorzL/hav/BZj/o1L4N/%2BF1c/wDxNH/C1f8Agsx/0al8G/8Awurn/wCJo/tel/z5q/8AguX%2BYf8AEO8f/wBDHA/%2BFtH/AORPTf8AhB/%2BChf/AEdB8Gf/AAw%2Brf8AzUUf8IP/AMFC/wDo6D4M/wDhh9W/%2BaivMv8Ahav/AAWY/wCjUvg3/wCF1c//ABNH/C1f%2BCzH/RqXwb/8Lq5/%2BJo/tel/z5q/%2BC5f5h/xDvH/APQxwP8A4W0f/kT03/hB/wDgoX/0dB8Gf/DD6t/81FH/AAg//BQv/o6D4M/%2BGH1b/wCaivMv%2BFq/8FmP%2BjUvg3/4XVz/APE0f8LV/wCCzH/RqXwb/wDC6uf/AImj%2B16X/Pmr/wCC5f5h/wAQ7x//AEMcD/4W0f8A5E9N/wCEH/4KF/8AR0HwZ/8ADD6t/wDNRR/wg/8AwUL/AOjoPgz/AOGH1b/5qK8y/wCFq/8ABZj/AKNS%2BDf/AIXVz/8AE0f8LV/4LMf9GpfBv/wurn/4mj%2B16X/Pmr/4Ll/mH/EO8f8A9DHA/wDhbR/%2BRPTf%2BEH/AOChf/R0HwZ/8MPq3/zUUf8ACD/8FC/%2BjoPgz/4YfVv/AJqK8y/4Wr/wWY/6NS%2BDf/hdXP8A8TR/wtX/AILMf9GpfBv/AMLq5/8AiaP7Xpf8%2Bav/AILl/mH/ABDvH/8AQxwP/hbR/wDkT03/AIQf/goX/wBHQfBn/wAMPq3/AM1FW/2VviN8afGGsfFDwJ8dNf8AC%2Brap4B%2BIUWh2eq%2BE/DVzpNvdWsug6Pqas9vcXt4yyLJqMqFhLtKxodqnOfJ/wDhav8AwWY/6NS%2BDf8A4XVz/wDE10H/AATs1X4za3rnx51T9oPwpo2h%2BL5fjNB/a%2Bl%2BH75rm0gx4R8NiLy5GALZhEbHPRmYdq6cNjoYqbiqc46X96DivvfXyPHzvhTE5FhVXqYrDVU3y2o4inVls3dxgk1HTWW12l1PpOiiiu0%2BXCiiigAooooAKKKKACiiigAooooAKKKKACiiigAooooAKKKKAPIPDP7c/wCz1418Aav8SvBk/jbV9O0HxSfDur22l/CjxFcaha6h9miutjWEdgbvyjBPDIJxF5JWVMOdwzr%2BHP2tvgF4q/ZkvP2xdJ8ZXS/DvT9B1HWr3XL3w9f2ssNjY%2Bd9qla0mgS6Gz7PKQvlbnCgoGDLnwHwPH%2B2pZeDv2pbnwJ%2Byh4s8IeLfHfiyXV/hdqHiXX/AA88Eks2g6RpEUz/AGLVLhozBPZS3To4TdCqhC0jeWPZdc%2BBXgPwP%2ByYf2M9J%2BCOveKvA1t8KLjw0%2Bl6VqVpbPfWMdnHZf2cJZrqB0ubiGSTZLlIwY3LzRMU3AHc/CT4v%2BEvjX4Zk8W%2BC9M8TWtnFdtbFPFXgrVNBuGcIj7lt9TtreV4yHXEqoUJDKGJRgPEfjlqX2H/AIKtfs72u7H234S/EuHHri68Jyf%2B066D9h7wV8afBtt42X4geHvGXh/wrd%2BIYJPh/wCFviL4zj1/W9MtVsoEufOvEu7zMUlysrxRNdTsik/MgZYo/H/j14f8ReEP%2BC0v7NGrav8AFrxBrlp4k8GfEpNP0PVbbTktdFVINCkaO1a2tIZ3V9oLfaZZ2HlrtK/Nu58TLkpX84/%2BlJfqevklD6xj3D%2B5Vf3Uakv/AG0%2B1qKKK6DyAooooAKKKKACiiigAooooAKKKKAOf8VaBoXivWE8LeKdFtNS0zUvD%2BoWuo6dqFss0F1BI1ukkUkbgq6MpKsrAggkEYNcN/wwP%2Bwr/wBGWfCX/wANzpn/AMYrrviV468K/C%2BK6%2BJfjrVPsOieHfCmq6nrF75Dy/Z7W38iWWTZGrO%2B1EY7VUscYAJ4r52/4fm/8Esv%2Bjov/LJ1z/5CrzcdiMnozisZKmm1pz8t7eXMnpfsXHi6rw3%2B6hmMsNz62VedLmtpe0atO9trtO21%2Bh63/wAMD/sK/wDRlnwl/wDDc6Z/8Yrofhp%2BzJ%2Bzb8F9dl8U/B39nvwP4T1O4tGtZ9R8NeE7OwnkgZldomkgjVihZEYqTglFOMgV4H/w/N/4JZf9HRf%2BWTrn/wAhV6J%2BzR/wUg/Yv/bB8d3fw0/Z0%2BMv/CRa3Y6RJqd1Zf8ACO6jabLVJYomk33VvGhw80Q2hi3zZxgEjnw%2BL4dqV4xoTpObenL7O9/Kyvf0G/EPEZqvqks4nVVTTkeJqTUutnF15KW2zi9ttDov2ivgP4t%2BL3iD4d%2BOfh98QtO8O698OvGUmu6fNrHh6TU7S7SbS7/TJ7eSGO6tnBMV%2B7pIso2vGhKuuVPkvjr/AIJrzeK/gR4O%2BC0PxL8N6hD4U%2BIGueJbix8bfD4azoesrqVxqU3kXWmG8iErwHUA0UjSsqywLIYzkKvvHxF%2BNvhD4W%2BOPBngjxdb3kJ8c6nd6dpOqBI/skN3b2M98YZ3ZwyF7e1uXQhWU%2BQwJUld3il7/wAFWv2c9H1L4VweJdD1nSLP4wWmj3HhK91bWNDt5iuq3QtbDfp76kNRcSyPAS8FrKkazq0jR7JvL9ozOa%2BGP/BKCP4b%2BDvCPhBPjyb1PCnhj4ZaOk7eFFi%2B0jwh4hvNZEuxLjbH9q%2B1CDYoxB5e8eYD5a%2B7fBb4E%2BIvgvrfia503x3ZXun%2BK/Huq%2BJdStZ9DdZo/taRCO3ilFxtXy2jJZ2RvMDYCxkbj4v4T/4KU2OiWF3rHxpsDGLW8%2BJYg03w14eeWS%2Bi8PeOU8NWEUUkl5n7XOJ7RPK8opNNOziW2RBE/cfsw/tfeK/jb8Rvib4R%2BIPwi1zwgfCHj6w8OaTouoaN59/AZtBstSZr6Wxnu7UKWnk2zpKIdpiQt5pwQCr8Zv2HNb%2BKXxi1XxdpHxig0jwf4w1Lw3qHxB8Jy%2BGjc3OqXGiXa3FubW9%2B0oLNZhFbwXCvBPvigAjMDsznT%2BPv7L/xk%2BKvifRvih8PPj5o3hLxlo2keIvD0Wrv4Hkv7V9C1aa1laH7Mb%2BMi8hOn2DJdGQxmSKUm32S%2BUvI/tn/ALX/AMcfgr4o8bx/BvSvC0mmfCL4Qf8ACx/HcHiPTrm4uNasjNfCPTrF4bmFbOZotKvz9olWdQ5gHlYLMO//AGm/jH8U/C%2BvfDn4UfAa78PWfiT4j%2BIrmzt9c8V6PcX9jplnbabdX007WsFzbSXDsYIoVQTxAeeZCSI9jgHnen/8E0bTwlrWmeD/AIcfFxNL%2BF6an4O1XXvBd14dNzfXt/4ZSxTTXh1AXKLbxMulaWJ42t5TILQhXi816d4Q/YA%2BLPw8uZZvA/7Tun2a%2BFfC/iXSPgt53gDzm8KNrF1FcG4vd19t1VrUQxQwKq2q%2BVvEvnO3mDyDx1/wVd%2BP2naV4R1vRPBXhrTTc%2BDNN1LXrK48Lanqtte6o%2BuXOk31o2pW08cHhy0ie1LxahqSNDMJiFG62mU%2Bz/CX9qX4z%2BKv2t/GHwR%2BJ/i3QPC1lB4h1LTvh74f1P4Ra3az%2BILe3tIZlu7fW571bC/ZS07SW9vF5gjhYkoFZgAbHwM/Zd/aU/Z%2B/Z%2BtvhJ4J%2BO3w4fXbTWWvT4mvvhRqMy6gZQ7XdxexPr5mub6eeRpnuvtCDJZfKIIxw2of8EuvEOl/DGy%2BH3wv/aOj0GfU/A2u%2BEviBqU/gxbgapp2rahLf3DWEKXUS6ZNDNc3a2pP2iKGK42PFN5aMOg%2BEPxN/bm%2BIXxU%2BMPwg/4Wj8J78%2BARoOm6T4rtfhjqdpbQ63cx/bb%2B2uLU65M1ysOnT6fIgSaEmS8wxAT5vOPFH/BRT9oXS/g14V8SWSeGZJtZ%2BIXiXQG8e%2BHvhjrXiWy1az0uO5aG%2BsNB068%2B3yRXDQMhlSeaKHyWkLvHLG9AHunir9l74neN/iv4M1TX/i/4ft/AHw%2B8SQ614V8L6P4Img1aOWGxmtI4JtUk1CRHgxPIWWO0id12xs%2B3fv80vf%2BCWNh4mm8e%2BKPEvjTwTo/ibxZo39naXqPw5%2BFceh2lsDqNvqM09/bm8nbVZrmezs1uC8saSwweWqR%2BZIzYFl/wUV/aH8R%2BDdO%2BNGk%2BGPAll4Z8M%2BC/AWsfEnR1aXU7i9n8QMhuotMv7e6WBI7OCRJUkaK4W7YlAYQBK3ong39sX4pfFL9ty9%2BBngDQfD6fD%2BTwD4kuPD3iO9t53utR13R9R0qyuZFKyhDYJLqMltjYJHmsZmVxGULgGl4L/Zd/ab%2BHNj4w8S%2BEP2jPAg8ZfELxj/bni%2B/1D4T3UujsqaZZ6dFDa6fHrMcsLCKyhZ5ZbqcyM0mVC7Fj5XS/wDgnr8YvBviD4O2Pgr9pbw9eeDPg54VtNP0Twp41%2BHM%2Bo%2BbqkYaKXWRLa6raRpcfZz5NujQyR2oeVkUlxty5/22P2lPC/7GGp/Fbxdb%2BEbzxppXxovfA19qegeDNRuLGKCHxHJpX22HRor2S%2Bv5fKQMLOC4Msrt8nA21Su/21f2p9R/YRuP2x9D8UfDTTX8Mt4ii1PR9a8Eap53ii6stUnsdPs7e1/tCO40a7vDDHGbS4W7uYLi6SBomkRkYA6%2B9/4Jwx3fxeuPEVt8WbbTvBcnxD1fx3DoWkeGDb61HrupaRc6ZcyHVhckGAreTzLGLZZQ/lqZmiTyzU%2BG/wDwTy%2BIfg7wpq2n%2BLfjB4B8Uai/wx0fwDoMOq/CE/2KNGsJ5JB/aenf2mf7SmkWVlJSa2iTJKRLucNv/HH4wftY%2BB/2gvhL4P8AA/inwF/ZPxI8WRWl74O1XwLezarpmmW2ny3uqXJ1KLVkhynkrDG32QqJbu3UhxljzH7LP7cnjT9rDxx4h03wv8VvBuhR6jbeIYvh94b1P4Y6y1wW0/UPsS376nJeQWerIhCyXNlZqkkBuI4nuFZGdwDc8Of8E5vDvh/9mdP2b7bxlpdnZ6x8RbLxV48OheEo7Cx1eOC%2Bt7p9LtbKOYrYWbRWltZhN8xFtGVYyO7SVsftSfsPWH7VPxW8N%2BKPGlx4DXw/oklhLcC5%2BGyXXiVzbXv2tre11p7oCytJykUcsS2zO0fnBZVMoKeQ6j%2B29%2B2B4N%2BHHjnxP4i1fwFrlvpHxxs/AHh3xV4a%2BF2ryhokhiXUrwaLBqtzd6o8V%2B09itvazLJutppSpRCKxn/4KpfETVfA/gGyuvFPg/wfrWt%2BGPEfiHxR4ov/AIba5r1laafpmsNpscr6VY3UdzpgkAae6N5cAaYyG3uN0pJQA9tP7C89/wDtU3H7VOra18PrXWNPGoTeEp/DvwsSw1Bb25tXs4rrV743skmrGC2lmijRVtkxPIWBOwpPpn7Jnx1uIviz448V/tKaPH8QviX4EtPDGneI/CfgOXTdP0BLRNR%2By3i2Uuo3ElxcrLqUzs73KhlhgRQgQlvPfEf7f3xg079umH4A6XY%2BHX8Kv490rw7bhvCmoyLf2t5oUepHUB4hS4/s20uFlkaKPSZYjdzpEkqHZcxMPsKgDjtI%2BHHhL4O/s/23wj8A6YLLQvC3g5NI0WzXpBaW1qIYU/BEUfhXFeOP%2BUhfwv8A%2ByM%2BPP8A07eEK9S8c/8AIk6x/wBgq4/9FtXlvjj/AJSF/C//ALIz48/9O3hCgD2aiiigAooooAKKKKACvGf2D/8AkiGuf9lm%2BI//AKmut17NXjP7B/8AyRDXP%2ByzfEf/ANTXW6APZqKKKACiiigAooooAKKK%2BTf2h/25fit8RPihe/skf8E5fDumeKvH2nnHi7xnqjE6B4QXJBWeVQRNckgqIV3bSDkMUdByYzG0MFTUql7vRJK8pPtFbt/glq2lqfQcO8M5pxPjJUMGoqMFzVKk5KFKlBaOdWo/dhFPRbylJqMITm1E%2BsqK8J/YY/bGf9p3wnqng74leGx4W%2BKnga6Gm/EXwbMcNaXQ4W5hBJL20wG%2BNwSOSNzABm4D9r/46/Fj47fHew/4J7fsg%2BM7rRNcaOLUfiv4/wBLb5/CWkEhlgicfdvbgYCD7yqwPAYvHhPNcKsFHEQvLmsopfE5PTls9mmnzX%2BG0m7Ja%2BrheAs8qcTVsmxXLRdBOdapJ3pU6MUpOs5Rvz05RlB0nC/tnUpxp80ppR%2BgPjL%2B0d8BP2eNJXW/jj8YPD3ha3kGYP7Z1SOGSf2jjJ3yH2UE8V4JqX/BaP8AYauruTSfhVrni/4iahGdp0/wL4F1C7kZuyqZI40Ynthse9dP8Fv%2BCWH7F/wb1k%2BNLr4Zv428UysHuvF3xGvG1q/nkH/LQm4zGj/7UaKa%2BgtO03TtIs007SbCC1t4hiOC3iCIg9AqgAVny53X1coUl2s6j%2B9uEb%2BiaO11fC7LPcjSxWOkvtOdPCU2/KEYYitb/FOMvJbHyXP%2B2l/wUI%2BMcLWn7NX/AATc1bQIbgbbfxL8Y/EEGlJak9Hl0%2BMm4cDqQj54puj/APBLzW/jrqkPjj/gpD%2B0DrHxWv0fzbbwXpk0mleGNNfsI7aAq87L0ErlSw%2B8pr69opf2RCs74ypKt5Ssof8AgEbJ/wDbzl6D/wCIh4rLYOHDuDpZe3o6lLnniGu31is51IefsY0W%2BsuhwPwr/ZW/Zp%2BB8Cw/CH4CeEPDjKuDPpPh%2B3hmf/flCb3PuxJrvgABgDAHQUUV6dOlSow5acVFdkkl%2BCR8Pjcwx%2BZV3XxladWb3lOUpyfznKT/ABGvFFIyvJErMhyhK5Kn29KdRRWhyXYUUUUAFFFFABRRRQAUUUUAFFFFABRRRQAUUUUAFFFFABRRRQAV4z%2By/wD8lv8A2jv%2ByzWP/qFeF69mrxn9l/8A5Lf%2B0d/2Wax/9QrwvQB7NRRRQAUUUUAFFFFABRRRQAUUUUAFFFFABRRRQAUUUUAFFFFABRRRQAUUUUAFfFX7bd%2BdN/4LHfsTXBbCyaN8TYG99%2BnaSo/XFfatfCH/AAUhv/7K/wCCsH7EF/nGb3xrBn/rqmiR/wDs1cGZy5MG5dnD/wBLgfWcEUvb8RwpfzU8Qv8Ay1xP%2BR930UUV3nyYUUUUAFFFFABRRRQAUUUUAFFFFAGVd/8AI7af/wBgu8/9GW1atVNU0TTtY8tr2OTfCSYpYLh4nTPUBkIYA8ZGcHAqt/wh%2Bk/8/eq/%2BDy7/wDjtAGpRWX/AMIfpP8Az96r/wCDy7/%2BO0f8IfpP/P3qv/g8u/8A47QBw37Xf7Kfw%2B/bO%2BB%2BofAn4ka/r2j2N9c29xFrXhW/S11KxkikDbreZ45BGXTzIXO0kxzSKMFsjiPir/wTh%2BEvxR%2BIP/Caw/Enxp4a0%2Be78K3WqeE/DNzYQ6bqMvh2/S90vzPNs5LhER40Roopo43Qcpu%2BevcP%2BEP0n/n71X/weXf/AMdo/wCEP0n/AJ%2B9V/8AB5d//HaAPDNX/wCCaHwB1yxurHUfEXithcQ%2BMBFLHqUCSWs3iLxND4luLmJlgBWa21C3ha2bkIiASCZvnrrPgV%2ByZb/AnW/E3iyy%2BPPjvxFrXjTxbb6/4s1bxI%2BlvJqUsOmQ6cluUt7GGKCDyraBtsCRNviBDhWdW9H/AOEP0n/n71X/AMHl3/8AHaP%2BEP0n/n71X/weXf8A8doA8t/aQ/Yh%2BHH7TPiKTX/E3jnxVoceq%2BGX8NeM9N8OXVrHb%2BK9CaYytpl8J7eZ/Jy867rdoJgl1OokAkIrZ%2BNH7M9t8aBp%2Bo3fxi8XaBrfh/xSdc8IeJPD401bvw/K1g9jLbwLcWUsM0EkM1zuS6inO64Zgy%2BXD5Xc/wDCH6T/AM/eq/8Ag8u//jtH/CH6T/z96r/4PLv/AOO0AfP2tf8ABLf4F32gQeC/D/xE8daD4fuvAmneDvGWhaXqdo8Pi/R7Oe6njh1CS5tZZg7vfX3mzW0lvLKLuQO5%2BTb6DL%2By1BrXxz0f43ePvjf418Sr4Y1e81Twd4T1U6ZHpehXlzaT2TzQ/ZbKG5mZbW6uoU%2B0zzBVuHwN21l9A/4Q/Sf%2BfvVf/B5d/wDx2j/hD9J/5%2B9V/wDB5d//AB2gDynxR%2BxB4L1/9nPx5%2Bzpo3xZ8c%2BH4viP4h1PWPEvi/QtRtI9aeW/vjc3EUcsls8SxeTixUGIstqioG3qJapXX7CtrJ4Y8Gadpv7TPxD0zXvAEd3a%2BFvGOkWPh21vLPTbmGKGXTRbR6SNP%2BzbYICo%2By%2BYhhQq4xXsf/CH6T/z96r/AODy7/8AjtH/AAh%2Bk/8AP3qv/g8u/wD47QB4RB/wTJ%2BAulN4b0nwp4t8YaN4c0PRPDmlar4RsdStnsPEtvoVwbjTDqDT28lw7xysS7QzQm4XEc/mxgINvQ/%2BCc37Hngv9oyx/aq%2BGHwL8LeEPGmn%2BH9X0yHU/C/hLTLRnk1GS3ea/dltt73aiBkSUsRsurlWVxKceuf8IfpP/P3qv/g8u/8A47R/wh%2Bk/wDP3qv/AIPLv/47QB4H4R/4Jv6J4Z%2BG%2Bo/D/Uf2qvinrVxP8QT430TxJqQ8PxX%2Bga493PdT3Nr9l0mGBxNJczB4rmGeLY5VUQcVDrP/AATO8KX48GXOiftQfFHSL7wZ4j1jxIt/bHQbo6xrupStJPqt5De6VPbm5TzJlhMMUSQJM4jRflx9Bf8ACH6T/wA/eq/%2BDy7/APjtH/CH6T/z96r/AODy7/8AjtAHO/8ACifDNx8c9J/aE1jXdV1DXtD8GXPhvS47uSH7PBBc3FvcXc6okSkTzPaWodgdm23QKi/Nu474XfsQfDn4VfFm2%2BKGleO/FV/a6PNrU3hHwjqNxZ/2V4cl1a5FzfvaiG2juHMkm7aLiaZYUkdIhGh2j1P/AIQ/Sf8An71X/wAHl3/8do/4Q/Sf%2BfvVf/B5d/8Ax2gDyUfsI/Dex%2BBHgz4JeGPiH4v0a58BeIW8QeHfHFhdWbaymsSG7%2B1ahKZrWS1mluft995we3Mbfa5CEU7SuDq3/BNL4VXfgew8I%2BH/AIv%2BP9CvU03xDp/iLxNpN9p/9o%2BJLXXb46hq0d401lJGvn3ZaYPbRwPAWZYGhRite8f8IfpP/P3qv/g8u/8A47R/wh%2Bk/wDP3qv/AIPLv/47QB4zaf8ABPP4R6Z8So/GOieO/F9j4dXxVpvieX4b215Z/wBiTaxp9nb2lpeMWtjeKY47O0bykuVgaS3R2jLFy3vVZf8Awh%2Bk/wDP3qv/AIPLv/47R/wh%2Bk/8/eq/%2BDy7/wDjtACeOf8AkSdY/wCwXcf%2Bi2ry7xx/ykL%2BF/8A2Rnx5/6dvCFeonwZob4Wdr6ZMgmK41a5kRvZlaQqw9iCK8u8cf8AKQv4X/8AZGfHn/p28IUAezUUUUAFcd8ePjZ4a/Z%2B%2BHUvxE8TaRqeqbtSsdM0zRdEhjkvdU1C9uorS0tIFlkjj8ySeaNd0jpGgJd3RFZh2NeX/tb/AAb8Z/Gf4YWFj8NbzTIvE3hrxhoviXQI9bnkisrq40%2B/huTazyRRyPEk0aSQ%2BaschiMgkCSbNjAGbD%2B2x8Ml/Z31X9oXVvCfiXT10TX28P6r4PurO3bWINb/ALQTTo9M2RTvA00t1LDHG6zGBxPHIJfLbfWLJ/wUA8ItZ22haZ8CfH9948m8XXPhu5%2BF1qmk/wBs2V7b6dHqcvnSvqC6esYsZ7W4EguyGW6hVcu2wZPg79mD4rr8CfiL4H%2BLnwz8BeJ9T%2BI2uah4m1XRR4zv7fT01Ge4TyLFLpNP8%2BKOC3t7QrqCRib7QjSLbxYXHn/hr/gnV428E/CDW7i2%2BFnhfXvHPin4qyeMJ7a7%2BN/ibT/%2BEdY6NBpINt4iitZNVvpWt7SITGVYRP8AarhSVRUQgH1h8I/in4O%2BN/wv0D4v/D%2B9kuNF8SaTBqGmyTRGOQRSoGCyIeY5FztZDyrKVPINed/sH/8AJENc/wCyzfEf/wBTXW6u/s8fso%2BHPgj%2Bx74W/ZJvNdvprPQ/DMOmX2o%2BHtSutHlllHzTSW0tpMk9oplLlAkoZFIXccEnE/4J0%2BHrDwl%2BzdfeFtKuL6W2074t/EO2t5dT1Se9uXRPGetKDLcXDvNO5A5kkdnY5LMSSaAPdKKKKACiigkAZJoAKKSORJUWWJwysAVZTkEeor59/bf/AG07z4B/2V8DvgZ4aHi/4zeN1aHwX4RgYEQA5DaheHOIrWLDMSxG/YwBCq7pz4rFUcHQdWq7JfNtvZJbtt6JLVv8PYyLIsz4jzSGX4GHNUld6tRjGMVec5ydowpwinKc5NRjFNvopcZ%2B2/8AG/4mfG74r2f/AATj/ZM8Szad4o1u1W8%2BJ3jWxY/8UdoTY3bWU/LdzqQsa5DBXB%2BXesie%2B/s7fs4fB79lb4X2Pwh%2BCXhCDSNIshufb8015MQA9xPIfmllbAyx9ABhQAON/Ya/ZBs/2TPhjdQeJPEB8R%2BPvFl8dX%2BIvjGfLS6vqUmWbDEAiGPcyxrgADLYBdq9rriwGFqyqPGYlfvZbLfkj0ivPrNreWm0UfTcV57gaWDhw5kc28DRd5TV4vFV9pV5rR8i1hh4S/h0lzWVSrUa%2BY/23v2OPil408a6R%2B1t%2Bxf4l0/wx8Z/DdubIXF%2BMWPiPTHOHsb0AENt%2B/GxBwVA4%2BR4%2B2/Ye/ZE0n9kX4SvoOo642v%2BNPEd62r/ABB8X3OWn1rVZctJIWbny1LFY14wMkjczE%2BzUVrDLMHTxrxUV7z89E3o5JbKUkkpNatJed/PxXHHEWM4Xp5BVqJ0INa8q9pKEW5U6U6nxSpUpynOnTk3GEpya%2ByoFFFFegfIhRRRQAUUUUAFFFFABRRRQAUUUUAFFFFABRRRQAUUUUAFFFFABRRRQAUUUUAFFFFABXjP7L//ACW/9o7/ALLNY/8AqFeF69mrxn9l/wD5Lf8AtHf9lmsf/UK8L0AezUUUUAFFFFABRRRQAUUUUAFFFFABRRRQAUUUUAFFFFABRRRQAUUUUAfCOl/BT9oHx14U%2BLfwQ%2BCvxc8V6t/wh/7T9iYovGHxw8Q6ZdXWjDwzo15c6cusW32i%2Bt43nupZBFGPLBdgFVeB6F4u/aP1Of8A4JKeL/j58Ff7b8OahongXXLe3utW1%2BXW7vR7nT5bmyursX1y8rXywSW800dxIWEqRo5GG216Xbf8E8P2ALO11KxtP2Gvg7FBrF1Hc6vDH8MtKVL6ZN2ySYC3xK673wzZI3tjqa9D0/4V/DDSLaws9K%2BHGg2sOlaJJo2mRW%2BjwItnpsnleZZRAKBHbt5EO6JcIfJjyPlXAB4z%2BxuL3wd8afjF8CtD8feI/EvhPwnqWhy6HeeKfFN3rd3Y3N5pkc11ZG9vJZZ5FAEF0EkkYp9uwu2Mxqvy1/wU/wDiF4kvP%2BCq/wCxzpmrfCXxDoNnpXjnV7XT9f1W5057TWxPeaCjParbXcs6KvAb7RFATvXaG%2BbH6DfC34O/CP4G%2BFV8CfBP4WeHPB%2BhrcPOujeFtDt9PtBK%2BN8ghgRE3NgZbGTjmvgn/gtKTZ/txfsb%2BIAcDSfG19dk%2BgGs%2BGF/9nrys7bjldR9uV/dOmfe%2BGEFV47wVN/a9rH78Ni0vxaP0Zooor1T4IKKKKACiiigAooooAKKKKACiiigAooooAKKKKACiiigAooooAKKKKACiiigAooooAKKKKACiiigAooooAKKKKACiiigArxnxx/ykL%2BF/wD2Rnx5/wCnbwhXs1eM%2BOP%2BUhfwv/7Iz48/9O3hCgD2aiiigAooooAKKKKACvGf2D/%2BSIa5/wBlm%2BI//qa63Xs1eM/sH/8AJENc/wCyzfEf/wBTXW6APZqKKKACvkb9v74qeOvjt8RtK/4Jofs469LZ%2BIfGFl9s%2BJ3iazOT4X8M5AlyRwLi4B8tFPO1%2BdokVx7T%2B2V%2B0z4d/ZD/AGc/Enx0123F1Pplr5WiaXk7tS1GU%2BXbWygfMd8jLnbkhAzY%2BWuL/wCCeP7LHiL4CfDK/wDiX8Z7w6n8WPiVdrrvxH1idRvW5cZjsUxwsNureWqj5Q28rhSoHj5hKeMrrAU3ZNXqNdIXtyr%2B9N3XlHmfY/RuEaGG4cyyfFmMipSpzdPCU5K6qYlRUnVkno6eFi41Gmmp1nQpu6U0efxf8E0vjN%2BzTEuof8E6/wBrvX/CNvAoP/CvvHztrXh64wPuoHBls9x5Z497HoMCvRv2KP2KH/Z2bWPjD8ZPFy%2BNfjD41YTeNfG0yHAHBWxswwBhtI8KFUBd2xSQoVET36itaGT5fh60alOLXL8Ku3GLel4xbaTtpdbK9krs4sz8R%2BLs4yyrg8XWjL2tlUqKnTjXqxi%2BZQq1oQhUqQUrS5Z35pKLnKfLFIooor0z4YKKKKACiiigAooooAKKKKACiiigAooooAKKCQBkmvmf4qf8FW/2Y/AXxAu/hZ8PNE8a/FXxBpq51jTvhL4YbW/7POcBZZEdYwxII2hiVKkNtPFc2JxmFwcVKvNRT0V%2Bvoldv5JnJjMfgsvgp4mooJ6K%2B7fZJJt/JM%2BmKK%2BSW/4Ksavaj%2B1dW/4JtftNWekL/rb%2Bf4bL5kQ/vNCJywX1PatfwR/wWK/4J%2B%2BLdZXwvr/xol8HauceZpfjrQrvSXi/35J4xCv/AH8rkjnWUylZ1km/5rxv6c0Y3%2B84Y8RZHKSi68Yt7c14X9OeME/kz6forl4fjh8FrjwYfiNb/F/wvJ4eHXXk8QWxshxn/Xh9nT3rxLxh/wAFhP8Agmp4G1l9B1r9rPQJp4/vPo9pd6jD%2BE1rDJGfwaumtj8Bhop1asYp7XlFX9NTrxGaZZhIqVevCCe15xV/S8tfl959K0V8pXH/AAW9/wCCXVsm9/2pYG9o/CWsOfyW0NV/%2BH43/BM9f3kvx51BIe1y/gXWfLP4/ZM/pXK89yVf8xNP/wADj/mcb4k4dX/MZS/8Dj/mfWtFfJc//Bbn/gnffqlt8Pvihr3jDUJBmLR/DHgXVZbp/oslvGPzYU1P%2BCp/iu/H9o6F/wAE0P2k7rTW/wBRdt4ASOSUf3hE0%2B7aex70f25lD%2BGspf4by/8ASYyF/rJkT%2BDERl/h5p/%2BkRml82fW1FfJX/D2vQ9O58X/ALAX7TuiIOtxf/CZjF/30k7Z/Kj/AIfK/szN%2B6h%2BE3xikuB9%2B0T4Y3nmIfQjp%2BtH9uZT1rJeqkvzgg/1kyLrXS9VNfnTR9a0V8lj/gsD8H3%2BaD9lj9oCRezp8KLgg/8Aj9H/AA9/%2BEn/AEaj%2B0H/AOGnuP8A45R/bmUf8/l90v8A5AP9ZMi/5/r7p/8Ays%2BtKK%2BSj/wWI%2BBduc6v%2Bzp8ddPX%2B/efCu5Uf%2BOsaP8Ah87%2ByUOJPB3xSRh1Vvhpf5H/AI7R/bmT9a8fxX5xQf6yZD1xMV63X5wR9a14z%2By//wAlv/aO/wCyzWP/AKhXhevMP%2BHyv7Mlxxo/wq%2BMGot/dsvhjeMf/HgK6L/gnX8YdG%2BPmt/Hn4teH/C3iDRbPVvjNB5OmeKdJaxv4fK8I%2BG4T5sDElNxjLLk8oyt3row2ZYDGTcKFRSe%2Bl9vuS/E6sJm2WY%2Bo6eGqqbSvpfb/wABS/E%2Bk6KKK7T0QooooAKKKKACiiigAooooAKKKKACiiigAooooAKKKKACiiigAor5o%2BE/xh/bE%2BIHhL4q%2BHvEvxP%2BEugeI/hp8Um0a88Vz%2BB9QfSF0caFpuqM72j6uknnK1/5bTG6jj2RF/LB%2BWtXQf2nfjl4t/4Jp6p%2B1n4Y%2BGVrdeP1%2BGGra94c8O2umXU1trF9BbXEli0VsGW5aG7McMqQbvO2XCpu3/NQB9BV%2Bcv/AAXM/wBE%2BNnwI8RdP7HttVvN393b4j8Hrn/x%2Bvr79jv416x8afAmrXXi34o6N4j17R9bNnq1tpnw11XwjPpDG3hlS2utN1a6uLqOUrJ5okYoskcsZVMDe/xB/wAFyvi58KPF3iG20TwT8TvD2sa74A%2BHes3HiXR9K1qC4u9HdvFngdY1uYY3L25b58BwpO046GvJz3/kTYh9oN/dZ/ofoHhTr4l5RD%2BbEU4/%2BB88P/bz9O6KKK9Y/PwooooAKKKKACiiigAooooAKKKKACiiigAooooAKKKKACiiigAooooAKKKKACiiigAooooAKKKKACiiigAooooAKKKKACvGfHH/ACkL%2BF//AGRnx5/6dvCFezV4z44/5SF/C/8A7Iz48/8ATt4QoA9mooooAK8Q/b%2B8SeItC%2BCejaRonivUtAtPEnxL8K%2BH9f1zR9Qks7qz06%2B1q0trgRXMTK9s8yyfZhMjK8f2jcjI4Vh7fWb4x8GeD/iJ4Wv/AAP8QPCmm67omqWzW%2Bp6PrFjHdWt5Cww0csUgKSIR1VgQaAPlPwhF%2B0D44/Y1%2BK/wv8Agv4/17VdR8L/ABX1LQPCWs3viqT%2B1dR0W11S3a7sI9UuHMn2sRG/02K7lk8xJIo2eXejSV4dbfEX9pL4iTn9nfwhB4vsI7b9o7U9H8L%2BDPGPxv1LTb7UdHtvBltqFxaXvinS5r27V7fUrm4kCQyXRYxC1dtkErx/fVv%2BzX%2BznaeC3%2BG9r8AfBUXh2TQ/7Fk0CPwrZrZNpvmNJ9iMAj8s2%2B93fysbNzscZJNQav8Asr/sw6/8K7H4Fa7%2Bzj4DvfBGlzCbTfBt34QspNKtJAXIeK0aIwxsC7nKqDl29TQBw/7FvxW8YeIP%2BCffw7%2BKd5D4k%2BIevt4EsnvVRrKLUtZu0jEcpV7i5jtmZnViJHnCuAH3tuyT/gnTq1/r37N19req%2BGL7RLm8%2BLfxDmuNH1OSB7mxdvGetEwytbyywl0J2kxyOmQdrMME%2B16No2keHdItfD/h/SrawsLC2S3sbGzgWKG3hRQqRoigKiKoACgAAAAV5F%2Bwf/yRDXP%2ByzfEf/1NdboA9mooryv9t39oW2/ZX/ZQ8c/Hd5UW60PQpDpCSAESX8uIbVCD1BnkjB68ZrKvWp4ahKrUdoxTb9Em3%2BR35VluMzrNKGX4SPNVrThTgu8pyjGK%2B%2BWvZJvoeD%2BI/wDjPf8A4KQWvgxB9p%2BGH7OF0l/q/eDVvGMinyIT2YWabmOOVkDKww4r7MrxH/gnd%2BzhJ%2BzD%2Byb4Y8Da5FI3ibU7f%2B2/G95cMWnu9ZuwJbl5WPLsrERBjyViWvbq4croVIUHWrL95VfNLyuvdj/25G0fXmfU%2Bp48zTBYnNYZZl0r4PAx9hRf8/LJurWfnXrc9X/B7KN7RCiiivTPhwrh/wBoL9pL4I/ssfDyb4pfHv4hWXh3RYZFiWe5DPJPKekUUUYaSZyATtRScAk4AJHO/tpftY%2BGv2O/gncfEzUtEl1vWb29h0vwh4WtHxca5qs52wWseATycsxAJCqxAJwp8i%2BB3/BPbxH8VPF5/ac/4KR6lp/jzx5fWckWk%2BDxHv8AD/g%2B1lXDW1rAxKyzYOHnbJyBgsV8xvMxeNr%2B2%2BrYSKlUtdt/DBPZytq27aRWr3bS1fjY7MMT7d4PAxUq1k25X5Kad7OdtW3Z8sI6vduMVd/U/hPxV4d8deF9N8a%2BENXh1DSdXsIb3TL%2B2bMdzbyoHjkU9wysCPrWhXyB/wAE1tf1r9nn4g%2BO/wDgmd8Q9Tmmufh3cHWPhte3b5fU/Ct3IWiwTy7W8rGJz0BcKBhK679tv9rX4k%2BAvG3hX9k/9k7TdN1b4v8AjmYTWq6pG0ll4e0mNv3%2Bp3ioQQgAZEX%2BJg2NxUI80s0pf2esTVVmvdcVq%2Be/K4pdXzbd009rsVHOqP8AZSxddcsk%2BWUVq/aJ8rgl1bl8PdNPRXa%2BkaK%2BSv8AhDf%2BC2tl8lr8Zf2eb0dN954e1aMj3xGcZpkv7OX/AAVw8cxm38Yf8FDPBvhKGYbbiPwX8L4rlwp6hJLtwyHHRuo60f2nWekcLVb9Ir8XOwv7YrvSGDrN%2BcYR/F1LH038Qvij8M/hHoDeKvir8Q9D8NaYrbW1DX9Vhs4AfTfKyrn2zXzv4t/4LI/sG6Lq7eGPAnxG1bx/rK/d0j4feGLvU5X/AN10jETfhJT/AIc/8Ejv2VNE8Qp8Qvjsuv8Axl8WY/eeIPirq76oBnkqls2IFTPRWRioAANfR3hLwP4L8AaSug%2BBPCGl6JYp9yy0jT47aJfokagD8qX/AAt19fcpL51JfnGH5i/4yLE6/u6K871Zfg4QT9Ob5ny3/wAPDP2tfiL8v7Pf/BK74m3qScRXfxF1Sz8MKB/fKTmQkd8A5PalWf8A4LX/ABGb7TFY/AX4cWZ5W2uZNR1e%2BU%2BjMmISPcc19b0U/wCzcRU/jYmo/wDDywX/AJLFv/yYf9kYqr/HxlWXlHkpr/ySLf8A5MfJX/Ckf%2BCxOof8fn7cHwy0/P8Az4fDUy4%2BnmvTZf2cf%2BCu1in9r6f/AMFIvCF/dQ/NFo9/8ILWG0uT/ckmjcyovugzX1vRR/Y9DrUqf%2BDZ/wCYf2DhnvVrf%2BDqn%2Ba/I%2BQm/aF/4K%2B%2BB1/4QnxV%2BwT4H8Zatcfu7Hxd4Q%2BIiWWkI/d5re8BuFUDLdQTjaOTS237LX/BT/4zyHxT8cv2%2BrD4ezEZtPCvwm8KxyWlsT/z0urz97MccFSCoPIPr9eUUv7JU9K1epOPROVvvcFBy%2Bb%2BQv7DVTSviatSK2Tnyr5umoSl/wBvS%2BR8gav/AME0P2hfiVbr4M%2BP3/BTD4jeKfBc7g6x4asNHtNKl1GMZ/cyXUBL%2BU3R0x8w9Dgj6R%2BCnwF%2BDn7OXgW3%2BG3wP%2BHemeGtFtuVs9Ng2%2BY%2BMGSRzl5ZDgZdyzHuTXXUV0YbLcHhKjqU4%2B9tdtyduycnJpeSsvU6sJlOX4Gq6tKHvvTmk5TlbspTcml5Jpd7hWL46%2BG/w7%2BKGjN4c%2BJfgLRfEWnvndY65pcN3Cc9cpKrL%2BlbVFdkoxnFxkrp99T0JwhUi4ySafR6r7ndHzbN/wAEgf8AgmxP4zHjt/2TPDwvR/y7pPcrZZzn/j0Ev2f/AMh17f4J%2BD/wl%2BGujJ4c%2BHXwv8O6Bp6fcsdG0WC1hH/AI0A/SujormoYDA4aTlRpRi3vaMV%2BSOPDZZluDk5UKEIN7uMYpv5pIr2%2BlaXaP5lrptvG396OFQf0FWKKK60kjtSS2GR21vC7SQwIjP8AfZVALfX1p9FFAwooooAKKKKACiiigArxn9l//kt/7R3/AGWax/8AUK8L17NXjP7L/wDyW/8AaO/7LNY/%2BoV4XoA9mooooAKKKKACiiigAooooAKKKKACiiigAooooAKKKKACiiigAooooA%2BVfE//AASwsPGfhzxv4T8Uftv/ABnvNP8AiF43s/FPim0kg8KCK8u7e3t7cQPGuhBJbSSKzs0lt5A8cgtlDAiSYSe62vwq8aQeDIfCs37RnjSe7i0O6sG8QPZ6Kl5JPK6NHflY9OWAXEAUpGqxCArI3mwyttZe1ooA88%2BA/wCztpPwOvPEviO5%2BIniTxj4k8X6jDeeIvFPit7MXd0YbdLeCIR2NtbW0UUcaAKscKZLOzFmZmPx1/wXb03%2B1fCMtrtzs%2BBHi2bH/XPxT4Fk/wDZa/Qivhf/AILIab/atpfWu3Oz9mj4hzY/656x4Nk/9lrzc4jz5RiI96c//SWfaeG9f6t4iZPV/lxWHf8A5Wp/5n2v4O1L%2B2fCOlaxuz9r02CbPrujVv61o1x37O2pf2z%2Bz94F1jdn7X4N0ybPrutIm/rXY13UZc9GMu6T%2B9Jny%2BY0Pq2Y1qP8k5x/8BnOP6BRRRWhxhRRRQAUUUUAFFFFABRRRQAUUUUAFFFFABRRRQAUUUUAFFFFABRRRQAUUUUAFFFFABRRRQAUUUUAFFFFABRRRQAV4z44/wCUhfwv/wCyM%2BPP/Tt4Qr2avGfHH/KQv4X/APZGfHn/AKdvCFAHs1FFFABRRXHfHj42eGv2fvh1L8RPE2kanqm7UrHTNM0XRIY5L3VNQvbqK0tLSBZZI4/MknmjXdI6RoCXd0RWYAHY0V47D%2B2x8Ml/Z31X9oXVvCfiXT10TX28P6r4PurO3bWINb/tBNOj0zZFO8DTS3UsMcbrMYHE8cgl8tt9VoP2zn1L4e614y8P/sz/ABA1DU/CfiCbR/HPhBL/AMPW%2BoeGp47OG%2B33Ulzq0Vm0bWtzazq0FxNlLmMkD5toB7XXjP7B/wDyRDXP%2ByzfEf8A9TXW67j4A/GHSf2hfgf4R%2BPGgeFta0TT/GXhyz1rT9K8RW8UV/bW9zCs0STxxSSIkmx1JUO2CcZyDXD/ALB//JENc/7LN8R//U11ugD2avkD9vX/AIyL/bA%2BBn7Dtp%2B%2B01NYf4g%2BP4RyBpunEraRSDvHPcloyPVVNfX9fIH/AATr/wCMhP2jPjh%2B3le/vrHXfEo8HeAZm5X%2BxdLwjzRH/nncT/Of9qM9K8jNf37pYNf8vJa/4IWlL77Rj82fonAP/CVDMOI5afU6LVN/9RGI5qFG3nBSr1vL2afRM%2Bv6zfF/jPwh8PvDl14w8eeKdO0XSbGPzL3U9WvY7e3gT%2B88khCqPqa8P/bb/bXuP2fX0n4J/BHwovjP4yeNQYvBfg2FsrEOQ1/eEEeTax4ZixK79jAEBXdOI8D/APBLW3%2BJ2tWPxS/4KJ/GbV/jP4ngKzw%2BH7xzaeGdKlI5W3sItqyYyVLycSAAtGDV1sfVlXlQwkOecfibdoRv0b1bdteWKbta7jdH5FiMzrTxMsNgaftJx%2BJt8sIN7KT1blbXkinK1ruN1f6V%2BGnxj%2BEvxm0X/hIvhF8TvD/iiw43Xfh/WIbyNSexMTMFPsea376%2BstMsptS1K7it7e3iaW4uJ5AiRIoyzMx4AABJJ4AFfNfxK/4JFfsNeO9a/wCEv8JfDK6%2BHniJM/Z/EXwy1WXRLi3J7okB8gHODkxk1hJ/wRe/ZI8QMJPjT4v%2BKPxKfOZG8dfEm%2BuDIfVvIaHNT7fOo%2B66EG%2B6qNR%2B5wcvz9SPrPEMfdeHpyf8yqtR%2B5wc1%2BPqYP7L9je/8FD/ANrC5/b08X2kp%2BGXw/uLnRfgZpdzGQmoXAby7zXmRupZl8uIkcBRwrxZP2pWV4H8EeEvhr4O0z4f%2BAvD9tpWi6NYx2el6dZptjt4I1Coij0AHU8nqcmtWujAYR4Si%2Bd805Pmk%2B8n%2Bi0jFdIpeZ15ZgZYHDtVJc1Sb5py/mk97dopWjFdIxXVu/yj/wAFLPhJ8WdD1DwP%2B3P%2BzD4IuvEHxD%2BFWplLnw7p0TtN4j0K6Pl3djtjVmdhuEicNs/eMqlsCt7/AIJ9/sqeN/hVpuuftJftJ3MepfGX4nSpfeMLzhl0m3wDBpNvydkMKhVIBILL1YIhr6QorJZXh1mDxd3ffl%2BypW5XO38zjaN/mtW2YRyXCrNXjrtt6qP2VO3K6iX87jaN%2BiV1q2wooor0z2AooooAKKKKACiiigAooooAKKKKACiiigAooooAKKKKACiiigAooooAKKKKACiiigArxn9l/wD5Lf8AtHf9lmsf/UK8L17NXjP7L/8AyW/9o7/ss1j/AOoV4XoA9mooooAKKKKACiiigAooooAKKKKACiiigAooooAKKKKACiiigAooooA%2BfNH/AOCh/g7VvCGrarJ8APiNaeJdN%2BJieA7P4e3dtpS6xqurvpsGqKtuV1A2ix/YZvtJea4i2JDLvCMm09nYftdfCK6/Zcv/ANri/bVLDwzpOl391rFld2OdQsp7KWWC7sXgjZt11FcwS25jRm3SptUtkE/Pukfsp/t0P8TPEHxm1XwJ8JrPWLP48xfErwbptt8TNTube93%2BFV8L3On3kraHE1rm0e4uEnjSfErohi2qZG7mL9jb4r3/AOxJ4g/ZY1fXfD0Gs%2BLIvEniDUfEdtdzyW9h4m1TW7jWlijt2hVp7GO6u5AZGkjkMcKDywZCYwD1f4A/tD6T8eYfEOnyfD3xH4P8QeE9Xj07xJ4U8WpZi%2BsZJLaG6hctZXNzbyxyQTxurxTOM70ba8bovzz/AMFRdN/tbWdWtNuSP2SvixKB6lLjws4/Va9o/Zg%2BEfxd8K%2BMviF8avjzaeG7DxN4/wBYsZDofhLWLjUbHTLKysIrWGMXVxbWzzyO4nmZvIjCiZIwG8syP4t%2B2P8AB/w3pH7ROta3pGoeIZ7zxZ%2By58Ulv4NV8Xajf2kZE/hhQLa1uZ5ILIHecrbpGG43A7Vxy46PPgase8Jf%2BkyPd4WrfVuKMBW/lr0H91ai/wBGe7/sO6l/bP7Ffwh1Ytk3Pwv0CRj7nToCf1r1KvDv%2BCZ2pf2t/wAE%2B/g5dbs7Ph7pkOf%2BucCx/wDste41OXy58voy7wh/6TE24wo/VuL8ypfy4jEL7q9YKKKK7D5wKKKKACiiigAooooAKKKKACiiigAooooAKKKKACiiigAooooAKKKKACiiigAooooAKKKKACiiigAooooAKKKKACvGfHH/ACkL%2BF//AGRnx5/6dvCFezV4z44/5SF/C/8A7Iz48/8ATt4QoA9mooooAK8v/a3%2BDfjP4z/DCwsfhreaZF4m8NeMNF8S6BHrc8kVldXGn38NybWeSKOR4kmjSSHzVjkMRkEgSTZsb1CigD5t8HfswfFdfgT8RfA/xc%2BGfgLxPqfxG1zUPE2q6KPGd/b6emoz3CeRYpdJp/nxRwW9vaFdQSMTfaEaRbeLC45Hwz/wT1%2BJ%2Bjfsj/Fj4L2Gs6To%2Bv8Axz8bRXvjVV8X6pq0el6PPBpulahDBqd7H9sv7ttKsZWWedYy11P1ijVdv2BRQBj%2BJPAnh3xR4Kn%2BHt0L%2Bw0ye0Frt0DV7nS54IgAAsNxZyRTQEAAAxupA4BxXkf/AATp8PWHhL9m6%2B8LaVcX0ttp3xb%2BIdtby6nqk97cuieM9aUGW4uHeadyBzJI7OxyWYkk17pXjP7B/wDyRDXP%2ByzfEf8A9TXW6ANb9tn4rn4G/sifEn4rxXXk3Gi%2BDL%2Bawk3Y/wBKMLJbjPbMrRj8a8A8JfF3Tv8Agmt/wS0%2BF3h7TPDX9q%2BOtW8N2Gn%2BDfB8CEzat4hv189oggwSizTuztxwMZ3MoOh/wWl8QWF3%2BzH4a%2BBV/qa2sHxN%2BJuh6DqMxfb5Ngs/2u4nYjoiLbAsewNZ37D/AIP1v9tj44y/8FLPi1oj2nhyyhn0j4BeFbpABpmlhjHNqrp0W4uCpA/upkZZREw%2BWxmIrVc7lQw7/eciin/KpNynN%2BkVFJdZOK2TPquIsVXyzwwwGW4V2r5hiq9W/wDLSw1Onh1UfkqlaryJ71LdFI9M/YX/AGLbj9n2w1H40fGzxAfFnxm8cIlx478X3eHMbEAjT7XAxFaxYVQqgBtgOAqoifQlFFfQ4XC0cHQVKkrJfe31be7berb1b/D4vB4PD4DDRoUVaK%2Bbberbe7k3q29W39xRRRXQdQUUUUAFFFFABRRRQAUUUUAFFFFABRRRQAUUUUAFFFFABRRRQAUUUUAFFFFABRRRQAUUUUAFFFFABRRRQAV4z%2By//wAlv/aO/wCyzWP/AKhXhevZq8Z/Zf8A%2BS3/ALR3/ZZrH/1CvC9AHs1FFFABRRRQAUUUUAFFFFABRRRQAUUUUAFFFFABRRRQAUUUUAFFFFABRVDxV4r8L%2BBfDV/4z8b%2BJLDRtH0u0e61PVtVvEt7a0gRSzyyyyELGigElmIAAyTXNfCz9pH9nf456PqniH4JfHvwX4x0/RJBHrN94V8U2moQ2DlPMCzvbyOsR2fNhiPl56UAdpXzv%2B0vpv8AbX7WXhfR9uftf7O/xJhx67r/AMJr/WvV/g9%2B0R%2Bz/wDtD6Zda18APjn4O8c2di6Je3fg7xNaanFbs6lkDtbSOELAEgEjIGRXC/Ee0jv/ANv34a2M33J/gp4%2Bjf6HVfCAP86mceeDj3TX4M3wtZ4fFU6q%2BzKMvulF/ocz/wAEg9S/tX/gmx8JbrdnZ4dkhz/1zupo/wD2WvpGvlD/AIIhXclz/wAExPhrb3B/e2h1i3lHoU1i9AH5Yr6vrzsklz5Nhn/07h/6Sj7LxPorD%2BJOdU10xeI/9PTf6hRRRXpnwwUUUUAFFFFABRRRQAUUUUAFFFFABRRRQAUUUUAFFFFABRRRQAUUUUAFFFFABRRRQAUUUUAFFFFABRRRQAUUUUAFeM%2BOP%2BUhfwv/AOyM%2BPP/AE7eEK9mrxnxx/ykL%2BF//ZGfHn/p28IUAezUUUUAFFFeQ/tr/Ejx98PPhPpFl8MvEraFrHizx/4d8MQ%2BIktIZ30mLUNTt7ee5jjnR4mmELyCLzEeMStGXR1BRgD16ivlKw%2BMv7VE/wCyH8ULDwb4g1HxV47%2BH3xGu/DNv4otdBtZdSvtLivrVpr%2BOzhiS3nv4NOuZcRJEI5rm1AEIEnlV5DB%2B3f%2B0ZrkH/CgfBOofFXV9Rl%2BPtz4O07xd/wg2kad4uvtJi8IW3iMt9i1S3tNOs7ky3BhD3VvEv2WEv5XnOtAH6F14z%2Bwf/yRDXP%2ByzfEf/1NdbrZ%2BDPx08Ha/wDsuaH8cIfEnizxLpg0NZLq/uvCrz63cyxMYZhNYaZbZN0sqOskVvBtDq%2BxQoFcx/wTp8Q2Hi39m6%2B8U6Vb30VtqPxb%2BIdzbxanpc9lcoj%2BM9aYCW3uESaBwDzHIiupyGUEEUAfFH/Befxb4n%2BJn7UvwZ/ZL%2BHl3jXNU0u9W1t9hdJJtYmTS0Z8fdCRJdsG4x1r9Lvhd8O/Dnwi%2BGvh/wCFfhC28nSvDejW2madHgZEMESxpnHfCjJ7nNfn98E/Bg/av/4L1/Er41Xq/afD/wAE9Ht9L09j8ypqTW/2dUI6fLI2ouPRo1781%2Bj1fM5DSdfG4zHy%2B3Nwj/hp%2B7%2BMk/uPSzzHwzDMqVOn/DwdClho/wCJOWIxD%2BeIxDi/%2BvNumhRRRX0x5oUUUUAFFFFABRRRQAUUUUAFFFFABRRRQAUUUUAFFFFABRRRQAUUUUAFFFFABRRRQAUUUUAFFFFABRRRQAUUUUAFeM/sv/8AJb/2jv8Ass1j/wCoV4Xr2avGf2X/APkt/wC0d/2Wax/9QrwvQB7NRRRQAUUUUAFFFFABRRRQAUUUUAFFFFABRRRQAUUUUAFFFFABRRRQAjMFUsc4AzwM181/slaJqFl8B/E3xI%2BMvg/xRpfif45a7rni3WdNPhi8e90%2BzkhW306zuEETG2uYdIttPgMMu1mnjkRVLZQfStFAHzB/wTnb4h%2BGDrnwY03XviJ4g%2BE/gzwp4d0/4feI/ir4Abw5rBuUS7hvLAQPYWD3FtBBBprJcNbKS9zMvmzFDs2L/Tfivaf8FNvBd5428aeHtQ0K4%2BD3jg%2BGtO0rwxPZ3dgg1bwl5i3NzJezJdk5TBSG3C7TkNuG36Hrxnxx/wApC/hf/wBkZ8ef%2BnbwhQB5j/wRX/0T9iNPDvT%2ByPHniKz2/wB3bqUzY/8AH6%2BtK%2BS/%2BCP3%2BifBr4n%2BHf8AoEfHzxXZ7f7u24jbH/j9fWleTkX/ACJ6C7Rt9zkv0P0DxV18SM1n/NWcv/A4Up/%2B3hRRRXrH5%2BFFFFABRRRQAUUUUAFFFFABRRRQAUUUUAFFFFABRRRQAUUUUAFFFFABRRRQAUUUUAFFFFABRRRQAUUUUAFFFFABXjPjj/lIX8L/APsjPjz/ANO3hCvZq8Z8cf8AKQv4X/8AZGfHn/p28IUAezUUUUAFc78WPhP4B%2BN/gK9%2BGfxN0NtQ0e/eCSaGK9mtpY5YZkngnhngdJYJopoo5Y5YnWSOSNHRlZQR0VFAHnHhb9lH4L%2BCPh7dfC/whZ%2BJNN0i9tJ4boWfjzWI7qV57qS6nuzdC7%2B0fbZJ5ZJHvfM%2B0uW%2BaUgACjJ%2BxT%2Bzm/wys/hRH4U1eDT7DX5NdtdUtPGerQ60mqSLIkl8dWjuhqDXLxzSxPMZy7xSNGxKErXqtFAGJ8N/hx4I%2BEPgPSfhl8N/D0Ok6FolklppmnwFisMSjjLMSzsTks7EszEsxJJJ8s/Yl1Sx0P8AZ78Ta3qk4itrP4vfEqe4lbokaeNNbZj%2BABNe3V8k6Xr8nhX/AIJifHfxJDP5cljrfxkmhfOMSL4m8Qlce%2B7FZV6vsaE6n8qb%2B5N/oRUqQo05VJuyim36JNv8EzF/4IYeFLzUP2RtX/aa8TSQzeIPjH4/1nxLq1wiYYf6XJbCInuBJDPIPTzzX2hXz1/wSf8ABEnw%2B/4Jy/CHQZVwbjwhFqQHteu94P0nFfQtcGSUvY5Ph4vfki36tczfzcm/mcmWU5U8upKTvJxi2%2B8pJSk/VynJv/gWRRRRXqHcFFFFABRRRQAUUUUAFFFFABRRRQAUUUUAFFFFABRRRQAUUUUAFFFFABRRRQAUUUUAFFFFABRRRQAUUUUAFFFFABXjP7L/APyW/wDaO/7LNY/%2BoV4Xr2avGf2X/wDkt/7R3/ZZrH/1CvC9AHs1FFFABRRRQAUUUUAFFFFABRRRQAUUUUAFFFFABRRRQAUUUUAFFFFABRXC/tQSfGaL9mj4iS/s5Bj8Ql8C6ufAYVbdj/bIs5fsWBc/uT/pHlcS/u/7/wAua8g%2BFf7SniTwN%2BzN8XfEfi3VviNr3jn4VaZfanrvh/4qWGhQalbumlLe28CN4fiSymtpVXckkbSPueVGcFPLQA%2Bma8Z8cf8AKQv4X/8AZGfHn/p28IVyf7HHxC%2BOVt8ZNZ%2BCHxl%2BNNx8Qd3wq8K%2BM7bXLvR7GzezudSn1S3urSNbKCFDabrCOSDzA8wDyq8suFIwviB%2B0P4Zn/4K6/Bz4UafZa/DcyfCz4h6Zdvq3hPUbC1nm%2B1%2BFrtGtbm5gjhvgEtJdzWzyqm4biNy5mc4wV35fi7fqRUqRpx5pbaL72kvxaIv%2BCVH%2Bgaj%2B0n4dJ/49f2ovFMsa/3Y5Raso/Q19aV8l/8ABOD/AIl/7RH7VHh3p5Xxqe82/wDXxaRtn8dtfWleXkemWQXZzX3VKh%2Bh%2BKPvccYmp/PDDy/8CwmEf6BRRRXrH5%2BFFFFABRRRQAUUUUAFFFFABRRRQAUUUUAFFFFABRRRQAUUUUAFFFFABRRRQAUUUUAFFFFABRRRQAUUUUAFFFFABXjPjj/lIX8L/wDsjPjz/wBO3hCvZq8Z8cf8pC/hf/2Rnx5/6dvCFAHs1FFFABXO/Ff4r%2BAfgj4CvfiZ8TdcbT9HsHgjmmis5rmWSWaZIIIIoIEeWeaWaWOKOKNGkkkkREVmYA9FXkH7a/w38ffEP4T6RffDLwy2u6x4T8f%2BHfE8Ph1LuGB9Wi0/U7e4nto5J3SJZjCkhi810jMqxh3RSXUA27L9q34CX3wLuv2kU8dND4QsZJ4b69vNIu7e5trmG5NpJaSWUsS3SXQuVMH2VohMZcRhC5CnB1b9vT9mfRfBWi%2BOrvxB4nkh8QeLpfC%2BmaPZfDfXrnWTrEdlcX8lnLpUVk19byLaWs9wfNgQeUqvna6FvMfCvwJ8d%2BJ/2dvih4e%2BMn7P3jO2u/Hfje88cafoHhzX9GXUtLuEv4JNOt4Z2vfsy6lEbC1vSWc2glk2edKA2eD8Kfsg%2BOtO%2BHniH4g/Hf4GfGvx74j8U/G%2BTx1oVloPxM0jR/FHh2ZPC9v4diubu80/U9Nsg8ltDchobOV4kS7jj2SeWz0AfcOga1Z%2BJNCsvEWnQ3cdvf2kdzBHf2E1pOqOoZRJBOiSwuARujkVXU5VlBBFfA37VPii48If8EXfjnqtrKUeb4oeO7IkHqtz8RdRt2H4rKRX1t8EvA3x6f8AZM8LeAPjZ8Ur/T/iIvhKztvEnivQfsdxdQ6gIlEsqG4tpLaWTcCC7QFHO5giggD4A/bcj1/Rv%2BCRS/B5/FGoa3e%2BK/2o/FHh241XUY4EudRk/wCE216fzZVtoooRI72wYiONEyflVRgDyc%2BqOlkmJkt%2BSS%2BbVl%2BLPPzaNSeV1oQdpSi4q/edoL8Zo/RL9lrwjc/D/wDZk%2BHPgK8jKTaJ4E0iwlQjlWhsooyPzWu7pERI0EcahVUYUAcAUtelSpqlSjBbJJfckv0PSm4ym3FWV3p212%2BWwUUUVoSFFFFABRRRQAUUUUAFFFFABRRRQAUUUUAFFFFABRRRQAUUUUAFFFFABRRRQAUUUUAFFFFABRRRQAUUUUAFFFFABXjP7L//ACW/9o7/ALLNY/8AqFeF69mrxn9l/wD5Lf8AtHf9lmsf/UK8L0AezUUUUAFFFFABRRRQAUUUUAFFFFABRRRQAUUUUAFFFFABRRRQAUUUUAZ3i3wvpfjbwxqHhDW5b5LPUrSS2uX0zVLixuFR1IJiuLZ0mgcA8SRurqcFWBANcX8M/wBlL4JfCOO7XwdousvJqd5Nda1c654w1TVZ9Xlkt0tib6W9uZZL4LDGkca3DSLEqgRhK9FooA88%2BAX7KvwM/Zitb%2B1%2BDPhS8sP7Shtbe5m1LxDf6nMLW1R0tbSOW%2BnmeG1gWSQRW0ZWGLzH2Iu9s/Jf/BTfxmfhv/wVQ/Yg8aeaUV9X8XaO7Z4xqB0Ozwf%2B/tfe9fnR/wAF3tPvLPxL8PPirpcDSXvw88Fa94mslT7weDxN4KjJHphJnP0BrzM5lKnldWpHeK5v/AZRk/wizx%2BIJzpZNWqx3glL/wAAlCb/AAiz2P8AYa/4l/7f37XHh3p5Xirwzebf%2BvjSmbP47a%2BtK%2BRf2R9Qs3/4KmftRzafOJLfXND8CajbuvR0XS5Yww%2BoIr66qMlf%2BxyXapVX/lSX%2BZ%2Br%2BJTU%2BI6NVfbwmBl9%2BCoJ/jEKKKK9Y%2BACiiigAooooAKKKKACiiigAooooAKKKKACiiigAooooAKKKKACiiigAooooAKKKKACiiigAooooAKKKKACiiigArxnxx/ykL%2BF/wD2Rnx5/wCnbwhXs1eM%2BOP%2BUhfwv/7Iz48/9O3hCgD2aiiigAooooAKKKKACvy%2B/aF1Qa5afs3/AAceLzI9b/bj8a6nPF/eisvHGrK//jt21fqDX5eeHrm18cf8FE/2bvhnMA40T4r/ABs12VcZ27vFWumNj/wOyAHvXi5/rl3s/wCedOP31IfomcOPSnCnTaupVKa%2BXOpP7lC/yP1Dooor2juCiiigAooooAKKKKACiiigAooooAKKKKACiiigAooooAKKKKACiiigAooooAKKKKACiiigAooooAKKKKACiiigAooooAK8Z/Zf/wCS3/tHf9lmsf8A1CvC9ezV4z%2By/wD8lv8A2jv%2ByzWP/qFeF6APZqKKKACiiigAooooAKKKKACiiigAooooAKKKKACiiigAooooAKKKKAM3xlf%2BKdL8KajqPgfw5bavrENnI%2BmaXe6ibOG6nCnZG84jkMKk4BcI5UZIVuh8u%2BCn7T3i3x9o/wATdP8AiP8ADDTdD8TfCvWTp2u2GgeKH1XTbmQ6Xa6lH5F5JaWzk%2BTdxK6SW6NG4PDKUdvRfilofj7xN8Nte8O/Cvx3beFvEt/pFxb6F4lvNFGoxaXdvGViuWtTJELgRsQ/ll1DbcE4Jry39lr9mn41fs4/CGH4T3Xxd8E6sInvJrjV7L4eX1tc6jd3CF3vrx7jWLlrm5kumeeaRmHm79gEeA1ACfsCfteal%2B2v8ELP423Gn/Du1tdRs7O4t7PwB8Tm8TNZPNbpM9rfObC0Frcx%2BYqtEBJznJGBnzL/AIKT/D7/AIWp45k8ApB5k2ofsufFAWiYzm4S98JyQ/8AkRUr2D4Afs5/ED4efF3xl8ffjF8T9C8R%2BKvGOiaNo1wPCng6TQ9Ot7LTHv5IP3Et7eSyTs%2Bo3AeV5iNiQoqIEJbkta%2BDHwf8K/8ABSvwh4u8K/Cvw5per%2BLvg146PirVtN0SC3utZK6r4SCm6ljQPcFQ7gFyxG9sdTWWIpRxFCdJ7STX3pr9TDFUI4rDVKMtpRcfvTX6nzv/AMEm/iD/AMJ/%2B1ffeK3n8ybX/wBmzwVc3b5%2B/cW0f2SY/wDfxHr9E6/JH/glDq93%2Bzf%2B1d4M0Dxi5bTNa07xR8KUvZDg2utaXrEuoxxyHoPMguUjQHBLcDpX63V89wnWdXKmpfEpO69eV/jr%2BJ9pxLVnj8oyHMd41suwav3nRhPD1V6wqUXGS3Tt3QUUUV9MfJBRRRQAUUUUAFFFFABRRRQAUUUUAFFFFABRRRQAUUUUAFFFFABRRRQAUUUUAFFFFABRRRQAUUUUAFFFFABRRRQAV4z44/5SF/C//sjPjz/07eEK9mrxnxx/ykL%2BF/8A2Rnx5/6dvCFAHs1FFFABXkP7a/xI8ffDz4T6RZfDLxK2hax4s8f%2BHfDEPiJLSGd9Ji1DU7e3nuY450eJphC8gi8xHjErRl0dQUb16ud%2BLHwn8A/G/wABXvwz%2BJuhtqGj37wSTQxXs1tLHLDMk8E8M8DpLBNFNFHLHLE6yRyRo6MrKCAD50sPjL%2B1RP8Ash/FCw8G%2BINR8VeO/h98Rrvwzb%2BKLXQbWXUr7S4r61aa/js4Ykt57%2BDTrmXESRCOa5tQBCBJ5VeLeNP%2BCouvfDf4CfEj4e638f5fDviqz%2BJN74U%2BH/xG%2BMWjWPh6%2B%2BwR%2BHNM1ufUbqyuLe0gF1ENQa3t7drZDNI1kZIdrzEfZ/hb9lH4L%2BCPh7dfC/whZ%2BJNN0i9tJ4boWfjzWI7qV57qS6nuzdC7%2B0fbZJ5ZJHvfM%2B0uW%2BaUgADT8Bfs9/CT4a/DK/%2BEPhLw3OmiasbttYF/rF3eXeoyXIInmuby4le5uJnBwZZJGkwFG7CjABzX7Of7Qmj%2BOf2LfA37R%2Bt%2BKJfFEWp%2BBNN1LVdU8KaVJqsl7ctbx/aDDbabFI8r%2Bd5gMcMZKkMAo2kD8/f2CfFvhz4t/8ABWf/AITW3W8gsPCXhf4i30aapplxZ3MLXPxB10AS21wiTQylL9FMUiLID8pUHIr9SfBnhDw78PfB%2Bk%2BAfCGnfY9J0PTINP0u0855PItoY1jjTc5LNhFUZYknGSSea/Ln/gk9os2v/wDBTb9q7xvKSyaF8SdV0mE9kW58Z3UxX8Wt2NeLnF51MJT71ov/AMBjOX6I5asXPG4ddpSl/wCAUqjV/nK3q0fqH/wmGk/8%2Bmqf%2BCO7/wDjVL/wmGk/8%2Bmq/wDgju//AI1Xzt4%2B/wCCyP8AwTe%2BF/jvWvhp45/aN%2Bw634d1a50zWLL/AIRDWJfs91bytFLHvjtGR9row3KSpxkEjmsn/h%2BX/wAEtP8Ao6H/AMsnW/8A5CraWeZLCTjLE001/fj/AJn6NR8LfEzEUY1aWSYuUZJNNYeq000mmmoWaaaafVNPqfT/APwmGk/8%2Bmq/%2BCO7/wDjVH/CYaT/AM%2Bmq/8Agju//jVfO3gH/gsj/wAE3vih470X4aeBv2jft2t%2BItWttM0ey/4RDWIvtF1cSrFFHvktFRNzuo3MQozkkDmu%2B/b%2B%2BMHxM/Z9/Ym%2BKfxx%2BDdpps3ifwl4H1DVdHXV5mS3WWCFpN77Y5N21QzBNuHZQhZAxdevC43B42Llh6kZpb8rTt62Pn884Z4k4YrQpZxgquGlNNxVWnOm5JOzaU0m0no2uuh6X/wmGk/8%2Bmq/%2BCO7/wDjVH/CYaT/AM%2Bmq/8Agju//jVfPep/tufG3wr8Q/HPgv4hfArwJoWn/DL4eWnibxz4nu/ipdGxt3u4tUa3trbGjiWdQ%2BnxiWV0iKJcFo45nQRScz8Nv%2BClWr/FXVPDOh6t8J9X8L63F8aJfB3iHSFlvLaGRD4P1DX4Z9usaPaXrwukMSbfs9pIJUDLLJCpW46Twz6q/wCEw0n/AJ9NV/8ABHd//GqP%2BEw0n/n01X/wR3f/AMar55/ZK/b5%2BJP7Q%2Bn6JceOf2YP%2BEfu/Fnwm0X4g%2BE9L8PeNYdVnutOvmCPBObiCyit7iEvExUPIjo%2BQ4ZTHXR/8FH/ABR8Xvh3%2BylrvxV%2BCvxh1Hwdq/haSDUWuNO0qwu/7QiEixtaSre28yrE%2B8FmjVZPkAV1yTQB7H/wmGk/8%2Bmq/wDgju//AI1R/wAJhpP/AD6ar/4I7v8A%2BNV51%2B238UPHHwk/Z8uNe%2BG2rx6brmseLfDPhnT9YktUnGltrOvWGkG%2BEcgKO0C3zThXBQmIBgVyDR/Y88d/EfW7z4p/CX4m%2BPLrxZefDH4lnw7Z%2BK9RsrW3u9VtZtF0nV43nSzhhtxLH/ahtiYoo1b7MG2hi1AHqf8AwmGk/wDPpqv/AII7v/41R/wmGk/8%2Bmq/%2BCO7/wDjValFAFTS9b07WPMWykk3wkCWKe3eJ0z0JVwGAPODjBwat1lWn/I7ah/2C7P/ANGXNatABRRRQAUUUUAFFFFABRRRQAUUUUAFFFFABRRRQAUUUUAFFFFABRRRQAUUUUAFeM/sv/8AJb/2jv8Ass1j/wCoV4Xr2avGf2X/APkt/wC0d/2Wax/9QrwvQB7NRRRQAUUUUAFFFFABRRRQAUUUUAFFFFABRRRQAUUUUAFFFFABRRRQAUVm%2BM/GPhX4d%2BD9W%2BIHjnX7XStE0LTZ9Q1jVL2UJDZ2sMbSSzSMeFREVmJ7AGuV%2BEn7THwY%2BNvhHWPG3gbxPdRWXh25a38QxeI9CvdFutLcW8dz/pNrqMME8AMEsUys6KrRyK6kqQaAO8rxnxx/ykL%2BF/8A2Rnx5/6dvCFdN8BP2ovgl%2B01YX%2BofB3xPe3o0wW73lvqvh2/0q4WG4j8y3uFgvoIZJLeZAzRXCqYpQjbHba2OZ8cf8pC/hf/ANkZ8ef%2BnbwhQB8R/ET4IeIvEt7%2B2F8K/h0Gg8ZfDH4saT8XfAckaZdb%2B4s/tjmMfxM8cMkeB/G6Z6V%2Bhn7N3xu8OftJfAXwl8dvCpUWfijQ4L4Qq277PKy4lgJ/vRyB4z7oa%2Bc/2jfBX7SX7Kv7YWs/t2fBH4PD4keEvFHhKy0j4heENHuDHrVubV2KX1pGRtusRkL5Q%2Bc8gAA7l8P/AOCYv/BR/wDY5%2BBviH4hfs26/wDGO18PeC/%2BEwk1n4Xz%2BIreW0W0s73Mtxpcu5dts9rPuUiQgMZGZWZcMfi8JiaGT5p7KvLkU3OPvaJ2lKdOSb0acZyg9dGkmldX%2Bl4RqRz3gXEcNy/33AV6lfDwfxVcNXnavGkv%2BXns5%2ByrOMOaUU6rcN2fplRWP4J%2BIfgD4l6KniX4ceONH8QadJ/q7/RNTiu4G%2BjxMyn862K%2BzjKM480XdeR87Up1KM3CpFxkt00016ppNfNIKKKKZAUUUUAFFFFABRRRQAUUUUAFFFFABRRRQAUUUUAFFFFABRRRQAUUUUAFFFFABRRRQAUUUUAFFFFABRRRQAV4z44/5SF/C/8A7Iz48/8ATt4Qr2avGfHH/KQv4X/9kZ8ef%2BnbwhQB7NRRRQAUUVm%2BMPGXhD4eeF7/AMceP/Fem6Houl2zXGp6xrF9HbWtnCoy0ksshCRoB1ZiAKANKiuc0z4w/CPWvhkPjXo/xS8OXfg06e9%2BPFttrlvJphtEBL3H2pXMXlKFbL7to2nJ4rntW/a9/ZN0H4aad8aNc/ag%2BHdl4O1i7a10nxZd%2BNbCPTL2dd%2B6KG6aURSOPLkyqsSPLbj5TgA9Er83f%2BCNnhmWL43ftkePJF41D9qbU9PVv%2BvbxPqT4/K5Ffo5pupadrOnW%2BsaPfwXdpdwJNa3VtKJI5o2AZXRlJDKQQQRwQc18V/8EnvCraH4B/aF16WMBta/bT8cTo%2BOTGniQQgfg0cn515%2BLpe0xeHf8spP/wAka/U6sNhpVIVcR0px/wDTkoQX5M%2B2qK%2BYvH//AAU1/wCEC8d634F/4d8/tPa1/Yur3Nh/bGgfCf7TYX/kytH59tL9pHmwvt3o%2BBuVlOBmsj/h7D/1jU/a0/8ADN//AHVWcs6yyMnF1NV/dn/8rPnJcQ5NCTjKrqtPhqdNP%2BfR9aVi/Ef4eeDPi58Ptc%2BFXxG0GLVfD/iXSLnS9c0ydmVLq0uImimiJQhgGRmGVIIzkEHmvnzwD/wU1/4T3x3ovgX/AId8/tPaL/bWr21h/bGv/Cf7NYWHnSrH59zL9pPlQpu3u%2BDtVWODivZv2k/GHxO%2BHnwC8X/EH4M%2BHLTWfE%2Bg6Bc6lo%2Bi3sLumpSQIZTagI6EPKqNGjbsK7qxDAFT14bGYbGRcqMrpb6SX/pUY/qduDx%2BDzCLlh5cyWj0kvP7UY/hcxoP2Nf2eF8K%2BKfB2p%2BENS1ez8a%2BG7fQfFUviLxXqep3WpWEH2nyY5Lm7uZJ96fa58ShxKNy/P8AIm3O8D/sFfstfD3Ul1zw/wCAtSm1IeLh4ol1bWvGOraleXGrjSJtGF3NcXl1LLOw0%2BeW3xIzLtKnG5EZfDfEf/BR/wCJvxI8LXPjH9lxtD1Ww8R%2BO5tI%2BFEsXhJdUbxBp1hpC3Wq3sjXOt6VbQxxXfnwB2uF2izcBJWkHl8T4N/bq%2BI3xc8R6J8eLL7Ta6d48%2BGX7O%2Bqx%2BFG1%2B9%2Bw6VP4i8Xa7bX8kH2aeLc5i8lGY5SdbWFZkliXyj0nYfYfhj9k74EeCbHRLDwd4TvdKXw54GtPB2iTad4j1CGa00W1eN4LVZUnDnaYo8yFjIwBDOwZgbf7Rf7Nvwn/as%2BHEnwk%2BNVnrt1oE10lxc2eg%2BMdU0R7hlVgEll025glli%2BckxOxjLKjFSyIV%2BU/gn%2B1T%2B1B8bv2pPhB4w1PxV4R/sTx38LfH%2Bt%2BHPh7pV1e6e1rJZ3%2BjQW0GrSma4S6lj80o1wltEbaR7hFikzk%2B3ftv6t4kn0z4UfDeXxVqvh3SPHfxXsND8Z6l4b1240%2B6hszp9/dJBDe27RT2/n3trZ2vmRtHIy3BVSpcUAd9rn7Nvwm8U/Dy5%2BFXi%2Bx1vWtCvPDsGiXVnrni/U71pbaFmeOQyz3DSfagzbvtm77SWSNjKTGhXQ%2BDnwU%2BHHwE8Iv4J%2BGWkXVtZzX899eT6lrF1qN5e3UzbpLi4u7yWW4uZW4BeWR22qq52qoHgPwi1H9oX4p/8ABNvxvofwn%2BJN3P40s9S8d%2BHPAPizWNVLXFxb6fr2qafplxJeShy0ptbaAfa3Dl2xO2/cc/Pd98Sf2htR1HXP2bfB1n498P2k3x48O6J4a8L%2BO/jRejUrp5fDV1qeo6PeeJtPur%2B605Atqt%2BhhmuZCZYbfCrdeVEAfpbRX53WOu%2BMfiX%2Bxx8P9A8N/Gr4j3X7QWr33iDw14Dt9K%2BI%2BpLbadf6Zrt3aXWp36xXAh1fTNOMSI15fJIb2GK3XYJ71Y29o/aPsvHPwz/bc%2BEfxJ8MeJdW0/wz4t8bpo3iS7X4qaveJeXLaTqCx6YvhuX/AIl0EBMFvO19A32hJI2Jh2NLNQB9K2n/ACO2of8AYKs//RlzWpWXaf8AI7ah/wBgqz/9GXNalABRRRQAUUUUAFFFFABRRRQAUUUUAFFFFABRRRQAUUUUAFFFFABRRRQAUUUUAFeM/sv/APJb/wBo7/ss1j/6hXhevZq8Z/Zf/wCS3/tHf9lmsf8A1CvC9AHs1FFFABRRRQAUUUUAFFFFABRRRQAUUUUAFFFFABRRRQAUUUUAFFFFAHmH7anwh8VfHz9kz4h/B3wK9qNb8QeFLy10eO%2BlKW810YyYopWAJWJ3Co7YOFZjg4wfF1%2BCPx2/aA8P/tDN4y%2BDWt/Dyb45%2BDZPDWi2ur6tpdzLoqwaLJaLeXpsbyZA01xeTLGsDTERWiNIYi4QfW9FAHzv%2ByP4L%2BNur/HLxd%2B0N8YvgndfDw6n8OPCXhCz8N3%2Br2F5NNNpU2s3Nzdq9jPNGLZn1ZYoQzLLiCRnjj3qtLf%2BC/Enh7/gpt4L8Rat8XPEOu2erfB7xw9hoOq22nJaaKF1bwllLZra0incPuGftEs5%2BQbSvzZ%2Bh6%2BcP2j9X%2BNej/t4fCef4HfD/wALeItSb4R%2BO1u7TxX4wudFgjg/tTwkS6S2%2Bn3rO%2B7aNhjUYJO/ICkA%2Bj68Y%2BMv/BO/9iT9oLxVceOfi9%2Bzb4a1fWbtQLvVfszQXFxjo0jwsjO2ONzEnAAzgCl/4Tj/AIKF/wDRr/wZ/wDD8at/8y9H/Ccf8FC/%2BjX/AIM/%2BH41b/5l6xr4fD4mHJWgpLs0mvxTOfE4TC4yn7PEU4zj2klJfc0zy7U/%2BCGH/BLzUd7J%2BzW9q7nO%2B18Y6uuPoDdlR%2BVc/d/8EAP%2BCc8zlrLwn4rsweiW3i%2B4wP8Avvca9x/4Tj/goX/0a/8ABn/w/Grf/MvR/wAJx/wUL/6Nf%2BDP/h%2BNW/8AmXrzpcP5FPfDU/8AwFL8rHJSyTJKLvDC0l/3Dh/8ieByf8G%2Bn7Aj/cuvH6Dsq%2BLjgfnEahb/AIN6/wBgonMes/EWM%2BqeLF/rDXrWk/tHft26x8Z9f%2BB1v%2Byh8JF1Tw74X0jXby5f466p5EkGo3OpW8KIR4Y3F1bS5ywKgAPHgsSwXqP%2BE4/4KF/9Gv8AwZ/8Pxq3/wAy9Z/6t5A/%2BYaH3f8ABOlYDLV/zDUv/BVJ/nBnz2f%2BDe39iBf%2BPfx38Uof%2Bufi6L%2BtsaP%2BIfX9jleIvi/8YE/3PGUH/wAi19Cf8Jx/wUL/AOjX/gz/AOH41b/5l6P%2BE4/4KF/9Gv8AwZ/8Pxq3/wAy9L/VrIP%2BgaP3P/5Ir6nl/wD0D0v/AAVS/wDkD55k/wCDfT9j6YYm%2BM/xjcejeMrc/wDtpUQ/4N5v2NEOYfjB8YIz6p4utR/7Z19F/wDCcf8ABQv/AKNf%2BDP/AIfjVv8A5l65fwD%2B0d%2B3b8RPFfjfwho/7KHwkhuPAfiiLQtVkufjrqgSeeTStP1MPFt8MElPJ1GFSWCnejjGAGY/1ZyD/oGj%2BP8A8kUsJgF/zD0v/BNJ/nTZ48f%2BDfH9kvGF%2BPvxrX02%2BMrT/wCQqYf%2BDe79lE9P2ifjgPp4ys//AJBr6M/4Tj/goX/0a/8ABn/w/Grf/MvR/wAJx/wUL/6Nf%2BDP/h%2BNW/8AmXo/1ZyD/oGj/wCTf/JDWFwC/wCYaj/4Jo//ACo%2BcW/4N6v2Uz/zcf8AHL/wsbH/AOQKB/wb3fsuJ/qf2l/jmv08Y2X/AMg19Hf8Jx/wUL/6Nf8Agz/4fjVv/mXo/wCE4/4KF/8ARr/wZ/8AD8at/wDMvS/1ZyD/AKB4/wDk3/yY/q%2BB/wCgaj/4Iof/ACo%2BcW/4N8/2aD0/ag%2BOf4%2BMLP8A%2BQqik/4N6v2ZZPv/ALTnxub/AHvFdmf/AGyr2v4RftHft2/GXwpd%2BL/Dn7KHwktrez8Ua3oUkd78ddUVzPpeq3WmTuNvhhhsaa0kZDnJRlJCnKjqP%2BE4/wCChf8A0a/8Gf8Aw/Grf/MvR/qxkD/5h4/%2BTf8AyY1QwK/5hqP/AIIof/Kj5mf/AIN2/wBlt/v/ALSXxoP18TWR/wDbKmj/AIN1/wBlpfu/tIfGYfTxJZf/ACHX03/wnH/BQv8A6Nf%2BDP8A4fjVv/mXo/4Tj/goX/0a/wDBn/w/Grf/ADL0v9V%2BH/8AoGj/AOTf/Jl8mCX/ADC0P/CfD/8Ayk%2BZD/wbtfsvn/m5T4zf%2BFJZf/IdIP8Ag3a/ZhHT9pb4y/8AhR2X/wAh19Of8Jx/wUL/AOjX/gz/AOH41b/5l65f4I/tHft2/Hj4MeEPjj4V/ZQ%2BElrpfjPwvp%2Bu6bbah8ddUWeGC7to7iNJAnhhlDhZAGCswyDgkc0f6r8P/wDQNH/yb/5MfJgv%2BgWh/wCE%2BH/%2BUnho/wCDd39mUdP2mfjOP%2B5ks/8A5DpR/wAG8f7Ni/d/af8AjQPp4ls//kSvpn/hOP8AgoX/ANGv/Bn/AMPxq3/zL0f8Jx/wUL/6Nf8Agz/4fjVv/mXo/wBV%2BH/%2BgeP/AJN/8mJ08E/%2BYWh/4T4f/wCUnzP/AMQ837N//R0Pxp/8Kaz/APkSkP8Awbx/s1t1/ae%2BNB%2BviWz/APkSvpn/AITj/goX/wBGv/Bn/wAPxq3/AMy9cv8AG79o79u34D/Bjxf8cfFX7KHwkutL8GeF9Q13UrbT/jrqjTzQWltJcSJGH8MKpcrGQoZlGSMkDmj/AFX4f/6B4/fL/wCTF7PBf9AtD/wnof8Ayo8MP/Bu9%2BzQev7TfxmP18R2f/yJR/xDu/sz/wDRzXxm/wDCjs//AJEr6b/4Tj/goX/0a/8ABn/w/Grf/MvR/wAJx/wUL/6Nf%2BDP/h%2BNW/8AmXo/1X4f/wCgeP8A5N/8mPkwX/QLQ/8ACfD/APyk%2BZP%2BId79mj/o5v4zf%2BFHZ/8AyJR/xDvfs0f9HN/Gb/wo7P8A%2BRK%2Bm/8AhOP%2BChf/AEa/8Gf/AA/Grf8AzL0f8Jx/wUL/AOjX/gz/AOH41b/5l6X%2Bq/D/AP0Dx/8AJv8A5MfJgv8AoFof%2BE%2BH/wDlJ8yf8Q7n7M//AEc18Zv/AAo7P/5Eo/4h3P2Z/wDo5r4zf%2BFHZ/8AyJXufxd/aO/bt%2BDXhS08X%2BI/2UPhJc2954o0TQo47L466ozifVNVtdMgc7vDCjYs13GznOQisQGOFPUf8Jx/wUL/AOjX/gz/AOH41b/5l6P9V%2BH/APoHj/5N/wDJhyYL/oFof%2BE%2BH/8AlJ8x/wDEO5%2BzMev7TPxl/wDCjs//AJEo/wCIdv8AZm/6OZ%2BMv/hR2f8A8iV9Of8ACcf8FC/%2BjX/gz/4fjVv/AJl6P%2BE4/wCChf8A0a/8Gf8Aw/Grf/MvR/qvw/8A9A8f/Jv/AJMOTBf9AtD/AMJ8P/8AKT5jP/Bu1%2BzMf%2BbmPjL/AOFFZ/8AyJSf8Q7P7Mp6/tMfGT/wobP/AORK%2Bnf%2BE4/4KF/9Gv8AwZ/8Pxq3/wAy9cv4%2B/aO/bt%2BHfivwR4Q1j9lD4STXHjzxRLoWlSW3x11QpBPHpWoamXl3eGAQnk6dMoKhjvdBjBLKf6r8P8A/QPH/wAm/wDkw5cH/wBAtD/wmw//AMpPCf8AiHX/AGY/%2BjlvjH/4UNl/8iUH/g3W/ZiPX9pX4x/%2BFDZf/IlfT3/Ccf8ABQv/AKNf%2BDP/AIfjVv8A5l6P%2BE4/4KF/9Gv/AAZ/8Pxq3/zL0f6rcPf9A0f/ACb/AOSHy4P/AKBcP/4TYf8A%2BUnzAf8Ag3V/ZhPX9pT4xf8AhQWX/wAiVu/sl/8ABOn4YfsB/wDBQvwx/wAK3%2BJXjHxD/wAJZ8GfF323/hLNQhn%2Bz/ZdW8MbPK8qGPbu%2B0NuznO1cYwc/QX/AAnH/BQv/o1/4M/%2BH41b/wCZeqHgfwP%2B1Z4x/as8OfG743fDj4e%2BGdG8M/D3xDocMPhX4h32tXV3dalfaJcIzJcaRYpFGiaXKCwd2LSoAuMkdGFyHJ8FXVahRUZLZq/XTrJ9PITWGS9zD0YvvGhRhJekoUoyXnZq60emh7rRRRXriCvEP2/vDfiLXfgno2raJ4U1LX7Tw38S/Cuv%2BIND0fTpLy6vNNsdatLm4MVtErSXLwrH9pEKK0kn2faiu5VT7fRQB8XeGvh7afEn9k/4t%2BHvF%2BheOvCOneJ/iXf%2BPPCdt/wrLVLq7s7WLWYLu1lfTRb%2BZM1xe2b3kmnYW5eG7IeONpDjO%2BDF38V/Bfwb%2BL3j34x%2BP/it4fuPi18WZNV8I%2BJfhx8B75tUsrWLRNIsmlGhXFjqkumRTT6fdFVvYmdkcSMySzDH3FRQB4l%2Bx74D%2BK/gn/gn/wDDX4a6boOmeA/Fuj/DjStPh07W9Nn1G30iaG1jjCTQLdxySEKuGj%2B05ViR5jbcnkf%2BCffhHU/Bn7K2uv4k1a11DVrn49eO9Q8Q6hp2nPa281yPHWp%2BfLFA0szwxYjJCNLIyqMF3xuP03XyV%2ByV4s/bO0/4e%2BKLP4Y/AP4YavoSfGn4i/2fqOvfF3UdNu5l/wCEz1ksZLaLQLlIiG3AATPkAHIJ2hNJtPsXGpOMJQT0la/nZ3X3PU%2BoP%2BE58E/9Dhpf/gwj/wDiqX/hOfBP/Q4aV/4MI/8A4qvLf%2BE4/wCChf8A0a/8Gf8Aw/Grf/MvR/wnH/BQv/o1/wCDP/h%2BNW/%2BZemQepf8Jz4J/wChw0r/AMGEf/xVH/Cc%2BCf%2Bhw0r/wAGEf8A8VXlv/Ccf8FC/wDo1/4M/wDh%2BNW/%2BZej/hOP%2BChf/Rr/AMGf/D8at/8AMvQBqX3wM/Yo1T4caT8HdT%2BDvwtuPCOgXv2zQvCs/h7TX03TbndI3nQWxTyoZN0sp3ooOZHOfmOdDT/hx%2ByjpNra2WleA/h7bQ2VppNpZQ2%2Bl2KLbwaXPJcaZEgCgIlpPLLLbqMCCSR3jCsxJ8z%2BCP7R37dvx4%2BDHhD44%2BFf2UPhJa6X4z8L6frum22ofHXVFnhgu7aO4jSQJ4YZQ4WQBgrMMg4JHNdR/wAJx/wUL/6Nf%2BDP/h%2BNW/8AmXoA1bH4H/sVaX4p1vxzpnwg%2BF1vrfiWC6h8R6xB4f01LrVY7rH2lLmUJvnWXavmByQ%2BBuziug8b6V8APiZ4Iufhl8SNN8HeIPDd5CkV34e1yG0u7GeNGVkR4JQ0bKrKpAK4BUEdBXFf8Jx/wUL/AOjX/gz/AOH41b/5l6P%2BE4/4KF/9Gv8AwZ/8Pxq3/wAy9AHVDwT%2BzCPD1v4RHhHwGNJtPDc/h610v7BZfZ4dInEazacke3atrIIYg8AHlsIkBU7RjKX4I/sWJ8Jv%2BFCJ8IfhcPAvn%2Bf/AMIWNA07%2ByfN8zzN/wBj2eTu3/Pnbndz15rgvjd%2B0d%2B3b8B/gx4v%2BOPir9lD4SXWl%2BDPC%2Boa7qVtp/x11Rp5oLS2kuJEjD%2BGFUuVjIUMyjJGSBzXUf8ACcf8FC/%2BjX/gz/4fjVv/AJl6AHeL/wBlz/gn18QYtGg8e/s6/BvXE8O6UumeH01fwjpNyNMsVbctrbiSI%2BTCDyI0woPOK3bD4W/sj6X8WLj496Z8OfhxbeOrtCl140g0iwTVplMYjIe8C%2BcwKKqEFvuqB0GKwP8AhOP%2BChf/AEa/8Gf/AA/Grf8AzL0f8Jx/wUL/AOjX/gz/AOH41b/5l6APTND1Cx1fxTqGpaVdx3Nt9htYhcQOGQurzsyhhwSA65x6itqvGf8AhOP%2BChf/AEa/8Gf/AA/Grf8AzL1y/wAXf2jv27fg14UtPF/iP9lD4SXNveeKNE0KOOy%2BOuqM4n1TVbXTIHO7wwo2LNdxs5zkIrEBjhSAfR1FeM/8Jx/wUL/6Nf8Agz/4fjVv/mXo/wCE4/4KF/8ARr/wZ/8AD8at/wDMvQB7NRXjP/Ccf8FC/wDo1/4M/wDh%2BNW/%2BZej/hOP%2BChf/Rr/AMGf/D8at/8AMvQB7NRXzj4%2B/aO/bt%2BHfivwR4Q1j9lD4STXHjzxRLoWlSW3x11QpBPHpWoamXl3eGAQnk6dMoKhjvdBjBLL1H/Ccf8ABQv/AKNf%2BDP/AIfjVv8A5l6APZqK8Z/4Tj/goX/0a/8ABn/w/Grf/MvR/wAJx/wUL/6Nf%2BDP/h%2BNW/8AmXoA9morxn/hOP8AgoX/ANGv/Bn/AMPxq3/zL1y%2BrftHft26P8Z9A%2BB1x%2Byh8JG1TxF4X1fXbO5T466p5EcGnXOm28yOT4Y3B2bVICoCkEJJkqQoYA%2BjqK8Z/wCE4/4KF/8ARr/wZ/8AD8at/wDMvR/wnH/BQv8A6Nf%2BDP8A4fjVv/mXoA9morxn/hOP%2BChf/Rr/AMGf/D8at/8AMvR/wnH/AAUL/wCjX/gz/wCH41b/AOZegD2aivnHSf2jv27dY%2BM%2Bv/A63/ZQ%2BEi6p4d8L6Rrt5cv8ddU8iSDUbnUreFEI8Mbi6tpc5YFQAHjwWJYL1H/AAnH/BQv/o1/4M/%2BH41b/wCZegD2aivGf%2BE4/wCChf8A0a/8Gf8Aw/Grf/MvR/wnH/BQv/o1/wCDP/h%2BNW/%2BZegD2aivGf8AhOP%2BChf/AEa/8Gf/AA/Grf8AzL1y/gH9o79u34ieK/G/hDR/2UPhJDceA/FEWharJc/HXVAk88mlafqYeLb4YJKeTqMKksFO9HGMAMwB9HUV4z/wnH/BQv8A6Nf%2BDP8A4fjVv/mXo/4Tj/goX/0a/wDBn/w/Grf/ADL0AezV4z%2By/wD8lv8A2jv%2ByzWP/qFeF6P%2BE4/4KF/9Gv8AwZ/8Pxq3/wAy9W/2Vvhz8afB%2BsfFDx38dNA8L6Tqnj74hRa5Z6V4T8S3OrW9raxaDo%2BmKr3FxZWbNI0mnSuVEW0LIg3Mc4APW6KKKACiiigAooooAKKKKACiiigAooooAKKKKACiiigAooooAKKKKACiiigAr5X/AGnv2tPi58MPjH4s1rwD4d8HyeGPg/4f8P3vjU61pFxNquqW%2Br38qXMFhcR3EaWXkW1nHcZkinFzIUjIh8vzT9UV4z8Z/wBiH4cfG74pH4ma5458VaXFqNrpFr4v8NaNdWqad4pg0u9kvbGK%2BWW3kmCxzTS5%2BzywGWOQxTGWMKgAPZqKKKACiiigD5j8OftK/EyH9v8A8UfB/wCI2seHvCfhtfEFpongyLUfhFrKXXjGAaBBqOIPEbXa6c0sd3c6gBaCF5PLtJgFBZpF%2BnK8r8WfstQeP/jJpHxT8e/G/wAa6vpXh7XY9a0DwBcHTItGsdQjt3gjnDQ2SXsuzzJJFSa6kjEj7tnyIF9UoAKKKKAPF/8AgoL8Xfjh%2Bz9%2ByP40%2BPXwCvfCkeseCdCu9cuoPGGi3N9bXdpa20sz26JbXVsySuyIokLlUBYlH4Fef%2BPP2tPi54L%2BPHi3U/Cnh3whF8PPCHxj8I/D7xlZzaRcHW9V1XXYNFSPUIbtLhYY44P7c0mMxSW8ryJDPiWPagr2H9rH9nGy/a0%2BBGvfs%2B618VfFPhHSfE9lLY65f%2BEF077Xc2UsTxTW26/tLqNEdX5ZEWQFRtdec8XB%2BwD4On%2BItn8RfFXxx8fa6x1nSdc8TaNqEulRWPifXNMSNLHVr2O2sImW4iEFphbZoIGNjbF4mMeSAe90UUUAFeL/ALZPxd%2BOHwStfAPjH4WXvhT%2BxtQ%2BJnhzw94vsfEGi3NzdXNrqus2Omg2csN1CltJGtzLJvkSdSURdnJNe0V5V%2B1d%2By2/7VXhvQvC8/x98b%2BBrfQvElhrqN4Lh0dnu72xvILyzaU6lp94NsVxbxuFjCBuVk3qdoAPOP2ef2lfiZrf7VXi34I/FDV/D3hPTofFOt2/gnwlJ8ItZ0y5162hdJTf2%2BtXF39g1B2Mk0ssVtAX5LsVwxP05Xkuk/soh/jJovxl%2BI/7QHjvxrN4Xu7y78J6F4hGkw2Gj3VzbyWslxEthp9tLK/2eaeFfPklVFnfaASCPWqACiiigDw/9u74ufHj9n74Nav8dfhR4x8C2On%2BFtFuby90XxZ4Zvb%2B58Q3uUWz0yzktr2D7PNcSkW6N5V0zSzxBYWPyt5/8Ef2vvjPrnxL8Ff2t4M8JaR8NPG/xP8AFHw28K%2BGtO0uaPV9Ev8AQIdW3zz3IuGt5oJG8P6miwx28RjVrY%2BZJlgPT/2lf2QYP2kvHngj4gTftA%2BO/CFz4Bu7m90Wx8MRaNPZyXsqCNbyaDU9OvEeeGPzFhkAUxieUj5myKvgP9hr4e%2BA/jLb/F2H4i%2BLtSg07XdT17RPCGpXNl/ZOla3qMbx6hqkCRWqT%2BfOJ7ssrzPCjX1yY4o/M4APa6KKKACvl/8Aa5%2BPH7S/wW%2BImn%2BFNKh8AeNdH8cw61baL8OYvB99JrCWtpod1dyX9xOL14rq2F1Fb20kItYgft8KCYyMiSfUFeHTfsTXEf7R/iv9prRP2q/iXp2r%2BLdNh0650uGDw/PaafZwwNHDbWbXOky3NvEsrvdbFm2vO5dw4O2gBn7CH7Qfjf49/D28uviv4%2B0a%2B8XacLNtf8N2Xwu1fwjeaA89ssogubLV7qe4cFt/l3ACRyKh2htpNe6V5v8AA79m7Tvgz4n8SfEPWPil4p8ceKvFcVjb6x4n8XNYLcvaWYm%2By2qRafa2ttHFG1zcuNsIZmuJCzNkY9IoAKKKKAPjn/goJ%2B3H8VP2MPHP9p65ougeMfCL6NqOt2/hWX4c6nZS26abo19qSSf8JFNdPpk939r00bLFYEuhHMsoG2FpG9e/Zo%2BLvxz1b4qeN/2ev2jrnwpqHifwjpOh61HrXgrSLmwsbmx1QXkaRGC5ubl1liuNOu1L%2BbiRDE2yMkqK3x1/YS8EftOa1dWvx/8Ai3418UeC7mS4kX4ZXkmmw6LFJNYzWTNvt7KO%2BkAjuJmCS3ToHfdt%2BRAvT/s%2BfszaR8A7zXvEV38UPFnjjxH4kNnHq3irxrcWb30ttaRGK1tR9jtreFYog8rDEe9nnld2dnJoA9KooooAK%2BI/2p/2yv2s/g38avEHwo8HeG/DnjXU7DRbjXfDAT4H%2BII5NFA1HTLVDC325x4mkFjqlx539l%2BU8LQlZRGJhHX25Xh%2BvfsW6n4l8en4na1%2B1z8UZtb0%2BC8i8G3hTQAPCq3U0Mk/2SMaTsnZo4Ft916t0yxM4Uq7s5AOq/ZY%2BLD/ABk%2BEcHiy9%2BJmjeKr%2BHUbqy1S%2B0bwZfeHRbXEUrK1rNpuoXE91ZzxjCvHM4fPzbVDAV6NXDfAP4C%2BHvgB4Z1PRtK8U634g1HX9euNb8SeJPEc0DXuq38wRGnlFvFDAmI4oYlSGKONUiQBRgk9zQAUUUUAFFFFABRRRQAUUUUAUfFHiGw8JeGtR8V6qHNrpljNd3IiXLeXGhdsDucKa%2Bc/wBib9pP41%2BP/FOj%2BDPjZ4e8GWY8dfC2y%2BI3hmHwZpVxaDTI7y4Ju9PuzNcSi7mje5tn%2B2IIBO0sxMEe0F/pa7tLW/tZbG9t0mhmjaOaKVQyupGCpB4II4xXkP7M37FfgL9mDVX1fQPiD4t8Sy23hix8M%2BHR4svbWYaBoVm8j2%2Bm2pt7eEtGpk%2BaWczXEgji8yZ/LXAB7FRRRQAVwv7UHjz4i/Cz9mj4ifE74P8AhRde8W%2BHPAur6p4W0NrGa6Go6jb2csttbGGBllmEkqInlxsHbdhSCQa7qs7xbol/4l8Mah4f0vxXqOhXN7aSQ2%2BtaQsDXVi7KQJohcRSxF1PIEkbpkfMrDIIB5d%2BxT8Wp/ih8M76y1b4heH9Z1Pw7qq6deaZonww1Pwc%2BhoLaCSKzuNK1S5nuYXCOJFdvLR4pYtiYG9/Yq88%2BA/7O2k/A688S%2BI7n4ieJPGPiTxfqMN54i8U%2BK3sxd3Rht0t4IhHY21tbRRRxoAqxwpks7MWZmY%2Bh0AFFFFAHy5%2B1R%2B1j8UP2cPi944sviVo3hLxF8L7D9nfxf49ttCt9EuE1V20QaWs9tcXMly9vNFOt9OAgtkKhEy75YV2/wCzP8X/AI%2Bap8XPGX7Ov7Sz%2BErzxR4Y8MeHvEseq%2BCtJubGykstWfUrdbYw3NzcuZYbjSLsGUSBZEeJvLjO5ag%2BMf7Cvh346fHVvjL48%2BO3jmXTZvBWp%2BEb74ewwaL/AGJd6NqS232%2B0kL6a16RO1pA7OLoOpQhGRGZD0n7O/7Luh/s%2B32teI5/ih4t8b%2BIdftbCyv/ABP42ubSS9NhYpItnZj7JbW8flRGe4cEoZHe5ld3dmzQB6fRRRQAV8ifGv8AaX/a28Ga7%2B0B4Et/CvgzxZe%2BAvD/AIU8SfDax0n4f6nfzrHqOq6lCEvLWK8eXUZ4F02OdTbC3JckKvyq1fXdeFy/sUeIYvjp42%2BP%2BhftofFbStW8b6RY6Zc2NlZ%2BGGtNNtrK4uZ7NLYS6K8n7o3l0oMzyl1nIk8wqhUA6v8AZU%2BLc3xl%2BFI8Taj8TtG8U6ja6rc2OrXWj%2BCL/wANmzuIm%2Ba1n0zUbie6tJ0UruSZgxDK21VYV6TXCfAP4B6B8AdC1mx0/wAW654j1XxN4gl1zxP4m8SS27Xuq38kMMHmyC2hhgjCwW9vCqRRRoqQoAuck93QAUUUUAfG37S37Xf7S37PHxmg%2BG2sp8M/Gt9rcEE3hGHTvC17aS%2BC7zUvEOmeHtIm1OV76YXUU7avOC0S2cjixuljDL5hi9x/ZV%2BL/wASPiMPH/w%2B%2BMR0SfxV8NPHjeGtZ1Xw1p01nYan5ml6dq1vcQ28088lvm11S3R42mlxJHJhiCMcLbf8E1fCTXXxDfxD%2B0v8TtZt/iTrx1zWLfUjoXmWepRXEM%2Bn3NtdRaWl0psHt7cWkbzSRRLCgZH5z6x8A/gLofwD8Patptl4v1zxJq3iLXpta8T%2BKPEr2xv9XvpI4ofOmFrBBAuyCC3gRIoo0WOCNQvBJAO6ooooAZc/afs0n2PZ52w%2BV5udu7HGcc4zXxB8Vv2uf20/hp8RNc%2BG1vbeA/GeveGL3w1b6t468EfBXX9Wj8OW%2BrNePe2EulWepT3dzNHDZWN0TFOn7u6haWBAYmk%2B3ruGS4tZbeG6kgeSNlWeIKXjJGAy7gVyOoyCPUGvnv4MfsBeIPgJ8Nrj4afDv9ur4xRR3WrPqc2s3ll4Tn1CW7leWS5nmmfQj9pkneXdJJOJHzGmwoBggHrPwE%2BIdl8Vvg74f%2BIVh8QNG8VJqeniR9f8P6TNYWl3ICVkKWs800tsVdWRoZJHeNlZWO5SB19cl8C/gv4S/Z9%2BF%2BnfCnwVc39xZWEt1cTX2q3Imur67urmW6urqZwqhpZrieaV9qqu6Q7VVcKOtoAKo%2BJ4fElz4b1C38G6nY2WryWUq6XeanYPdW0FwUIjklhjliaaNWwWRZIywBAdSdwvVm%2BMdBv/ABR4Wv8Aw7pfi3UtBuby1eKDWtHEBurFyOJohcRSxF1PIEkbocfMrDIoA%2BHvhv8At2fta/GD4p638EvhZpvw%2BTxnptrrt9J4z8V/C7WtDXVNM0i10WVLGXRLy%2BTUNPle78Q7EmnmePyoZLhIXWdAfsb4BfFrTfj58CfBXx10bTZbOz8a%2BEtN160s5n3PBFeWsdwsbEAZKiQAn1FeLav/AMEyPA%2Bta5ffEW7/AGlPimnxA1ZLy11r4k217pEOrX%2BmXVta202mFE00WcNsUsrRh5FtFKskCyrKHLMfoPwX4P8ADXw88HaT4A8GaTFp%2Bj6HpkGn6TYQ52W1tDGscUa55wqKqj6UAadFFFAHL/GnUfHGjfC3Wtb%2BHPiGx0vVrCzN1Dfah4PvfECJHGQ8oGnWM8FzeSNErqkUMgcuy4Vz8jfFvwl/4KI/H7xJ400PU/G9x4R8CeDNSnnXxB44vPgZ4imttYv4dfutIRLmVb6NPDM8lraWv7jVGklgeVY3zsCV9t/EzwZrvj3wlN4c8N/FLX/Bt5JLG8Wv%2BGYrF7uDawJVVv7a5gYMAVIeJuCcYOCPFbr/AIJzeFNQ8H3Hw21b9pD4m3fhjXNQmv8Ax5oE1xo4i8YXc9411cTX0q6aLiLzSywtHZy2sQhiSNUUbtwB9E0UUUAFFFFABRRRQAUUUUAFFFFABRRRQAUUUUAFFFFABRRRQAUUUUAFFFFABRRRQAUUUUAFFFFABRRRQAUUUUAFFFFABRRRQAUUUUAFFFFABRRRQAUUUUAFFFFABRRRQAUUUUAFFFFABRRRQAUUUUAFFFFABRRRQAUUUUAFFFFABRRRQAUUUUAFFFFABRRRQAUUUUAFFFFABRRRQAUUUUAFFFFABRRRQAUUUUAFFFFABRRRQAUUUUAFFFFABRRRQAUUUUAFFFFABRRRQAUUUUAFFFFABRRRQAUUUUAFFFFABRRRQAUUUUAFFFFABRRRQAUUUUAf/9k%3D\">"
            ]
          },
          "metadata": {
            "tags": []
          }
        }
      ]
    },
    {
      "cell_type": "markdown",
      "metadata": {
        "id": "m3gc3vWbZTVl",
        "colab_type": "text"
      },
      "source": [
        "# Submit the MLP with 2 hidden layers\n",
        "Run these cells after training the MLP with 2 hidden layers"
      ]
    },
    {
      "cell_type": "code",
      "metadata": {
        "id": "tbt3wbusZTVm",
        "colab_type": "code",
        "colab": {}
      },
      "source": [
        "## GRADED PART, DO NOT CHANGE!\n",
        "# Validation loss for MLP\n",
        "grader.set_answer(\"i8bgs\", s.run(loss, {input_X: X_val_flat, input_y: y_val_oh}))\n",
        "# Validation accuracy for MLP\n",
        "grader.set_answer(\"rE763\", accuracy_score(y_val, s.run(classes, {input_X: X_val_flat})))"
      ],
      "execution_count": 20,
      "outputs": []
    },
    {
      "cell_type": "code",
      "metadata": {
        "id": "qST6NdbdZTVo",
        "colab_type": "code",
        "colab": {
          "base_uri": "https://localhost:8080/",
          "height": 35
        },
        "outputId": "f82062af-2b29-4ed6-e143-d9d06769fc04"
      },
      "source": [
        "# you can make submission with answers so far to check yourself at this stage\n",
        "grader.submit(COURSERA_EMAIL, COURSERA_TOKEN)"
      ],
      "execution_count": 21,
      "outputs": [
        {
          "output_type": "stream",
          "text": [
            "Submitted to Coursera platform. See results on assignment page!\n"
          ],
          "name": "stdout"
        }
      ]
    }
  ]
}